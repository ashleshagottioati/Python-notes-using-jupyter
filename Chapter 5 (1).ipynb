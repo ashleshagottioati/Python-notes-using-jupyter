{
 "cells": [
  {
   "cell_type": "markdown",
   "metadata": {},
   "source": [
    "        Introduction to Programming: Python\n",
    "        Mahyar Vaghefi\n",
    "        University of Texas Arlington\n",
    "        \n",
    "        This document can only be used for class studies. \n",
    "        You are not allowed to share it in any public platform."
   ]
  },
  {
   "cell_type": "markdown",
   "metadata": {},
   "source": [
    "        The Material for this Notebook is Adopted from \n",
    "        Starting Out with Python (4th Edition)- by Tony Gaddis Pearson"
   ]
  },
  {
   "cell_type": "markdown",
   "metadata": {},
   "source": [
    "<h1 style= \"color:blue\" align=center>Functions</h1>"
   ]
  },
  {
   "cell_type": "markdown",
   "metadata": {},
   "source": [
    "## 1. Introduction to Functions"
   ]
  },
  {
   "cell_type": "markdown",
   "metadata": {},
   "source": [
    "<b>What is a function?</b> \n",
    "<ul>\n",
    "    <li><i>Function</i> is a group of statements within a program that perform a specific task.</li>\n",
    "</ul>    \n",
    "<br >\n",
    "<b>Note:</b> A large program can be written as several small functions, each one performing a specific part of the task.\n",
    "\n",
    "<br >\n",
    "<br >\n",
    "<b>What is a modularized program?</b> \n",
    "<ul>\n",
    "    <li>A program that has been written with each task in its own function.</li>\n",
    "</ul>"
   ]
  },
  {
   "cell_type": "markdown",
   "metadata": {},
   "source": [
    "<img src='https://www.dropbox.com/s/6hzy7dqgkvmcq02/Using%20functions%20to%20divide%20and%20conquer%20a%20large%20task.png?raw=1' width=500>\n",
    "\n",
    "\n",
    "<i>Source: Starting Out with Python (4th Edition)- by Tony Gaddis Pearson</i>"
   ]
  },
  {
   "cell_type": "markdown",
   "metadata": {},
   "source": [
    "<b>Note:</b> Benefits of using functions in a program:\n",
    "<ul>\n",
    "<li>Simpler Code</li>\n",
    "<li>Code Reuse</li>\n",
    "    <ul><li>Write the code once and call it multiple times</li></ul>\n",
    "<li>Better Testing</li>\n",
    "    <ul><li>Can test each function individually</li></ul>\n",
    "<li>Faster Development</li>\n",
    "<li>Easier Facilitation of Teamwork</li>\n",
    "    <ul><li>Different team members can write different functions</li></ul>\n",
    "</ul>"
   ]
  },
  {
   "cell_type": "markdown",
   "metadata": {},
   "source": [
    "<b>Note: </b>There are two types of functions: \n",
    "<ol>\n",
    "    <li><b>Void functions:</b> It executes the statements it contains and then terminates - No value will be returned. </li>\n",
    "    <li><b>Value returning functions:</b> It executes the statements that it contains, then returns a value back to the statement that called it (<b>examples</b>: <i>input</i>, <i>int</i> and <i>float</i> functions). </li>\n",
    "</ol>"
   ]
  },
  {
   "cell_type": "code",
   "execution_count": null,
   "metadata": {},
   "outputs": [],
   "source": [
    "name = input('Enter your name: ')"
   ]
  },
  {
   "cell_type": "code",
   "execution_count": null,
   "metadata": {},
   "outputs": [],
   "source": [
    "print(name)"
   ]
  },
  {
   "cell_type": "markdown",
   "metadata": {},
   "source": [
    "## 2. Defining and Calling a Void Function"
   ]
  },
  {
   "cell_type": "markdown",
   "metadata": {},
   "source": [
    "How should you define a function?"
   ]
  },
  {
   "cell_type": "markdown",
   "metadata": {},
   "source": [
    "<i>def &nbsp;function_name(&nbsp; ): \n",
    "<br>&nbsp;&nbsp;&nbsp;&nbsp;&nbsp;&nbsp;&nbsp;&nbsp;statement \n",
    "<br>&nbsp;&nbsp;&nbsp;&nbsp;&nbsp;&nbsp;&nbsp;&nbsp;statement\n",
    "<br>&nbsp;&nbsp;&nbsp;&nbsp;&nbsp;&nbsp;&nbsp;&nbsp;etc.</i>   "
   ]
  },
  {
   "cell_type": "markdown",
   "metadata": {},
   "source": [
    "<b>Note:</b> Function name should be descriptive  of the task carried out by the function. Programmers prefer to use verbs in function names. For <b>example</b>, A function that calculates gross pay might be named <i>calculate_gross_pay</i>. \n",
    "\n"
   ]
  },
  {
   "cell_type": "code",
   "execution_count": null,
   "metadata": {},
   "outputs": [],
   "source": [
    "def calculate_gross_pay():\n",
    "    pass"
   ]
  },
  {
   "cell_type": "markdown",
   "metadata": {},
   "source": [
    "<b>Note:</b> Python requires that you follow the same rules that you follow when naming variables."
   ]
  },
  {
   "cell_type": "markdown",
   "metadata": {},
   "source": [
    "<b>Example:</b> Let's see a working example."
   ]
  },
  {
   "cell_type": "code",
   "execution_count": 1,
   "metadata": {},
   "outputs": [],
   "source": [
    "def message(): \n",
    "    print('My name is Julia,') \n",
    "    print('I am 25 years old')"
   ]
  },
  {
   "cell_type": "markdown",
   "metadata": {},
   "source": [
    "<b>Note: </b> To execute a function, you must call it.\n",
    "\n",
    "When a function is called:\n",
    "<ul>\n",
    "    <li>Interpreter jumps to the function and executes statements in the block</li>\n",
    "    <li>Interpreter jumps back to part of program that called the function</li>\n",
    "    <ul><li>Known as <b>function return</b></li></ul>\n",
    "</ul>"
   ]
  },
  {
   "cell_type": "code",
   "execution_count": 2,
   "metadata": {},
   "outputs": [
    {
     "name": "stdout",
     "output_type": "stream",
     "text": [
      "My name is Julia,\n",
      "I am 25 years old\n"
     ]
    }
   ],
   "source": [
    "message()"
   ]
  },
  {
   "cell_type": "code",
   "execution_count": 4,
   "metadata": {},
   "outputs": [
    {
     "name": "stdout",
     "output_type": "stream",
     "text": [
      "My name is Julia,\n",
      "I am 25 years old\n"
     ]
    }
   ],
   "source": [
    "message()"
   ]
  },
  {
   "cell_type": "markdown",
   "metadata": {},
   "source": [
    "Let's put it together."
   ]
  },
  {
   "cell_type": "code",
   "execution_count": null,
   "metadata": {},
   "outputs": [],
   "source": [
    "def message(): \n",
    "    print('My name is Julia,') \n",
    "    print('I am 25 years old')\n",
    "\n",
    "message()\n",
    "print('Test')"
   ]
  },
  {
   "cell_type": "markdown",
   "metadata": {},
   "source": [
    "<img src='https://www.dropbox.com/s/m9gwofqrc4hg7fx/The%20function%20definition%20and%20the%20function%20call.png?raw=1'/>\n",
    "\n",
    "<i>Source: Starting Out with Python (4th Edition)- by Tony Gaddis Pearson</i>"
   ]
  },
  {
   "cell_type": "markdown",
   "metadata": {},
   "source": [
    "<b>Example: </b> Write a function that prints \"Here is my first function\". Then call your function."
   ]
  },
  {
   "cell_type": "code",
   "execution_count": null,
   "metadata": {},
   "outputs": [],
   "source": [
    "# Write your code over here"
   ]
  },
  {
   "cell_type": "markdown",
   "metadata": {},
   "source": [
    "<b>Note:</b> You can have more than one function in your program. "
   ]
  },
  {
   "cell_type": "code",
   "execution_count": null,
   "metadata": {},
   "outputs": [],
   "source": [
    "def first_function():\n",
    "    print(\"Line1\")\n",
    "    \n",
    "def second_function():\n",
    "    print(\"Line2\")\n",
    "\n",
    "second_function()\n",
    "first_function()"
   ]
  },
  {
   "cell_type": "markdown",
   "metadata": {},
   "source": [
    "<b>Note: </b> It's common to use a separate function called <b style='color:blue'>main( )</b> to control the overall program and the order in which the functions should be executed.  "
   ]
  },
  {
   "cell_type": "markdown",
   "metadata": {},
   "source": [
    "<b>Example:</b>"
   ]
  },
  {
   "cell_type": "code",
   "execution_count": 5,
   "metadata": {},
   "outputs": [
    {
     "name": "stdout",
     "output_type": "stream",
     "text": [
      "I have a message for you.\n",
      "My name is Julia,\n",
      "I am 25 years old.\n",
      "Goodbye!\n",
      "Done\n"
     ]
    }
   ],
   "source": [
    "# define the main function.\n",
    "def main():\n",
    "    print('I have a message for you.') \n",
    "    message()\n",
    "    print('Goodbye!')\n",
    "\n",
    "# Next we define the message function. \n",
    "def message():\n",
    "    print('My name is Julia,')\n",
    "    print('I am 25 years old.')\n",
    "    \n",
    "# Call the main function. \n",
    "main()\n",
    "print('Done')"
   ]
  },
  {
   "cell_type": "markdown",
   "metadata": {},
   "source": [
    "<b>Example:</b>"
   ]
  },
  {
   "cell_type": "code",
   "execution_count": 7,
   "metadata": {},
   "outputs": [
    {
     "name": "stdout",
     "output_type": "stream",
     "text": [
      "Hello\n",
      "My name is Julia\n",
      "press Enter to see Message1.\n",
      "This is an automatic message\n",
      "press Enter to see Message2.\n",
      "This message test the correctness \n",
      "of your program\n"
     ]
    }
   ],
   "source": [
    "def main():\n",
    "    start_message()\n",
    "    input('press Enter to see Message1.')\n",
    "    message1()\n",
    "    input('press Enter to see Message2.')\n",
    "    message2()\n",
    "\n",
    "def start_message():\n",
    "    print(\"Hello\")\n",
    "    print(\"My name is Julia\")\n",
    "\n",
    "def message1():\n",
    "    print(\"This is an automatic message\")\n",
    "\n",
    "def message2():\n",
    "    print(\"This message test the correctness \")\n",
    "    print(\"of your program\")\n",
    "    \n",
    "main()"
   ]
  },
  {
   "cell_type": "markdown",
   "metadata": {},
   "source": [
    "<b>Example:</b> Write a program with three functions <i>main( )</i>, <i>run_on_a( )</i>, and <i>run_on_b( )</i>. The main function controls the program and asks the user to input 'A' or 'B'. If the user enters 'A,' the program should execute function run_on_a, and if the user enters 'B,' the program should execute function run_on_b. The program should show 'ERROR' text otherwise."
   ]
  },
  {
   "cell_type": "code",
   "execution_count": null,
   "metadata": {},
   "outputs": [],
   "source": [
    "# write your code here"
   ]
  },
  {
   "cell_type": "markdown",
   "metadata": {},
   "source": [
    "<b>Example:</b> Save the previous program as a separate python file and run it on the terminal. "
   ]
  },
  {
   "cell_type": "markdown",
   "metadata": {},
   "source": [
    "## 3. Local Variables"
   ]
  },
  {
   "cell_type": "markdown",
   "metadata": {},
   "source": [
    "<b>Local variable:</b> variable that is assigned a value inside a function. \n",
    "<ul>\n",
    "    <li>Belongs to the function in which it was created</li>\n",
    "    <li>Cannot be accessed by statements that are outside the function.</li>\n",
    "    <li>Different functions can have <b>local variables</b> with the same names.</li> \n",
    "    <ul><li>Functions <b><u>cannot</u></b> see each other's local variables.</li></ul>\n",
    "</ul>    "
   ]
  },
  {
   "cell_type": "markdown",
   "metadata": {},
   "source": [
    "<b>Note:</b> An error will occur if a statement in one function tries to access a local variable that belongs to another function. "
   ]
  },
  {
   "cell_type": "code",
   "execution_count": 13,
   "metadata": {},
   "outputs": [
    {
     "name": "stdout",
     "output_type": "stream",
     "text": [
      "2\n",
      "3\n"
     ]
    }
   ],
   "source": [
    "def main():\n",
    "    a = 3 \n",
    "    test()\n",
    "    print(a)\n",
    "    \n",
    "def test():\n",
    "    a = 2\n",
    "    print(a)\n",
    "    \n",
    "    \n",
    "    \n",
    "main()"
   ]
  },
  {
   "cell_type": "markdown",
   "metadata": {},
   "source": [
    "<b>Example:</b>"
   ]
  },
  {
   "cell_type": "code",
   "execution_count": 19,
   "metadata": {},
   "outputs": [
    {
     "name": "stdout",
     "output_type": "stream",
     "text": [
      "Enter your name: M\n"
     ]
    },
    {
     "ename": "NameError",
     "evalue": "name 'my_name' is not defined",
     "output_type": "error",
     "traceback": [
      "\u001b[0;31m---------------------------------------------------------------------------\u001b[0m",
      "\u001b[0;31mNameError\u001b[0m                                 Traceback (most recent call last)",
      "Input \u001b[0;32mIn [19]\u001b[0m, in \u001b[0;36m<cell line: 10>\u001b[0;34m()\u001b[0m\n\u001b[1;32m      6\u001b[0m     my_name \u001b[38;5;241m=\u001b[39m \u001b[38;5;28minput\u001b[39m(\u001b[38;5;124m'\u001b[39m\u001b[38;5;124mEnter your name: \u001b[39m\u001b[38;5;124m'\u001b[39m)\n\u001b[1;32m      9\u001b[0m \u001b[38;5;66;03m# Call the main function. \u001b[39;00m\n\u001b[0;32m---> 10\u001b[0m \u001b[43mmain\u001b[49m\u001b[43m(\u001b[49m\u001b[43m)\u001b[49m\n",
      "Input \u001b[0;32mIn [19]\u001b[0m, in \u001b[0;36mmain\u001b[0;34m()\u001b[0m\n\u001b[1;32m      1\u001b[0m \u001b[38;5;28;01mdef\u001b[39;00m \u001b[38;5;21mmain\u001b[39m():\n\u001b[1;32m      2\u001b[0m     get_name()\n\u001b[0;32m----> 3\u001b[0m     \u001b[38;5;28mprint\u001b[39m(\u001b[38;5;124m'\u001b[39m\u001b[38;5;124mHello\u001b[39m\u001b[38;5;124m'\u001b[39m, \u001b[43mmy_name\u001b[49m)\n",
      "\u001b[0;31mNameError\u001b[0m: name 'my_name' is not defined"
     ]
    }
   ],
   "source": [
    "def main():\n",
    "    get_name()\n",
    "    print('Hello', my_name)  # This causes an error!\n",
    "\n",
    "def get_name():\n",
    "    my_name = input('Enter your name: ')\n",
    "    \n",
    "\n",
    "# Call the main function. \n",
    "main()"
   ]
  },
  {
   "cell_type": "markdown",
   "metadata": {},
   "source": [
    "<b>Note: </b> You need to understand the scope of variables."
   ]
  },
  {
   "cell_type": "markdown",
   "metadata": {},
   "source": [
    "<b>Example:</b>"
   ]
  },
  {
   "cell_type": "code",
   "execution_count": 15,
   "metadata": {},
   "outputs": [
    {
     "ename": "NameError",
     "evalue": "name 'y' is not defined",
     "output_type": "error",
     "traceback": [
      "\u001b[0;31m---------------------------------------------------------------------------\u001b[0m",
      "\u001b[0;31mNameError\u001b[0m                                 Traceback (most recent call last)",
      "Input \u001b[0;32mIn [15]\u001b[0m, in \u001b[0;36m<cell line: 8>\u001b[0;34m()\u001b[0m\n\u001b[1;32m      5\u001b[0m \u001b[38;5;28;01mdef\u001b[39;00m \u001b[38;5;21mvar\u001b[39m():\n\u001b[1;32m      6\u001b[0m     y \u001b[38;5;241m=\u001b[39m \u001b[38;5;124m\"\u001b[39m\u001b[38;5;124mlocal\u001b[39m\u001b[38;5;124m\"\u001b[39m\n\u001b[0;32m----> 8\u001b[0m \u001b[43mmain\u001b[49m\u001b[43m(\u001b[49m\u001b[43m)\u001b[49m\n",
      "Input \u001b[0;32mIn [15]\u001b[0m, in \u001b[0;36mmain\u001b[0;34m()\u001b[0m\n\u001b[1;32m      1\u001b[0m \u001b[38;5;28;01mdef\u001b[39;00m \u001b[38;5;21mmain\u001b[39m():\n\u001b[1;32m      2\u001b[0m     var()\n\u001b[0;32m----> 3\u001b[0m     \u001b[38;5;28mprint\u001b[39m(\u001b[43my\u001b[49m)\n",
      "\u001b[0;31mNameError\u001b[0m: name 'y' is not defined"
     ]
    }
   ],
   "source": [
    "def main():\n",
    "    var()\n",
    "    print(y)\n",
    "    \n",
    "def var():\n",
    "    y = \"local\"\n",
    "\n",
    "main()"
   ]
  },
  {
   "cell_type": "markdown",
   "metadata": {},
   "source": [
    "<b>Note:</b> A local variable cannot be accessed by code that appears inside the function at a point before the variable has been created. "
   ]
  },
  {
   "cell_type": "code",
   "execution_count": 1,
   "metadata": {},
   "outputs": [
    {
     "ename": "UnboundLocalError",
     "evalue": "local variable 'val' referenced before assignment",
     "output_type": "error",
     "traceback": [
      "\u001b[1;31m---------------------------------------------------------------------------\u001b[0m",
      "\u001b[1;31mUnboundLocalError\u001b[0m                         Traceback (most recent call last)",
      "Cell \u001b[1;32mIn[1], line 6\u001b[0m\n\u001b[0;32m      2\u001b[0m     \u001b[38;5;28mprint\u001b[39m(\u001b[38;5;124m'\u001b[39m\u001b[38;5;124mThe value is\u001b[39m\u001b[38;5;124m'\u001b[39m, val)\n\u001b[0;32m      3\u001b[0m     val \u001b[38;5;241m=\u001b[39m\u001b[38;5;241m99\u001b[39m\n\u001b[1;32m----> 6\u001b[0m \u001b[43mbad_function\u001b[49m\u001b[43m(\u001b[49m\u001b[43m)\u001b[49m\n",
      "Cell \u001b[1;32mIn[1], line 2\u001b[0m, in \u001b[0;36mbad_function\u001b[1;34m()\u001b[0m\n\u001b[0;32m      1\u001b[0m \u001b[38;5;28;01mdef\u001b[39;00m \u001b[38;5;21mbad_function\u001b[39m():\n\u001b[1;32m----> 2\u001b[0m     \u001b[38;5;28mprint\u001b[39m(\u001b[38;5;124m'\u001b[39m\u001b[38;5;124mThe value is\u001b[39m\u001b[38;5;124m'\u001b[39m, \u001b[43mval\u001b[49m)\n\u001b[0;32m      3\u001b[0m     val \u001b[38;5;241m=\u001b[39m\u001b[38;5;241m99\u001b[39m\n",
      "\u001b[1;31mUnboundLocalError\u001b[0m: local variable 'val' referenced before assignment"
     ]
    }
   ],
   "source": [
    "def bad_function():\n",
    "    print('The value is', val)\n",
    "    val =99\n",
    "    \n",
    "    \n",
    "bad_function()"
   ]
  },
  {
   "cell_type": "markdown",
   "metadata": {},
   "source": [
    "<b>Note:</b> Because a function’s local variables are hidden from other functions, the other functions may have their own local variables with the same name."
   ]
  },
  {
   "cell_type": "code",
   "execution_count": 17,
   "metadata": {},
   "outputs": [
    {
     "name": "stdout",
     "output_type": "stream",
     "text": [
      "texas has 1000 birds.\n",
      "california has 3000 birds.\n"
     ]
    }
   ],
   "source": [
    "def main():\n",
    "    texas()\n",
    "    california()\n",
    "\n",
    "def texas():\n",
    "    birds = 1000\n",
    "    print('texas has', birds, 'birds.')\n",
    "    \n",
    "def california():\n",
    "    birds = 3000\n",
    "    print('california has', birds, 'birds.')\n",
    "    \n",
    "main()"
   ]
  },
  {
   "cell_type": "markdown",
   "metadata": {},
   "source": [
    "<b>Example:</b> What is the output of following code. Try to guess before running the code."
   ]
  },
  {
   "cell_type": "code",
   "execution_count": 20,
   "metadata": {},
   "outputs": [
    {
     "name": "stdout",
     "output_type": "stream",
     "text": [
      "california has 3000 birds.\n",
      "texas has 1000 birds.\n"
     ]
    }
   ],
   "source": [
    "def main():\n",
    "    texas()\n",
    "\n",
    "def texas():\n",
    "    birds = 1000\n",
    "    california()\n",
    "    print('texas has', birds, 'birds.')\n",
    "    \n",
    "def california():\n",
    "    birds = 3000\n",
    "    print('california has', birds, 'birds.')\n",
    "    \n",
    "main()"
   ]
  },
  {
   "cell_type": "markdown",
   "metadata": {},
   "source": [
    "## 4. Passing Arguments to Functions"
   ]
  },
  {
   "cell_type": "markdown",
   "metadata": {},
   "source": [
    "<b>Arguments:</b> Pieces of data that are sent into a function.\n",
    "<ul><li>Function can use argument in calculations</li>\n",
    "    <li>When calling the function, the <b>argument</b> is placed in parentheses following the function name</li></ul>"
   ]
  },
  {
   "cell_type": "markdown",
   "metadata": {},
   "source": [
    "<b>Parameter variable:</b> Variable that is assigned the value of an argument when the function is called.\n",
    "\n",
    "<ul><li>The parameter and the argument reference the same value</li>\n",
    "    <li>General format: </li>\n",
    "    <ul><li><b style='color:blue'>def</b> function_name (parameter):</li></ul>\n",
    "</ul>\n",
    "\n",
    "<b>Scope of a parameter:</b> the function in which the parameter is used"
   ]
  },
  {
   "cell_type": "markdown",
   "metadata": {},
   "source": [
    "<b>Example:</b>"
   ]
  },
  {
   "cell_type": "code",
   "execution_count": 24,
   "metadata": {},
   "outputs": [
    {
     "name": "stdout",
     "output_type": "stream",
     "text": [
      "12\n"
     ]
    }
   ],
   "source": [
    "def show_double(number):\n",
    "    result = number * 2 \n",
    "    print(result)\n",
    "    \n",
    "show_double(6)"
   ]
  },
  {
   "cell_type": "markdown",
   "metadata": {},
   "source": [
    "<b>Example:</b>"
   ]
  },
  {
   "cell_type": "code",
   "execution_count": 7,
   "metadata": {},
   "outputs": [
    {
     "name": "stdout",
     "output_type": "stream",
     "text": [
      "130\n"
     ]
    }
   ],
   "source": [
    "def my_sum(num1=10,num2=20,num3=30):\n",
    "    res=num1+num2+num3\n",
    "    print(res)\n",
    "my_sum(10,num3=100)"
   ]
  },
  {
   "cell_type": "code",
   "execution_count": 8,
   "metadata": {},
   "outputs": [
    {
     "name": "stdout",
     "output_type": "stream",
     "text": [
      "400\n"
     ]
    }
   ],
   "source": [
    "def my_sum(num1,num2=100,num3=200):\n",
    "    res=num1+num2+num3\n",
    "    print(res)\n",
    "my_sum(100)"
   ]
  },
  {
   "cell_type": "code",
   "execution_count": 9,
   "metadata": {},
   "outputs": [
    {
     "ename": "SyntaxError",
     "evalue": "non-default argument follows default argument (654816915.py, line 1)",
     "output_type": "error",
     "traceback": [
      "\u001b[1;36m  Cell \u001b[1;32mIn[9], line 1\u001b[1;36m\u001b[0m\n\u001b[1;33m    def my_sum(num1=100,num2=100,num3):\u001b[0m\n\u001b[1;37m                                 ^\u001b[0m\n\u001b[1;31mSyntaxError\u001b[0m\u001b[1;31m:\u001b[0m non-default argument follows default argument\n"
     ]
    }
   ],
   "source": [
    "def my_sum(num1=100,num2=100,num3):\n",
    "    res=num1+num2+num3\n",
    "    print(res)\n",
    "my_sum(100)"
   ]
  },
  {
   "cell_type": "code",
   "execution_count": 27,
   "metadata": {},
   "outputs": [
    {
     "name": "stdout",
     "output_type": "stream",
     "text": [
      "200\n"
     ]
    }
   ],
   "source": [
    "def main():\n",
    "    value = 5\n",
    "    show_double(value)\n",
    "    \n",
    "    \n",
    "def show_double(number):\n",
    "    number = 100\n",
    "    result = number * 2 \n",
    "    print(result)\n",
    "\n",
    "main()\n"
   ]
  },
  {
   "cell_type": "markdown",
   "metadata": {},
   "source": [
    "<b>Example:</b> Write a program with two functions named <i>main( )</i> and <i>my_tripler( )</i>. The program should prompt the user to enter a number between 0 and 9. The program should then multiply the value by three and display the result. Make sure that you understand the scope of variables.  "
   ]
  },
  {
   "cell_type": "code",
   "execution_count": 29,
   "metadata": {},
   "outputs": [
    {
     "name": "stdout",
     "output_type": "stream",
     "text": [
      "Please provide an input11\n",
      "Please provide an input8\n",
      "24\n"
     ]
    }
   ],
   "source": [
    "# Write your code over here"
   ]
  },
  {
   "cell_type": "markdown",
   "metadata": {},
   "source": [
    "The value variable is passed as an argument\n",
    "\n",
    "<img src='https://www.dropbox.com/s/yua7nm52quh6rsn/The%20value%20variable%20is%20passed%20as%20an%20argument.png?raw=1'/>\n",
    "<i>Source: Starting Out with Python (4th Edition)- by Tony Gaddis Pearson</i>"
   ]
  },
  {
   "cell_type": "markdown",
   "metadata": {},
   "source": [
    "The word <i><u>number</i></u> inside the parentheses is the name of a <b>parameter variable</b>. This variable will be assigned the value of an argument when the function is called."
   ]
  },
  {
   "cell_type": "markdown",
   "metadata": {},
   "source": [
    "The value variable and the number parameter reference the same value\n",
    "<img src='https://www.dropbox.com/s/sbnrl28jrja1nsr/The%20value%20variable%20and%20the%20number%20parameter%20reference%20the%20same%20value.png?raw=1'/>\n",
    "\n",
    "<i>Source:Starting Out with Python (4th Edition)- by Tony Gaddis Pearson</i>"
   ]
  },
  {
   "cell_type": "markdown",
   "metadata": {},
   "source": [
    "<b>Examples:</b>"
   ]
  },
  {
   "cell_type": "code",
   "execution_count": 30,
   "metadata": {},
   "outputs": [
    {
     "name": "stdout",
     "output_type": "stream",
     "text": [
      "Hello, Sara. Good Afternoon!\n"
     ]
    }
   ],
   "source": [
    "def main():\n",
    "    name = 'Sara'\n",
    "    greetings(name)\n",
    "    \n",
    "def greetings(message):\n",
    "    print(\"Hello, \" + message + \". Good Afternoon!\")\n",
    "    \n",
    "main()"
   ]
  },
  {
   "cell_type": "markdown",
   "metadata": {},
   "source": [
    "### 4.1. Passing Multiple Arguments"
   ]
  },
  {
   "cell_type": "markdown",
   "metadata": {},
   "source": [
    "We can write functions that accept multiple arguments.\n",
    "<ul><li>Parameter list replaces single parameter</li>\n",
    "    <li>Parameter list items separated by comma</li></ul>"
   ]
  },
  {
   "cell_type": "markdown",
   "metadata": {},
   "source": [
    "<b>Note: </b>Arguments are passed by position to corresponding parameters\n",
    "<ul><li>First parameter receives value of first argument, second parameter receives value of second argument, etc.</li></ul>"
   ]
  },
  {
   "cell_type": "markdown",
   "metadata": {},
   "source": [
    "<b>Example:</b>"
   ]
  },
  {
   "cell_type": "code",
   "execution_count": 31,
   "metadata": {},
   "outputs": [
    {
     "name": "stdout",
     "output_type": "stream",
     "text": [
      "The sum of 12 and 45 is\n",
      "57\n"
     ]
    }
   ],
   "source": [
    "# This program shows a function that accepts two arguments.\n",
    "def main():\n",
    "    print('The sum of 12 and 45 is')\n",
    "    show_sum(12, 45)\n",
    "\n",
    "# The show_sum function accepts two arguments and displays their sum.\n",
    "def show_sum(num1, num2):\n",
    "    result = num1 + num2 \n",
    "    print(result)\n",
    "\n",
    "main()"
   ]
  },
  {
   "cell_type": "markdown",
   "metadata": {},
   "source": [
    "<img src='https://www.dropbox.com/s/jzqw3cnsc3qdlor/Two%20arguments%20passed%20to%20two%20parameters.png?raw=1'/>\n",
    "\n",
    "<i>Source: Starting Out with Python (4th Edition)- by Tony Gaddis Pearson</i>"
   ]
  },
  {
   "cell_type": "markdown",
   "metadata": {},
   "source": [
    "<b>IMPORTANT</b>: When an argument is passed to a function in Python, the function parameter variable will reference the argument’s value. However, any changes that are made to the parameter variable will not affect the argument."
   ]
  },
  {
   "cell_type": "markdown",
   "metadata": {},
   "source": [
    "<b>Example:</b>"
   ]
  },
  {
   "cell_type": "code",
   "execution_count": 32,
   "metadata": {},
   "outputs": [
    {
     "name": "stdout",
     "output_type": "stream",
     "text": [
      "The value is 99\n",
      "I am changing the value.\n",
      "Now the value is 0\n",
      "Back in main the value is 99\n"
     ]
    }
   ],
   "source": [
    "def main():\n",
    "    value = 99\n",
    "    print('The value is', value) \n",
    "    change_me(value)\n",
    "    print('Back in main the value is', value)\n",
    "\n",
    "def change_me(arg):\n",
    "    print('I am changing the value.') \n",
    "    arg = 0\n",
    "    print('Now the value is', arg)\n",
    "\n",
    "# Call the main function.\n",
    "main()"
   ]
  },
  {
   "cell_type": "markdown",
   "metadata": {},
   "source": [
    "<b>Example:</b> Write a program that ask the user about his first name and last name and then display it. Use function structure."
   ]
  },
  {
   "cell_type": "code",
   "execution_count": null,
   "metadata": {},
   "outputs": [],
   "source": [
    "# Write your code over here\n"
   ]
  },
  {
   "cell_type": "code",
   "execution_count": 14,
   "metadata": {},
   "outputs": [
    {
     "name": "stdout",
     "output_type": "stream",
     "text": [
      "10\n"
     ]
    }
   ],
   "source": [
    "z=10 #global variable\n",
    "def my_fun():\n",
    "    print(z)\n",
    "my_fun()"
   ]
  },
  {
   "cell_type": "code",
   "execution_count": 15,
   "metadata": {},
   "outputs": [
    {
     "name": "stdout",
     "output_type": "stream",
     "text": [
      "5\n"
     ]
    }
   ],
   "source": [
    "z=10\n",
    "def my_fun():\n",
    "    z=5 #local variable\n",
    "    print(z)\n",
    "my_fun()"
   ]
  },
  {
   "cell_type": "code",
   "execution_count": 16,
   "metadata": {},
   "outputs": [
    {
     "ename": "UnboundLocalError",
     "evalue": "local variable 'z' referenced before assignment",
     "output_type": "error",
     "traceback": [
      "\u001b[1;31m---------------------------------------------------------------------------\u001b[0m",
      "\u001b[1;31mUnboundLocalError\u001b[0m                         Traceback (most recent call last)",
      "Cell \u001b[1;32mIn[16], line 6\u001b[0m\n\u001b[0;32m      4\u001b[0m     z\u001b[38;5;241m=\u001b[39m\u001b[38;5;241m5\u001b[39m\n\u001b[0;32m      5\u001b[0m     \u001b[38;5;28mprint\u001b[39m(z)\n\u001b[1;32m----> 6\u001b[0m \u001b[43mmy_fun\u001b[49m\u001b[43m(\u001b[49m\u001b[43m)\u001b[49m\n\u001b[0;32m      7\u001b[0m \u001b[38;5;28mprint\u001b[39m(z)\n",
      "Cell \u001b[1;32mIn[16], line 3\u001b[0m, in \u001b[0;36mmy_fun\u001b[1;34m()\u001b[0m\n\u001b[0;32m      2\u001b[0m \u001b[38;5;28;01mdef\u001b[39;00m \u001b[38;5;21mmy_fun\u001b[39m():\n\u001b[1;32m----> 3\u001b[0m     \u001b[38;5;28mprint\u001b[39m(\u001b[43mz\u001b[49m)\n\u001b[0;32m      4\u001b[0m     z\u001b[38;5;241m=\u001b[39m\u001b[38;5;241m5\u001b[39m\n\u001b[0;32m      5\u001b[0m     \u001b[38;5;28mprint\u001b[39m(z)\n",
      "\u001b[1;31mUnboundLocalError\u001b[0m: local variable 'z' referenced before assignment"
     ]
    }
   ],
   "source": [
    "z=10\n",
    "def my_fun():\n",
    "    print(z)\n",
    "    z=5\n",
    "    print(z)\n",
    "my_fun()\n",
    "print(z)"
   ]
  },
  {
   "cell_type": "markdown",
   "metadata": {},
   "source": [
    "<b>Example:</b> Write a program with two functions: <i>main( )</i> and <i>subtract(num1, num2)</i>. The subtract function should display the result of num1 - num2. The main function should prompt the user to enter two numbers and subtract the smaller one from the larger one."
   ]
  },
  {
   "cell_type": "code",
   "execution_count": null,
   "metadata": {},
   "outputs": [],
   "source": [
    "def main():\n",
    "    x = int(input('Enter first value: '))\n",
    "    y = int(input('Enter second value: '))\n",
    "    if num1>num2:\n",
    "        subtract(x,y)\n",
    "    else:\n",
    "        subtract(y,x)\n",
    "\n",
    "def subtract(num1, num2):\n",
    "    result = num1 - num2\n",
    "    print(result)\n",
    "\n",
    "main()"
   ]
  },
  {
   "cell_type": "markdown",
   "metadata": {},
   "source": [
    "### 4.2 Keyword Arguments"
   ]
  },
  {
   "cell_type": "markdown",
   "metadata": {},
   "source": [
    "The Python allows us to write an argument in a way that specify which parameter variable the argument should be passed to:\n",
    "<br>\n",
    "<br>\n",
    "<i>parameter_name=value</i> \n",
    "<br>\n",
    "<br>\n",
    "<b>parameter_name</b> is the name of a parameter variable, and <b>value</b> is the value being passed to that parameter. \n",
    "<br>An argument that is written in accordance with this syntax is known as a <b>keyword argument</b>. "
   ]
  },
  {
   "cell_type": "markdown",
   "metadata": {},
   "source": [
    "<b>Note:</b> The order of the keyword arguments does not match <u>the order</u> of the parameters in the function. <u>Because a keyword argument specifies which parameter the argument should be passed into, its position in the function call does not matter.</u>"
   ]
  },
  {
   "cell_type": "markdown",
   "metadata": {},
   "source": [
    "<b>Example:</b>"
   ]
  },
  {
   "cell_type": "code",
   "execution_count": null,
   "metadata": {},
   "outputs": [],
   "source": [
    "def main():\n",
    "\n",
    "    show_interest(rate=0.01, periods=10, principal=10000.0)\n",
    "\n",
    "def show_interest(principal, rate, periods): \n",
    "    interest = principal * rate * periods \n",
    "    print(f'The simple interest will be $'{interest: ,.2f}')\n",
    "\n",
    "main()"
   ]
  },
  {
   "cell_type": "markdown",
   "metadata": {},
   "source": [
    "<b>Note:</b> It is possible to mix <b>positional arguments and keyword arguments</b> in a function call, but the positional arguments must appear first, followed by the keyword arguments. Otherwise, an error will occur."
   ]
  },
  {
   "cell_type": "code",
   "execution_count": null,
   "metadata": {},
   "outputs": [],
   "source": [
    "def main():\n",
    "    show_interest(0.012,principal=10000.0,periods=10 )\n",
    "\n",
    "def show_interest(rate,periods,principal): \n",
    "    interest = principal * rate * periods \n",
    "    print(f'The simple interest will be $ {interest:,.2f}')\n",
    "\n",
    "main()"
   ]
  },
  {
   "cell_type": "markdown",
   "metadata": {},
   "source": [
    "## 5. Global Variables and Global Constants"
   ]
  },
  {
   "cell_type": "markdown",
   "metadata": {},
   "source": [
    "<b>Global variable:</b> created by assignment statement written outside all the functions.\n",
    "<ul><li> Can be accessed by any statement in the program file, including from within a function.</li>\n",
    "</ul>"
   ]
  },
  {
   "cell_type": "markdown",
   "metadata": {},
   "source": [
    "<b>Example:</b>"
   ]
  },
  {
   "cell_type": "code",
   "execution_count": 43,
   "metadata": {},
   "outputs": [
    {
     "name": "stdout",
     "output_type": "stream",
     "text": [
      "30\n"
     ]
    }
   ],
   "source": [
    "# Create a global variable\n",
    "my_value = 30\n",
    "\n",
    "def show_value():\n",
    "    print(my_value)\n",
    "    \n",
    "show_value()"
   ]
  },
  {
   "cell_type": "markdown",
   "metadata": {},
   "source": [
    "<b>Note:</b> If we want a statement in a function to assign a value to a global variable, we must declare the global variable in the function.\n",
    "\n",
    "General format:\n",
    "<br>\n",
    "<b>global</b> variable_name"
   ]
  },
  {
   "cell_type": "markdown",
   "metadata": {},
   "source": [
    "<b>Example:<b>"
   ]
  },
  {
   "cell_type": "code",
   "execution_count": 44,
   "metadata": {},
   "outputs": [
    {
     "name": "stdout",
     "output_type": "stream",
     "text": [
      "100\n",
      "5\n"
     ]
    }
   ],
   "source": [
    "x = 5\n",
    "\n",
    "def my_function():\n",
    "    x = 100\n",
    "    print(x)\n",
    "\n",
    "my_function()\n",
    "print(x)"
   ]
  },
  {
   "cell_type": "markdown",
   "metadata": {},
   "source": [
    "<b>Example:<b>"
   ]
  },
  {
   "cell_type": "code",
   "execution_count": 46,
   "metadata": {
    "scrolled": true
   },
   "outputs": [
    {
     "name": "stdout",
     "output_type": "stream",
     "text": [
      "Enter a number: 67\n",
      "The number you entered is 0\n"
     ]
    }
   ],
   "source": [
    "number = 0\n",
    "\n",
    "def main(): \n",
    "    global number\n",
    "    number = int(input('Enter a number: ')) \n",
    "    show_number()\n",
    "\n",
    "def show_number():\n",
    "    print('The number you entered is', number)\n",
    "\n",
    "\n",
    "main()\n"
   ]
  },
  {
   "cell_type": "markdown",
   "metadata": {},
   "source": [
    "<b>Question:</b> What will happen if we don't use the keyword <b>global</b>"
   ]
  },
  {
   "cell_type": "code",
   "execution_count": null,
   "metadata": {},
   "outputs": [],
   "source": [
    "# Write your code over here"
   ]
  },
  {
   "cell_type": "markdown",
   "metadata": {},
   "source": [
    "<b>IMPORTANT:</b> Reasons to avoid using global variables:\n",
    "<ul>\n",
    "    <li>Global variables making debugging difficult. \n",
    "        <ul><li>Many locations in the code could be causing a wrong variable value</li></ul>\n",
    "    <li>Functions that use global variables are usually dependent on those variables.\n",
    "        <ul><li>Makes function hard to transfer to another program.</li></ul>\n",
    "    <li>Global variables make a program hard to understand.</li>\n",
    "</ul>"
   ]
  },
  {
   "cell_type": "markdown",
   "metadata": {},
   "source": [
    "<b>Global constant:</b> global name that references a value that cannot be changed\n",
    "<ul><li>Permissible to use global constants in a program</li>\n",
    "<li>To simulate global constant in Python, create global variable and do not re-declare it within functions</li></ul>\n"
   ]
  },
  {
   "cell_type": "code",
   "execution_count": 47,
   "metadata": {},
   "outputs": [
    {
     "name": "stdout",
     "output_type": "stream",
     "text": [
      "Enter the gross pay: 1000\n",
      "Enter the amount of bonuses: 200\n",
      "Contribution for gross pay: $20.00\n",
      "Contribution for bonuses: $4.00\n"
     ]
    }
   ],
   "source": [
    "# The following is used as a global constant \n",
    "# the contribution rate.\n",
    "CONTRIBUTION_RATE = 0.02\n",
    "\n",
    "def main():\n",
    "    gross_pay = float(input('Enter the gross pay: ')) \n",
    "    bonus = float(input('Enter the amount of bonuses: ')) \n",
    "    show_pay_contrib(gross_pay)\n",
    "    show_bonus_contrib(bonus)\n",
    "\n",
    "# The show_pay_contrib function accepts the gross pay as an argument.\n",
    "\n",
    "def show_pay_contrib(gross):\n",
    "    contrib = gross * CONTRIBUTION_RATE \n",
    "    print('Contribution for gross pay: $',format(contrib, ',.2f'), sep='')\n",
    "\n",
    "# The show_bonus_contrib function accepts the bonus amount as an argument \n",
    "\n",
    "def show_bonus_contrib(bonus):\n",
    "    contrib = bonus * CONTRIBUTION_RATE \n",
    "    print('Contribution for bonuses: $',format(contrib, ',.2f'), sep='')\n",
    "\n",
    "# Call the main function. \n",
    "main()"
   ]
  },
  {
   "cell_type": "markdown",
   "metadata": {},
   "source": [
    "## 6. Value-Returning Functions"
   ]
  },
  {
   "cell_type": "markdown",
   "metadata": {},
   "source": [
    "<b>Void function</b>: group of statements within a program for performing a specific task.\n",
    "<ul><li>Call function when you need to perform the task.</li></ul>\n",
    "<b>Value-returning function</b>: similar to void function, <u>returns a value</u>.\n",
    "<ul><li>Value returned to part of program that called the function when function finishes executing.</li></ul>"
   ]
  },
  {
   "cell_type": "code",
   "execution_count": 22,
   "metadata": {},
   "outputs": [
    {
     "name": "stdout",
     "output_type": "stream",
     "text": [
      "30\n"
     ]
    }
   ],
   "source": [
    "def my_sum(num1,num2):\n",
    "    res=num1+num2\n",
    "    return res\n",
    "my_new_sum=my_sum(10,20)\n",
    "print(my_new_sum)"
   ]
  },
  {
   "cell_type": "code",
   "execution_count": 24,
   "metadata": {},
   "outputs": [
    {
     "name": "stdout",
     "output_type": "stream",
     "text": [
      "30\n"
     ]
    }
   ],
   "source": [
    "def my_sum(num1,num2):\n",
    "    res=num1+num2\n",
    "    return res\n",
    "my_new_sum=my_sum(10,20)\n",
    "print(my_new_sum)"
   ]
  },
  {
   "cell_type": "markdown",
   "metadata": {},
   "source": [
    "### 6.1. Standard Library Functions and the <i>import</i> Statement"
   ]
  },
  {
   "cell_type": "markdown",
   "metadata": {},
   "source": [
    "<b>Standard library</b>: library of pre-written functions that comes with Python\n",
    "<ul>\n",
    "    <li>Library functions perform tasks that programmers commonly need</li>\n",
    "    <ul><li>Example: print, input, range</li>\n",
    "        <li>Viewed by programmers as a “black box”</li>\n",
    "    </ul>\n",
    "</ul>\n",
    "Some library functions built into Python interpreter. \n",
    "<ul><li>To use, just call the function.</ul></li>"
   ]
  },
  {
   "cell_type": "markdown",
   "metadata": {},
   "source": [
    "<b>Modules</b>: files that stores functions of the standard library.\n",
    "<ul>\n",
    "    <li>Help organize library functions not built into the interpreter.</li>\n",
    "    <ul>\n",
    "        <li>For example, functions for performing math operations are stored together in a module</li>\n",
    "    </ul>\n",
    "    <li>Copied to computer when we install Python.</li>\n",
    "</ul>\n",
    "To call a function stored in a module, need to write an <b>import</b> statement at the top of the program. Here is the general format:\n",
    "\n",
    "&nbsp;&nbsp;&nbsp;&nbsp;&nbsp;&nbsp;<b>import</b>&nbsp;&nbsp; <i>module_name</i>\n",
    "\n",
    "\n",
    "<b>Example:</b> The <i>math</i> module contains various mathematical functions. If we want to use any of the math module’s functions in a program, at the top of the program we should write: &nbsp;&nbsp;<b>import</b> &nbsp;&nbsp;math"
   ]
  },
  {
   "cell_type": "markdown",
   "metadata": {},
   "source": [
    "Because we do not see the internal workings of library functions, many programmers think of them as <i>black boxes</i>. \n",
    "<br>\n",
    "The term “black box” is used to describe any mechanism that accepts input, performs some operation  using the input, and produces output."
   ]
  },
  {
   "cell_type": "markdown",
   "metadata": {},
   "source": [
    "<img src='https://www.dropbox.com/s/gtu9i8jq2nuep76/A%20library%20function%20viewed%20as%20a%20black%20box.png?raw=1'/>\n",
    "\n",
    "<i>Source: Starting Out with Python (4th Edition)- by Tony Gaddis Pearson</i>"
   ]
  },
  {
   "cell_type": "markdown",
   "metadata": {},
   "source": [
    "### 6.2. Generating Random Numbers"
   ]
  },
  {
   "cell_type": "markdown",
   "metadata": {},
   "source": [
    "<b>Random numbers</b> are useful in a lot of programming tasks.\n",
    "<br>\n",
    "<b>Random module</b> includes library functions for working with random numbers.\n",
    "<br><br>\n",
    "To use any of these functions, we first need to write this <b>import</b> statement at the top of your program:\n",
    "<br>\n",
    "\n",
    "<b>import</b>&nbsp;&nbsp;random"
   ]
  },
  {
   "cell_type": "markdown",
   "metadata": {},
   "source": [
    "<b>Note:</b> You need to use a <b>dot notation</b> for calling a function belonging to a module\n",
    "<ul>module_name.function_name( )</ul>"
   ]
  },
  {
   "cell_type": "markdown",
   "metadata": {},
   "source": [
    "<b>Note: </b> <i>randint</i> function generates a random number in the range provided by the arguments.\n",
    "<ul>\n",
    "    <li>Returns the random number to part of program that called the function.</li>\n",
    "    <li>Returned integer can be used anywhere that an integer would be used.</li>\n",
    "    <li>You can experiment with the function in interactive mode.</li>\n",
    "</ul>"
   ]
  },
  {
   "cell_type": "markdown",
   "metadata": {},
   "source": [
    "<b>Example:</b>"
   ]
  },
  {
   "cell_type": "markdown",
   "metadata": {},
   "source": [
    "<img src='https://www.dropbox.com/s/b2zdcymvnbsd9bq/A%20statement%20that%20calls%20the%20random%20function.png?raw=1'/>\n",
    "<img src='https://www.dropbox.com/s/10yc76ozicbpewz/The%20random%20function%20returns%20a%20value.png?raw=1'/>\n",
    "<i>Source: Starting Out with Python (4th Edition)- by Tony Gaddis Pearson</i>"
   ]
  },
  {
   "cell_type": "code",
   "execution_count": 57,
   "metadata": {},
   "outputs": [
    {
     "name": "stdout",
     "output_type": "stream",
     "text": [
      "the number is 97\n"
     ]
    }
   ],
   "source": [
    "import random\n",
    "\n",
    "def main():\n",
    "    number = random.randint(1, 300)\n",
    "    print('the number is', number)\n",
    "    \n",
    "    \n",
    "main()"
   ]
  },
  {
   "cell_type": "markdown",
   "metadata": {},
   "source": [
    "<b>Example:</b> How to generate more than one random variable using loop (for) structure."
   ]
  },
  {
   "cell_type": "code",
   "execution_count": 58,
   "metadata": {},
   "outputs": [
    {
     "name": "stdout",
     "output_type": "stream",
     "text": [
      "Random #0: 19\n",
      "Random #1: 10\n",
      "Random #2: 8\n",
      "Random #3: 4\n",
      "Random #4: 20\n"
     ]
    }
   ],
   "source": [
    "import random\n",
    "\n",
    "def main():\n",
    "    for i in range(5):\n",
    "        number = random.randint(1, 20)\n",
    "        print(f'Random #{i}: {number}')\n",
    "\n",
    "main()"
   ]
  },
  {
   "cell_type": "markdown",
   "metadata": {},
   "source": [
    "<b>Example:</b> Write a program that simulate rolling a dice. Use function structure in your code. "
   ]
  },
  {
   "cell_type": "code",
   "execution_count": 28,
   "metadata": {},
   "outputs": [
    {
     "name": "stdout",
     "output_type": "stream",
     "text": [
      "5\n"
     ]
    }
   ],
   "source": [
    "import random\n",
    "def roll_dice():\n",
    "    number = random.randint(1, 6)\n",
    "    return number\n",
    "\n",
    "num = roll_dice()\n",
    "print(num)"
   ]
  },
  {
   "cell_type": "code",
   "execution_count": 68,
   "metadata": {},
   "outputs": [
    {
     "name": "stdout",
     "output_type": "stream",
     "text": [
      "Hello 0\n",
      "0\n",
      "Hello 1\n",
      "1\n",
      "Hello 2\n",
      "2\n",
      "Hello 3\n",
      "3\n",
      "Hello 4\n",
      "5\n",
      "4\n",
      "Hello 5\n",
      "5\n",
      "5\n"
     ]
    }
   ],
   "source": [
    "message = 'Hello'\n",
    "for i in range(6):\n",
    "    print(message, i)\n",
    "    if i>3:\n",
    "        pass\n",
    "    print(i)\n",
    "    "
   ]
  },
  {
   "cell_type": "markdown",
   "metadata": {},
   "source": [
    "<b>Example:</b> Create a program that allows the user to roll the dice for as long as they want."
   ]
  },
  {
   "cell_type": "code",
   "execution_count": null,
   "metadata": {},
   "outputs": [],
   "source": [
    "# Write your code over here"
   ]
  },
  {
   "cell_type": "markdown",
   "metadata": {},
   "source": [
    "<b>Example:</b> Save the above code in a python file and run the code from terminal."
   ]
  },
  {
   "cell_type": "markdown",
   "metadata": {},
   "source": [
    "<b>Note:</b> <i>randrange</i> function similar to range function, but returns randomly selected integer from the resulting sequence. \n",
    "<ul>\n",
    "    <li>Same arguments as for the <i>range</i> function.</li>\n",
    "    <li>Does not return a list of values. Instead, it returns a randomly selected value from a sequence of values</li>\n",
    "</ul>"
   ]
  },
  {
   "cell_type": "markdown",
   "metadata": {},
   "source": [
    "<b>Examples:</b>"
   ]
  },
  {
   "cell_type": "code",
   "execution_count": 72,
   "metadata": {},
   "outputs": [
    {
     "data": {
      "text/plain": [
       "10"
      ]
     },
     "execution_count": 72,
     "metadata": {},
     "output_type": "execute_result"
    }
   ],
   "source": [
    "#The statement assigns a random number in the range of 0 through 9 to the number variable\n",
    "number = random.randrange(4,11,3)\n",
    "number"
   ]
  },
  {
   "cell_type": "code",
   "execution_count": null,
   "metadata": {},
   "outputs": [],
   "source": [
    "#The statement specifies both a starting value and an ending limit for the sequence\n",
    "number = random.randrange(5,10) # a random number in the range of 5 through 9 will be assigned to number. \n",
    "number"
   ]
  },
  {
   "cell_type": "code",
   "execution_count": null,
   "metadata": {},
   "outputs": [],
   "source": [
    "#The statement specifies a starting value, an ending limit, and a step value\n",
    "number = random.randrange(0, 101, 10)\n",
    "number"
   ]
  },
  {
   "cell_type": "markdown",
   "metadata": {},
   "source": [
    "<b>Note:</b> <i>random</i> function returns a random <b>float</b> in the range of 0.0 and 1.0\n",
    "<ul><li>Does not receive arguments</ul></li>"
   ]
  },
  {
   "cell_type": "markdown",
   "metadata": {},
   "source": [
    "<b>Example:</b>"
   ]
  },
  {
   "cell_type": "code",
   "execution_count": null,
   "metadata": {},
   "outputs": [],
   "source": [
    "number = random.random()\n",
    "number"
   ]
  },
  {
   "cell_type": "markdown",
   "metadata": {},
   "source": [
    "<b>Note:</b> <i>uniform</i> function returns a random float but allows user to specify range."
   ]
  },
  {
   "cell_type": "markdown",
   "metadata": {},
   "source": [
    "<b>Example:</b>"
   ]
  },
  {
   "cell_type": "code",
   "execution_count": null,
   "metadata": {},
   "outputs": [],
   "source": [
    "number = random.uniform(20,34)\n",
    "number"
   ]
  },
  {
   "cell_type": "markdown",
   "metadata": {},
   "source": [
    "<b>Note: </b> Random number created by functions in random module are actually pseudo-random numbers. You can control the sequence of generated numbers using <i>seed</i> function."
   ]
  },
  {
   "cell_type": "markdown",
   "metadata": {},
   "source": [
    "<b>Example:</b>"
   ]
  },
  {
   "cell_type": "code",
   "execution_count": 87,
   "metadata": {},
   "outputs": [
    {
     "name": "stdout",
     "output_type": "stream",
     "text": [
      "First random number 74\n",
      "Second random number 5\n",
      "Third random number 55\n"
     ]
    }
   ],
   "source": [
    "random.seed(10)\n",
    "\n",
    "print(f'First random number {random.randint(1,100)}')\n",
    "\n",
    "print(f'Second random number {random.randint(1,100)}')\n",
    "\n",
    "print(f'Third random number {random.randint(1,100)}')"
   ]
  },
  {
   "cell_type": "code",
   "execution_count": null,
   "metadata": {},
   "outputs": [],
   "source": [
    "random.seed(10)\n",
    "\n",
    "print(f'First random number {random.randint(1,100)}')\n",
    "\n",
    "print(f'Second random number {random.randint(1,100)}')\n",
    "\n",
    "print(f'Third random number {random.randint(1,100)}')"
   ]
  },
  {
   "cell_type": "markdown",
   "metadata": {},
   "source": [
    "## 7. Writing Your Own Value-Returning Functions"
   ]
  },
  {
   "cell_type": "markdown",
   "metadata": {},
   "source": [
    "To write a value-returning function, you write a simple function and add <b>return</b> statement to it."
   ]
  },
  {
   "cell_type": "markdown",
   "metadata": {},
   "source": [
    "The general format of a value-returning function definition:\n",
    "    <ul>\n",
    "   <i>def &nbsp;function_name(): \n",
    "<br>&nbsp;&nbsp;&nbsp;&nbsp;&nbsp;&nbsp;&nbsp;&nbsp;statement \n",
    "<br>&nbsp;&nbsp;&nbsp;&nbsp;&nbsp;&nbsp;&nbsp;&nbsp;statement\n",
    "<br>&nbsp;&nbsp;&nbsp;&nbsp;&nbsp;&nbsp;&nbsp;&nbsp;etc. \n",
    "       <br>&nbsp;&nbsp;&nbsp;&nbsp;&nbsp;&nbsp;&nbsp;&nbsp;<b>return expression</b></i>\n",
    "    </ul>"
   ]
  },
  {
   "cell_type": "markdown",
   "metadata": {},
   "source": [
    "<ul>\n",
    "    <li>The value for <b>expression</b> will be returned to the part of the program that called the function.</li>\n",
    "<li>The expression in the <i>return</i> statement can be a complex expression, such as a sum of two variables or the result of another value-returning function.</li>\n",
    "    </ul>"
   ]
  },
  {
   "cell_type": "markdown",
   "metadata": {},
   "source": [
    "<b>Example 1:</b>"
   ]
  },
  {
   "cell_type": "code",
   "execution_count": 2,
   "metadata": {},
   "outputs": [
    {
     "name": "stdout",
     "output_type": "stream",
     "text": [
      "70\n"
     ]
    }
   ],
   "source": [
    "def main():\n",
    "    my_res = sum_fun(20,50)\n",
    "    print(my_res)\n",
    "\n",
    "def sum_fun(num1, num2):\n",
    "    result = num1 + num2 \n",
    "    return result\n",
    "\n",
    "main()"
   ]
  },
  {
   "cell_type": "markdown",
   "metadata": {},
   "source": [
    "<b>Example 2:</b>"
   ]
  },
  {
   "cell_type": "code",
   "execution_count": 3,
   "metadata": {},
   "outputs": [
    {
     "name": "stdout",
     "output_type": "stream",
     "text": [
      "57\n"
     ]
    }
   ],
   "source": [
    "def sum(num1, num2): \n",
    "    return num1 + num2\n",
    "\n",
    "res = sum(12,45)\n",
    "print(res)"
   ]
  },
  {
   "cell_type": "markdown",
   "metadata": {},
   "source": [
    "<b>Example 3:</b> Write a program that asks for the age of user and and his friend and then add them together."
   ]
  },
  {
   "cell_type": "code",
   "execution_count": null,
   "metadata": {},
   "outputs": [],
   "source": [
    "def main():\n",
    "    first_age = int(input('Enter your age: '))\n",
    "    second_age = int(input(\"Enter your best friend's age: \"))\n",
    "    total = sum(first_age, second_age)\n",
    "    print('Together you are', total, 'years old.')\n",
    "\n",
    "def sum(num1, num2):\n",
    "    result = num1 + num2 \n",
    "    return result\n",
    "\n",
    "\n",
    "main()"
   ]
  },
  {
   "cell_type": "markdown",
   "metadata": {},
   "source": [
    "### 7.1. How to Use Value-Returning Functions"
   ]
  },
  {
   "cell_type": "markdown",
   "metadata": {},
   "source": [
    "Value-returning function can be useful in specific situations:\n",
    "<ul>\n",
    "    <li>Have function prompt user for input and return the user’s input</li>\n",
    "</ul>\n",
    "\n",
    "<b>Example:</b>"
   ]
  },
  {
   "cell_type": "code",
   "execution_count": 4,
   "metadata": {},
   "outputs": [
    {
     "name": "stdout",
     "output_type": "stream",
     "text": [
      "Enter the item's regular price: 100\n"
     ]
    }
   ],
   "source": [
    "def get_regular_price():\n",
    "    price = float(input(\"Enter the item's regular price: \"))\n",
    "    return price\n",
    "            \n",
    "# Get the item's regular price. \n",
    "reg_price = get_regular_price()"
   ]
  },
  {
   "cell_type": "code",
   "execution_count": 6,
   "metadata": {},
   "outputs": [
    {
     "name": "stdout",
     "output_type": "stream",
     "text": [
      "100.0\n"
     ]
    }
   ],
   "source": [
    "print(reg_price)"
   ]
  },
  {
   "cell_type": "markdown",
   "metadata": {},
   "source": [
    "<ul>\n",
    "<li>mathematical expressions</li>\n",
    "</ul>  \n",
    "\n",
    "<b>Example:</b>"
   ]
  },
  {
   "cell_type": "code",
   "execution_count": 7,
   "metadata": {},
   "outputs": [
    {
     "name": "stdout",
     "output_type": "stream",
     "text": [
      "20.0\n"
     ]
    }
   ],
   "source": [
    "DISCOUNT_PERCENTAGE = 0.2\n",
    "\n",
    "def discount(price):  \n",
    "    return price * DISCOUNT_PERCENTAGE\n",
    "\n",
    "my_price = 100\n",
    "my_discount = discount(my_price)\n",
    "print(my_discount)"
   ]
  },
  {
   "cell_type": "markdown",
   "metadata": {},
   "source": [
    "<b>Example:</b> Full code"
   ]
  },
  {
   "cell_type": "code",
   "execution_count": 8,
   "metadata": {},
   "outputs": [
    {
     "name": "stdout",
     "output_type": "stream",
     "text": [
      "Enter the item's regular price: 100\n",
      "The sale price is $80.00\n"
     ]
    }
   ],
   "source": [
    "# This program calculates a retail item's sale price.\n",
    "\n",
    "# DISCOUNT_PERCENTAGE is used as a global constant for the discount percentage. \n",
    "DISCOUNT_PERCENTAGE = 0.20\n",
    "\n",
    "def main():\n",
    "\n",
    "    # Get the item's regular price. \n",
    "    reg_price = get_regular_price()\n",
    "\n",
    "    # Calculate the sale price.\n",
    "    sale_price = reg_price - discount(reg_price)\n",
    "\n",
    "    # Display the sale price.\n",
    "    print('The sale price is $', format(sale_price, ',.2f'), sep='')\n",
    "\n",
    "    \n",
    "# The get_regular_price function prompts the user to \n",
    "# enter an item's regular price and it \n",
    "# returns that value.\n",
    "def get_regular_price():\n",
    "    price = float(input(\"Enter the item's regular price: \")) \n",
    "    return price\n",
    "\n",
    "# The discount function accepts an item's price \n",
    "# as an argument and returns the amount of the \n",
    "# discount, specified by DISCOUNT_PERCENTAGE.\n",
    "def discount(price):\n",
    "    return price * DISCOUNT_PERCENTAGE\n",
    "\n",
    "\n",
    "main()"
   ]
  },
  {
   "cell_type": "markdown",
   "metadata": {},
   "source": [
    "### 7.2. Returning Strings"
   ]
  },
  {
   "cell_type": "markdown",
   "metadata": {},
   "source": [
    "We can write functions that return strings."
   ]
  },
  {
   "cell_type": "markdown",
   "metadata": {},
   "source": [
    "<b>Example:</b>"
   ]
  },
  {
   "cell_type": "code",
   "execution_count": 10,
   "metadata": {},
   "outputs": [
    {
     "name": "stdout",
     "output_type": "stream",
     "text": [
      "Enter your name: Test\n"
     ]
    },
    {
     "data": {
      "text/plain": [
       "'Test'"
      ]
     },
     "execution_count": 10,
     "metadata": {},
     "output_type": "execute_result"
    }
   ],
   "source": [
    "def get_name():\n",
    "    # Get the user's name.\n",
    "    name = input('Enter your name: ') \n",
    "    # Return the name.\n",
    "    return name\n",
    "\n",
    "get_name()"
   ]
  },
  {
   "cell_type": "markdown",
   "metadata": {},
   "source": [
    "### 7.3. Returning Boolean Values"
   ]
  },
  {
   "cell_type": "markdown",
   "metadata": {},
   "source": [
    "<b>Boolean function</b>: returns either <b>True</b> or <b>False</b>\n",
    "<ul>\n",
    "    <li>Use to test a condition then return either True or False to indicate whether the condition exists.</li>\n",
    "    <li>Use to simplifying complex input validation code.</li>\n",
    "</ul>\n",
    "\n",
    "\n",
    "<b>Note:</b> Common calculations, such as whether a number is even, can be easily repeated by calling a function that checks the condition."
   ]
  },
  {
   "cell_type": "markdown",
   "metadata": {},
   "source": [
    "<b>Example:</b> Consider the following code."
   ]
  },
  {
   "cell_type": "code",
   "execution_count": 11,
   "metadata": {},
   "outputs": [
    {
     "name": "stdout",
     "output_type": "stream",
     "text": [
      "Enter a number: 67\n",
      "The number is odd.\n"
     ]
    }
   ],
   "source": [
    "number = int(input('Enter a number: ')) \n",
    "\n",
    "if (number % 2) == 0:\n",
    "    print('The number is even.') \n",
    "else:\n",
    "    print('The number is odd.')"
   ]
  },
  {
   "cell_type": "markdown",
   "metadata": {},
   "source": [
    "Complete the followiing code to get the same result."
   ]
  },
  {
   "cell_type": "code",
   "execution_count": 12,
   "metadata": {},
   "outputs": [
    {
     "name": "stdout",
     "output_type": "stream",
     "text": [
      "Enter a number : 101\n",
      "The number is odd.\n"
     ]
    }
   ],
   "source": [
    "def main():\n",
    "    number = int(input('Enter a number : '))\n",
    "    # rest of the code\n",
    "    if is_even(number):\n",
    "        print('The number is even.') \n",
    "    else:\n",
    "        print('The number is odd.')\n",
    "    \n",
    "def is_even(num):\n",
    "    if (num % 2 == 0):\n",
    "        return True\n",
    "    else:\n",
    "        return False\n",
    "\n",
    "main()"
   ]
  },
  {
   "cell_type": "markdown",
   "metadata": {},
   "source": [
    "<b>Example:</b> Consider the following code."
   ]
  },
  {
   "cell_type": "code",
   "execution_count": null,
   "metadata": {},
   "outputs": [],
   "source": [
    "model = int(input('Enter the model number: '))\n",
    "\n",
    "# Validate the model number.\n",
    "while model != 100 and model != 200 and model != 300:\n",
    "    print('The valid model numbers are 100, 200 and 300.') \n",
    "    model = int(input('Enter a valid model number: '))"
   ]
  },
  {
   "cell_type": "markdown",
   "metadata": {},
   "source": [
    "Write the above code using the function structure"
   ]
  },
  {
   "cell_type": "code",
   "execution_count": 13,
   "metadata": {},
   "outputs": [
    {
     "name": "stdout",
     "output_type": "stream",
     "text": [
      "Enter the model number: 400\n",
      "The valid model numbers are 100, 200 and 300.\n",
      "Enter a valid model number: 100\n"
     ]
    }
   ],
   "source": [
    "def is_not_valid(num):\n",
    "    if num == 100:\n",
    "        return False\n",
    "    elif num == 200:\n",
    "        return False\n",
    "    elif num == 300:\n",
    "        return False\n",
    "    else:\n",
    "        return True\n",
    "\n",
    "model = int(input('Enter the model number: '))\n",
    "\n",
    "# Validate the model number.\n",
    "while is_not_valid(model):\n",
    "    print('The valid model numbers are 100, 200 and 300.') \n",
    "    model = int(input('Enter a valid model number: '))   "
   ]
  },
  {
   "cell_type": "code",
   "execution_count": null,
   "metadata": {},
   "outputs": [],
   "source": [
    "def main():\n",
    "    \n",
    "def is_even(x):\n",
    "    if x%2==0:\n",
    "        return True\n",
    "    else:\n",
    "        return False"
   ]
  },
  {
   "cell_type": "markdown",
   "metadata": {},
   "source": [
    "### 7.4. Returning Multiple Values"
   ]
  },
  {
   "cell_type": "markdown",
   "metadata": {},
   "source": [
    "In Python, a function can return multiple values.\n",
    "<ul>\n",
    "    <li>Specified after the <i>return</i> statement separated by commas.</li>\n",
    "<ul>\n",
    "General format: \n",
    "<br><i> return expression1, expression2, etc.</i>\n",
    "    </ul>\n",
    "<li>When you call such a function in an assignment statement, you need a separate variable on the left side of the <b>=&nbsp;</b> operator to receive each returned value.</li>\n",
    "</ul>\n"
   ]
  },
  {
   "cell_type": "markdown",
   "metadata": {},
   "source": [
    "<b>Example:</b>"
   ]
  },
  {
   "cell_type": "code",
   "execution_count": 17,
   "metadata": {},
   "outputs": [
    {
     "name": "stdout",
     "output_type": "stream",
     "text": [
      "Enter your first name: Mahyar\n",
      "Enter your last name: Vaghefi\n"
     ]
    }
   ],
   "source": [
    "def get_name():\n",
    "    # Get the user's first and last names. \n",
    "    first = input('Enter your first name: ') \n",
    "    last = input('Enter your last name: ')\n",
    "    # Return both names. \n",
    "    return first, last\n",
    "\n",
    "name = get_name()"
   ]
  },
  {
   "cell_type": "code",
   "execution_count": 18,
   "metadata": {},
   "outputs": [
    {
     "name": "stdout",
     "output_type": "stream",
     "text": [
      "('Mahyar', 'Vaghefi')\n"
     ]
    }
   ],
   "source": [
    "print(name)"
   ]
  },
  {
   "cell_type": "code",
   "execution_count": 16,
   "metadata": {},
   "outputs": [
    {
     "data": {
      "text/plain": [
       "'Vaghefi'"
      ]
     },
     "execution_count": 16,
     "metadata": {},
     "output_type": "execute_result"
    }
   ],
   "source": [
    "last_name"
   ]
  },
  {
   "cell_type": "markdown",
   "metadata": {},
   "source": [
    "## 8. The <i>math</i> Module"
   ]
  },
  {
   "cell_type": "markdown",
   "metadata": {},
   "source": [
    "<b>math module</b>: part of standard library that contains functions that are useful for performing mathematical calculations.\n",
    "<ul>\n",
    "<li>Typically accept one or more values as arguments, perform mathematical operation, and return the result.</li>\n",
    "    <li>Use of module requires an <i>import math</i> statement.</li>\n"
   ]
  },
  {
   "cell_type": "markdown",
   "metadata": {},
   "source": [
    "<img src= 'https://www.dropbox.com/s/ldci2mhldntkos6/math%20module.png?raw=1' />\n",
    "<i>Source:</i>  "
   ]
  },
  {
   "cell_type": "markdown",
   "metadata": {},
   "source": [
    "<b>Example:</b>"
   ]
  },
  {
   "cell_type": "code",
   "execution_count": 20,
   "metadata": {},
   "outputs": [
    {
     "name": "stdout",
     "output_type": "stream",
     "text": [
      "Enter a number: 2\n",
      "The square root of 2.0 0 is 7.38905609893065\n"
     ]
    }
   ],
   "source": [
    "import math\n",
    "\n",
    "def main():\n",
    "    number = float(input('Enter a number: '))\n",
    "    # Get the square root of the number. \n",
    "    square_root = math.exp(number)\n",
    "    # Display the square root.\n",
    "    print('The square root of', number, '0 is', square_root)\n",
    "\n",
    "    \n",
    "# Call the main function. \n",
    "main()"
   ]
  },
  {
   "cell_type": "markdown",
   "metadata": {},
   "source": [
    "<ul><li>The math module defines variables <b><i>pi and e</i></b>, which are assigned the mathematical values for <i>pi and e</i></li>\n",
    "<ul>\n",
    "    <li>Can be used in equations that require these values, to get more accurate results</li>\n",
    "</ul>\n",
    "    <li>Variables must also be called using the dot notation</li>\n",
    "</ul>"
   ]
  },
  {
   "cell_type": "markdown",
   "metadata": {},
   "source": [
    "<b>Example:</b>"
   ]
  },
  {
   "cell_type": "code",
   "execution_count": 22,
   "metadata": {},
   "outputs": [
    {
     "data": {
      "text/plain": [
       "3.141592653589793"
      ]
     },
     "execution_count": 22,
     "metadata": {},
     "output_type": "execute_result"
    }
   ],
   "source": [
    "math.pi"
   ]
  },
  {
   "cell_type": "code",
   "execution_count": 26,
   "metadata": {},
   "outputs": [
    {
     "name": "stdout",
     "output_type": "stream",
     "text": [
      "Enter the radius3.21\n",
      "32.37128486185459\n"
     ]
    }
   ],
   "source": [
    "import math\n",
    "\n",
    "radius = float(input('Enter the radius'))\n",
    "\n",
    "circle_area = math.pi * radius**2\n",
    "\n",
    "print(circle_area)"
   ]
  },
  {
   "cell_type": "markdown",
   "metadata": {},
   "source": [
    "## 9. Storing Functions in Modules"
   ]
  },
  {
   "cell_type": "markdown",
   "metadata": {},
   "source": [
    "As your program become larger and more complex, the need to organize your code become greater. A module is simply is a file that contains python code. When we break the program into modules, each module should contain functions to perform related tasks. For example, here is a circle module.     "
   ]
  },
  {
   "cell_type": "code",
   "execution_count": 27,
   "metadata": {},
   "outputs": [
    {
     "name": "stdout",
     "output_type": "stream",
     "text": [
      "Writing circle.py\n"
     ]
    }
   ],
   "source": [
    "%%file circle.py\n",
    "\n",
    "import math\n",
    "\n",
    "def main():\n",
    "    r = 10\n",
    "    my_area = area(r)\n",
    "    print(my_area)\n",
    "\n",
    "def area(radius):\n",
    "    return math.pi * radius ** 2\n",
    "\n",
    "def circumference(radius):\n",
    "    return 2 * math.pi * radius\n",
    "\n",
    "if __name__ == '__main__':\n",
    "    main()"
   ]
  },
  {
   "cell_type": "markdown",
   "metadata": {},
   "source": [
    "<b>Note: </b> Keep in mind that you need to save is as separate file in orderr to use it as a module. Let's see how we can use the above code as a module."
   ]
  },
  {
   "cell_type": "code",
   "execution_count": 28,
   "metadata": {},
   "outputs": [],
   "source": [
    "# Write your code over here\n",
    "import circle"
   ]
  },
  {
   "cell_type": "markdown",
   "metadata": {},
   "source": [
    "<b>Note: </b> When programmers create modules, they do not usually intend to for those modules to be run is a stand-alone format. For this reason most modules only contain the functions and not a procedure to call them. However, it is possible to create a python program that can be either run as a stand-alone program or imported into another program. here is the structure to do so:"
   ]
  },
  {
   "cell_type": "code",
   "execution_count": 29,
   "metadata": {},
   "outputs": [
    {
     "name": "stdout",
     "output_type": "stream",
     "text": [
      "452.3893421169302\n"
     ]
    }
   ],
   "source": [
    "new_value = circle.area(12)\n",
    "print(new_value)"
   ]
  },
  {
   "cell_type": "code",
   "execution_count": null,
   "metadata": {},
   "outputs": [],
   "source": [
    "circle."
   ]
  },
  {
   "cell_type": "code",
   "execution_count": null,
   "metadata": {},
   "outputs": [],
   "source": [
    "# this is a template code and you cannot run it\n",
    "def main():\n",
    "    call function test1\n",
    "    call function test2\n",
    "    pass\n",
    "\n",
    "def test1():\n",
    "    pass\n",
    "\n",
    "def test2():\n",
    "    pass\n",
    "\n",
    "if __name__ == '__main__':\n",
    "    main()"
   ]
  },
  {
   "cell_type": "markdown",
   "metadata": {},
   "source": [
    "Here is an example for creating rectangle module:"
   ]
  },
  {
   "cell_type": "code",
   "execution_count": null,
   "metadata": {},
   "outputs": [],
   "source": [
    "def area(width, length):\n",
    "    return width * length\n",
    "\n",
    "def perimeter(width, length):\n",
    "    return 2 * (width + length)\n",
    "\n",
    "def main():\n",
    "    width = float(input(\"Enter the rectangle's width: \"))\n",
    "    length = float(input(\"Enter the rectangle's length: \"))\n",
    "    print('The area is ', area(width, length))\n",
    "    print('The perimeter is ', perimeter(width, length))\n",
    "\n",
    "if __name__ == '__main__':\n",
    "    main()"
   ]
  },
  {
   "cell_type": "markdown",
   "metadata": {},
   "source": [
    "Explore the above code and understand how you can use it as a module or as a standalone program."
   ]
  },
  {
   "cell_type": "code",
   "execution_count": null,
   "metadata": {},
   "outputs": [],
   "source": []
  }
 ],
 "metadata": {
  "kernelspec": {
   "display_name": "Python 3 (ipykernel)",
   "language": "python",
   "name": "python3"
  },
  "language_info": {
   "codemirror_mode": {
    "name": "ipython",
    "version": 3
   },
   "file_extension": ".py",
   "mimetype": "text/x-python",
   "name": "python",
   "nbconvert_exporter": "python",
   "pygments_lexer": "ipython3",
   "version": "3.10.11"
  }
 },
 "nbformat": 4,
 "nbformat_minor": 4
}
