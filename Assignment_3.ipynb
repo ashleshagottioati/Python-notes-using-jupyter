{
 "cells": [
  {
   "cell_type": "markdown",
   "id": "5990b891",
   "metadata": {},
   "source": [
    "<h1 align='center' style=\"color: blue;\">Assignment #3</h1>"
   ]
  },
  {
   "cell_type": "markdown",
   "id": "bc3766c2",
   "metadata": {},
   "source": [
    "<b> Question 1:</b> In this question, you need to use a package called `emoji` in your work. To do so, run the following lines of code to install and import the package into your environment. "
   ]
  },
  {
   "cell_type": "code",
   "execution_count": 14,
   "id": "c43e9d02",
   "metadata": {},
   "outputs": [
    {
     "name": "stdout",
     "output_type": "stream",
     "text": [
      "Requirement already satisfied: emoji in c:\\users\\ashle\\appdata\\local\\packages\\pythonsoftwarefoundation.python.3.10_qbz5n2kfra8p0\\localcache\\local-packages\\python310\\site-packages (2.11.0)\n"
     ]
    },
    {
     "name": "stderr",
     "output_type": "stream",
     "text": [
      "\n",
      "[notice] A new release of pip is available: 23.0.1 -> 24.0\n",
      "[notice] To update, run: C:\\Users\\ashle\\AppData\\Local\\Microsoft\\WindowsApps\\PythonSoftwareFoundation.Python.3.10_qbz5n2kfra8p0\\python.exe -m pip install --upgrade pip\n"
     ]
    }
   ],
   "source": [
    "# install the package\n",
    "!pip install emoji"
   ]
  },
  {
   "cell_type": "code",
   "execution_count": 15,
   "id": "fbeca517",
   "metadata": {},
   "outputs": [],
   "source": [
    "# import the package\n",
    "import emoji"
   ]
  },
  {
   "cell_type": "markdown",
   "id": "366399cc",
   "metadata": {},
   "source": [
    "Now consider the following list:"
   ]
  },
  {
   "cell_type": "code",
   "execution_count": 16,
   "id": "cda5c2ae",
   "metadata": {},
   "outputs": [],
   "source": [
    "emoji_list = [':slightly_smiling_face:',':pensive_face:',':disguised_face:',\n",
    "              ':headphone:',':astonished_face:',':hamburger:',':grinning_face_with_smiling_eyes:',\n",
    "              ':panda:',':fearful_face:',':loudly_crying_face:']"
   ]
  },
  {
   "cell_type": "markdown",
   "id": "ea436cae",
   "metadata": {},
   "source": []
  },
  {
   "cell_type": "markdown",
   "id": "fc6c356e",
   "metadata": {},
   "source": [
    "The preceding list contains a list of codes that represent various emojis. Using the `emojize` function, you can see the actual emoji. Here's an example:"
   ]
  },
  {
   "cell_type": "code",
   "execution_count": 17,
   "id": "14317b4b",
   "metadata": {},
   "outputs": [
    {
     "name": "stdout",
     "output_type": "stream",
     "text": [
      ":slightly_smiling_face: --> 🙂\n",
      ":pensive_face: --> 😔\n",
      ":disguised_face: --> 🥸\n",
      ":headphone: --> 🎧\n",
      ":astonished_face: --> 😲\n",
      ":hamburger: --> 🍔\n",
      ":grinning_face_with_smiling_eyes: --> 😄\n",
      ":panda: --> 🐼\n",
      ":fearful_face: --> 😨\n",
      ":loudly_crying_face: --> 😭\n"
     ]
    }
   ],
   "source": [
    "for item in emoji_list:\n",
    "    print(item,'-->',emoji.emojize(item))"
   ]
  },
  {
   "cell_type": "markdown",
   "id": "f404e30e",
   "metadata": {},
   "source": [
    "Your task is to perform following parts:\n",
    "<ol>\n",
    "    <li><b>Part #1:</b>\n",
    "        <ul>\n",
    "        <li>Use the <i>input</i> function to show each of the above emojis to a user and ask her to provide 5 words that describe the emoji. The user should provide 5 single word separated by ';' to describe the emoji. <b>For example:</b> \"Happy;Nice; smile;happy ;cheers \"</li>\n",
    "        <li>After receiving the user's input, you must divide the string into a list of five items, remove any possible white space around the words, and convert all of them to lowercase.<b>For example: </b>the above input should converted into ['happy','nice','smile','happy','cheers'] </li>\n",
    "        <li>Convert the list to a set to eliminate any possible duplicates.  <b>For example: </b>the above set should converted into {'happy','nice','smile','cheers'}   \n",
    "        </li>\n",
    "        <li>Make a dictionary that associates each emoji code with a set of words provided by the user as a descriptor for that emoji. In doing so, you need to use the emoji code as the key and the identified set as the value. <b>For example: </b> {':slightly_smiling_face:':{'happy','nice','smile','cheers'}}\n",
    "         </li>\n",
    "            <li>Using the iterative structure, add one set to the dictionary for each emoji code.</li>  \n",
    "        </ul>\n",
    "    <li><b>Part #2:</b> Use the pickle package to save the dictionary you created in the previous section to a data file.</li>\n",
    "    <li><b>Part #3:</b> Load the saved data to a new variable named <i>emoji_dict</i>.</li>\n",
    "    <li><b>Part #4:</b> Prompt the user to write a sentence containing some of the words she used to describe the emojis. Add the associated emoji to the sentence right after the word that describe the emoji and print it for the user <b>For example: </b> If the user inputs \"I'm so happy today\", your code should print \"I'm so happy 🙂 today.\"</li>\n",
    "         \n",
    "</ol>"
   ]
  },
  {
   "cell_type": "code",
   "execution_count": 18,
   "id": "ce336e8a",
   "metadata": {},
   "outputs": [],
   "source": [
    "# Write part #1 code here\n",
    "dictEmoji = {}\n",
    "for item in emoji_list:\n",
    "    userInput = input(f\"Describe {emoji.emojize(item)} in 5 words separated by ';': \")\n",
    "    words = userInput.lower().strip().split(';')\n",
    "    wordsSet = set(words)\n",
    "    dictEmoji[item] = wordsSet"
   ]
  },
  {
   "cell_type": "code",
   "execution_count": 19,
   "id": "f0b67766",
   "metadata": {},
   "outputs": [],
   "source": [
    "# Write part #2 code here\n",
    "import pickle\n",
    "with open('emoji_data.pkl', 'wb') as file:\n",
    "    pickle.dump(dictEmoji,file)"
   ]
  },
  {
   "cell_type": "markdown",
   "id": "0fd07c8e",
   "metadata": {},
   "source": []
  },
  {
   "cell_type": "code",
   "execution_count": 20,
   "id": "f4e52e88",
   "metadata": {},
   "outputs": [],
   "source": [
    "# Write part #3 code here\n",
    "with open('emoji_data.pkl', 'rb') as file:\n",
    "    dictEmoji = pickle.load(file)\n"
   ]
  },
  {
   "cell_type": "code",
   "execution_count": 21,
   "id": "d5bfb23e",
   "metadata": {},
   "outputs": [
    {
     "name": "stdout",
     "output_type": "stream",
     "text": [
      "Your sentence with emojis added:  I am happy 🙂 and i smile 😄 everyday to make music 🎧\n"
     ]
    }
   ],
   "source": [
    "# Write part #4 code here\n",
    "userSentence = input(\"Please write a sentence containing words that describe the emojis: \")\n",
    "for emojiCode, wordsSet in dictEmoji.items():\n",
    "    for word in wordsSet:\n",
    "        for user_word in userSentence.split():\n",
    "            if word == user_word.lower():\n",
    "                userSentence = userSentence.replace(user_word, f\"{user_word} {emoji.emojize(emojiCode)}\")\n",
    "print(\"Your sentence with emojis added: \", userSentence)"
   ]
  },
  {
   "cell_type": "markdown",
   "id": "4a167695",
   "metadata": {},
   "source": [
    "<b> Question 2:</b> Let's use object oriented programming for our Emoji work. In doing so you need to perform the following tasks.\n",
    "\n",
    "<ol>\n",
    "    <li><b>Part #1:</b>\n",
    "        <ul>\n",
    "        <li>Create a class called <i>emoji_descriptor</i>. Each object created with the emoji_descriptor class has two attributes: <b>emoji_code</b> and <b>emoji_descriptors.</b> Both of these attributes should be hidden and inaccessible from the outside.</li>\n",
    "            <li>The class should initialize the value of these two attributes in the following manner: <b>1.</b> emoji_code should be initialized by getting one input value form the user, <b>2.</b> emoji_descriptors should be initialized with an empty set or by a set of word descriptors provided by the user. <b>For example: </b> you should be able to create an instance of emoji_descriptor class using either <b>my_emoji_obj =  emoji_descriptor(':slightly_smiling_face:',{'happy','smile'})</b>, or  <b>my_emoji_obj =  emoji_descriptor(':slightly_smiling_face:')</b></li>\n",
    "            <li>The class should include a method called update_descriptors. This method should be designed in such a way that it accepts a set variable as an input and updates the emoji_descriptors attribute by adding the items in the input set to the existing descriptors.</li>\n",
    "            <li>The class should include a method called remove_descriptors. This method should be designed in such a way that it accepts a set variable as an input and updates the emoji_descriptors attribute by removing the items in the input set from the existing descriptors in the emoji_descriptors attribute.</li>\n",
    "            <li>The class should include a method called get_emoji_code. This method should return the value of emoji_code attribute.</li>\n",
    "            <li>The class should include a method called get_descriptors. This method should return the value of emoji_descriptors attribute.</li>\n",
    "            <li>The class should also have an __str__ method. As a result, if a user prints the object associated with the class, the emoji icon associated with the emoji code is displayed. </li>\n",
    "        </ul>\n",
    "    </li>\n",
    "    <li><b>Part #2:</b> Save the class code as emoji_descriptor.py</li>\n",
    "    <li><b>Part #3:</b> Import the class file in your code and create a sample object for the :fearful_face:. Test all the methods of the class in your code to show that they are functional.</li>\n",
    "</ol>"
   ]
  },
  {
   "cell_type": "code",
   "execution_count": 1,
   "id": "f761203b",
   "metadata": {},
   "outputs": [],
   "source": [
    "# Write part #1 code here\n",
    "class emoji_descriptor:\n",
    "    def __init__(self, emoji_code, emoji_descriptors=None):\n",
    "        self.__emoji_code = emoji_code\n",
    "        if emoji_descriptors is None:\n",
    "            self.__emoji_descriptors = set()\n",
    "        else:\n",
    "            self.__emoji_descriptors = emoji_descriptors\n",
    "\n",
    "    def update_descriptors(self, new_descriptors):\n",
    "        self.__emoji_descriptors.update(new_descriptors)\n",
    "\n",
    "    def remove_descriptors(self, descriptors_to_remove):\n",
    "        self.__emoji_descriptors.difference_update(descriptors_to_remove)\n",
    "\n",
    "    def get_emoji_code(self):\n",
    "        return self.__emoji_code\n",
    "\n",
    "    def get_descriptors(self):\n",
    "        return self.__emoji_descriptors\n",
    "\n",
    "    def __str__(self):\n",
    "        return self.__emoji_code\n"
   ]
  },
  {
   "cell_type": "code",
   "execution_count": 3,
   "id": "42716361",
   "metadata": {},
   "outputs": [],
   "source": [
    "# Write part #2 code here"
   ]
  },
  {
   "cell_type": "code",
   "execution_count": 5,
   "id": "60f196ac",
   "metadata": {},
   "outputs": [
    {
     "name": "stdout",
     "output_type": "stream",
     "text": [
      "Updated descriptors: {'scared', 'terrified'}\n",
      "Descriptors after removal: {'scared'}\n",
      "Emoji code: :fearful_face:\n",
      "Printing object: :fearful_face:\n"
     ]
    }
   ],
   "source": [
    "# Write part #3 code here\n",
    "from emojiDescriptor import emoji_descriptor\n",
    "\n",
    "# Create a sample object for :fearful_face:\n",
    "fearful_emoji = emoji_descriptor(\":fearful_face:\")\n",
    "\n",
    "# Test update_descriptors method\n",
    "fearful_emoji.update_descriptors({\"scared\", \"terrified\"})\n",
    "print(\"Updated descriptors:\", fearful_emoji.get_descriptors())\n",
    "\n",
    "# Test remove_descriptors method\n",
    "fearful_emoji.remove_descriptors({\"terrified\"})\n",
    "print(\"Descriptors after removal:\", fearful_emoji.get_descriptors())\n",
    "\n",
    "# Test get_emoji_code method\n",
    "print(\"Emoji code:\", fearful_emoji.get_emoji_code())\n",
    "\n",
    "# Test __str__ method\n",
    "print(\"Printing object:\", fearful_emoji)\n"
   ]
  },
  {
   "cell_type": "markdown",
   "id": "9e583af3",
   "metadata": {},
   "source": [
    "<b> Question 3:</b> Write a program that creates a database named `library.db`. The database should have the following tables `books`, `customers` and `borrowers`. \n",
    "\n",
    "<ol>\n",
    "    <li>The <b>books</b> table should have the following columns: 'B_ID', 'Book_Name', 'Published_Year', 'Author_Name'. The 'B_ID' should be defined as the primary key. Columns should be defined with appreciate types.</li>\n",
    "    <li>The <b>customers</b> table should have the following columns: 'C_ID', 'Customer_Name', 'Customer_Last_Name'. The 'C_ID' should be defined as the primary key. Columns should be defined with appreciate types.</li>\n",
    "    <li>The <b>borrowers</b> table should have the following columns: 'L_ID', 'B_ID', 'C_ID'. The 'L_ID' should be defined as the primary key. The 'B_ID' should be defined as the foreign key. The 'C_ID' should be defined as the foreign key. </li> \n",
    "    <li>Create a program that prompts the user to enter information for four books and inserts them into a table of books. </li> \n",
    "    <li>Create a program that prompts the user to enter information for three customers and inserts them into a table of customers. </li> \n",
    "    <li>Create a program that (without asking the user) adds information about two books borrowed by two different customers. In doing so use the B_ID and C_ID values.</li>\n",
    "    <li>Make a function that takes the B ID and deletes the associated record from the books table. If the book that the user wishes to delete has a foreign key associated with it in the borrower's table, the program should display an appropriate error message.</li>\n",
    "    <li>Create a function that allows users to search the books table by entering a complete or partial book name and displays all records that match the search term entered by the user.</li>\n",
    "    <li>Create a function that takes three arguments: C ID, new_name, and new_last_name, and updates the Customer_Name and Customer_Last_Name fields for the customer with the id equal to C_ID to the new values.</li>\n",
    "</ol>"
   ]
  },
  {
   "cell_type": "code",
   "execution_count": 1,
   "id": "ba67d679",
   "metadata": {},
   "outputs": [],
   "source": [
    "# Write part #1 code here\n",
    "import sqlite3\n",
    "\n",
    "conn = sqlite3.connect('library.db')\n",
    "cursor = conn.cursor()\n",
    "\n",
    "# Create books table\n",
    "cursor.execute('''CREATE TABLE IF NOT EXISTS books (\n",
    "                    B_ID INTEGER PRIMARY KEY,\n",
    "                    Book_Name TEXT,\n",
    "                    Published_Year INTEGER,\n",
    "                    Author_Name TEXT\n",
    "                )''')\n",
    "\n",
    "conn.commit()\n",
    "conn.close()\n"
   ]
  },
  {
   "cell_type": "code",
   "execution_count": 2,
   "id": "e63a95e9",
   "metadata": {},
   "outputs": [],
   "source": [
    "# Write part #2 code here\n",
    "import sqlite3\n",
    "\n",
    "conn = sqlite3.connect('library.db')\n",
    "cursor = conn.cursor()\n",
    "\n",
    "# Create customers table\n",
    "cursor.execute('''CREATE TABLE IF NOT EXISTS customers (\n",
    "                    C_ID INTEGER PRIMARY KEY,\n",
    "                    Customer_Name TEXT,\n",
    "                    Customer_Last_Name TEXT\n",
    "                )''')\n",
    "\n",
    "conn.commit()\n",
    "conn.close()\n"
   ]
  },
  {
   "cell_type": "code",
   "execution_count": 3,
   "id": "26a4d380",
   "metadata": {},
   "outputs": [],
   "source": [
    "# Write part #3 code here\n",
    "import sqlite3\n",
    "\n",
    "conn = sqlite3.connect('library.db')\n",
    "cursor = conn.cursor()\n",
    "\n",
    "# Create borrowers table\n",
    "cursor.execute('''CREATE TABLE IF NOT EXISTS borrowers (\n",
    "                    L_ID INTEGER PRIMARY KEY,\n",
    "                    B_ID INTEGER,\n",
    "                    C_ID INTEGER,\n",
    "                    FOREIGN KEY(B_ID) REFERENCES books(B_ID),\n",
    "                    FOREIGN KEY(C_ID) REFERENCES customers(C_ID)\n",
    "                )''')\n",
    "\n",
    "conn.commit()\n",
    "conn.close()\n"
   ]
  },
  {
   "cell_type": "code",
   "execution_count": 4,
   "id": "18892f23",
   "metadata": {},
   "outputs": [],
   "source": [
    "# Write part #4 code here\n",
    "# Function to insert books\n",
    "def insert_books():\n",
    "    conn = sqlite3.connect('library.db')\n",
    "    cursor = conn.cursor()\n",
    "    \n",
    "    for i in range(4):\n",
    "        book_name = input(\"Enter book name: \")\n",
    "        published_year = int(input(\"Enter published year: \"))\n",
    "        author_name = input(\"Enter author name: \")\n",
    "        cursor.execute(\"INSERT INTO books (Book_Name, Published_Year, Author_Name) VALUES (?, ?, ?)\", (book_name, published_year, author_name))\n",
    "\n",
    "    conn.commit()\n",
    "    conn.close()"
   ]
  },
  {
   "cell_type": "code",
   "execution_count": 5,
   "id": "2f0604bd",
   "metadata": {},
   "outputs": [],
   "source": [
    "# Write part #5 code here\n",
    "# Function to insert customers\n",
    "def insert_customers():\n",
    "    conn = sqlite3.connect('library.db')\n",
    "    cursor = conn.cursor()\n",
    "    \n",
    "    for i in range(3):\n",
    "        customer_name = input(\"Enter customer name: \")\n",
    "        customer_last_name = input(\"Enter customer last name: \")\n",
    "        cursor.execute(\"INSERT INTO customers (Customer_Name, Customer_Last_Name) VALUES (?, ?)\", (customer_name, customer_last_name))\n",
    "\n",
    "    conn.commit()\n",
    "    conn.close()"
   ]
  },
  {
   "cell_type": "code",
   "execution_count": 6,
   "id": "dff4f37c",
   "metadata": {},
   "outputs": [],
   "source": [
    "# Write part #6 code here\n",
    "# Function to insert borrowers\n",
    "def insert_borrowers():\n",
    "    conn = sqlite3.connect('library.db')\n",
    "    cursor = conn.cursor()\n",
    "\n",
    "    # Assuming B_ID and C_ID are predefined values\n",
    "    cursor.execute(\"INSERT INTO borrowers (B_ID, C_ID) VALUES (?, ?)\", (1, 1))\n",
    "    cursor.execute(\"INSERT INTO borrowers (B_ID, C_ID) VALUES (?, ?)\", (2, 2))\n",
    "\n",
    "    conn.commit()\n",
    "    conn.close()"
   ]
  },
  {
   "cell_type": "code",
   "execution_count": 7,
   "id": "20942ca1",
   "metadata": {},
   "outputs": [],
   "source": [
    "# Write part #7 code here\n",
    "# Function to delete book by B_ID\n",
    "def delete_book(b_id):\n",
    "    conn = sqlite3.connect('library.db')\n",
    "    cursor = conn.cursor()\n",
    "    \n",
    "    # Check if the book has associated borrowers\n",
    "    cursor.execute(\"SELECT * FROM borrowers WHERE B_ID=?\", (b_id,))\n",
    "    result = cursor.fetchone()\n",
    "    if result:\n",
    "        print(\"Cannot delete the book as it has associated borrowers.\")\n",
    "    else:\n",
    "        cursor.execute(\"DELETE FROM books WHERE B_ID=?\", (b_id,))\n",
    "        print(\"Book deleted successfully.\")\n",
    "    \n",
    "    conn.commit()\n",
    "    conn.close()\n"
   ]
  },
  {
   "cell_type": "code",
   "execution_count": 8,
   "id": "a5197b88",
   "metadata": {},
   "outputs": [],
   "source": [
    "# Write part #8 code here\n",
    "# Function to search books by name\n",
    "def search_books(book_name):\n",
    "    conn = sqlite3.connect('library.db')\n",
    "    cursor = conn.cursor()\n",
    "    \n",
    "    cursor.execute(\"SELECT * FROM books WHERE Book_Name LIKE ?\", ('%'+book_name+'%',))\n",
    "    books = cursor.fetchall()\n",
    "    for book in books:\n",
    "        print(book)\n",
    "    \n",
    "    conn.close()"
   ]
  },
  {
   "cell_type": "code",
   "execution_count": 10,
   "id": "1c6dfbed",
   "metadata": {},
   "outputs": [],
   "source": [
    "# Write part #9 code here\n",
    "# Function to update customer information\n",
    "def update_customer(c_id, new_name, new_last_name):\n",
    "    conn = sqlite3.connect('library.db')\n",
    "    cursor = conn.cursor()\n",
    "    \n",
    "    cursor.execute(\"UPDATE customers SET Customer_Name=?, Customer_Last_Name=? WHERE C_ID=?\", (new_name, new_last_name, c_id))\n",
    "    print(\"Customer information updated successfully.\")\n",
    "    \n",
    "    conn.commit()\n",
    "    conn.close()\n",
    "\n"
   ]
  },
  {
   "cell_type": "code",
   "execution_count": 13,
   "id": "c841b8bb",
   "metadata": {},
   "outputs": [
    {
     "name": "stdout",
     "output_type": "stream",
     "text": [
      "Book deleted successfully.\n",
      "(5, 'Harry potter', 2001, 'Jill')\n",
      "Customer information updated successfully.\n"
     ]
    }
   ],
   "source": [
    "# Main program\n",
    "insert_books()\n",
    "insert_customers()\n",
    "insert_borrowers()\n",
    "delete_book(3)  # Example usage of delete_book function\n",
    "search_books(\"Harry Potter\")  # Example usage of search_books function\n",
    "update_customer(1, \"John\", \"Doe\")  # Example usage of update_customer function"
   ]
  },
  {
   "cell_type": "markdown",
   "id": "edcbb78a",
   "metadata": {},
   "source": [
    "<p><b>Output</b>: \n",
    "    <ul>\n",
    "        <li>You need to provide answers in the designated cell for each question.</li>\n",
    "        <li>You need to make sure that your final file contains both codes and results (don't clear the outputs).</li>\n",
    "        <li>Save your file in the .ipynb format (as it is right now).</li>\n",
    "        <li>Upload your file into Canvas (Assignment #3)</li>\n",
    "        <li>You should also upload any other .py file that the assignment ask you to creat.</li>\n",
    "        <li>All the assignments should be submitted by <b>Tuseday Apr 23 at 7:00 PM</b>. No late submission will be accepted</li>\n",
    "        <li>I will not accept any submission by email or any other method, so make sure that you submit the file in a right place at a right time.</li>\n",
    "        </ul>\n",
    "        </p> "
   ]
  }
 ],
 "metadata": {
  "kernelspec": {
   "display_name": "Python 3 (ipykernel)",
   "language": "python",
   "name": "python3"
  },
  "language_info": {
   "codemirror_mode": {
    "name": "ipython",
    "version": 3
   },
   "file_extension": ".py",
   "mimetype": "text/x-python",
   "name": "python",
   "nbconvert_exporter": "python",
   "pygments_lexer": "ipython3",
   "version": "3.10.11"
  }
 },
 "nbformat": 4,
 "nbformat_minor": 5
}
