{
 "cells": [
  {
   "cell_type": "markdown",
   "metadata": {},
   "source": [
    "<h1 align='center' style=\"color: blue;\">Assignment #1</h1>"
   ]
  },
  {
   "cell_type": "markdown",
   "metadata": {},
   "source": [
    "<b> Question 1:</b>\n",
    "\n",
    "<ol>\n",
    "    <li>Write Python code that prompts the user to input the following information: <i>firstName</i>, <i>lastName</i>, <i>heightInMeters</i>, and <i>favoriteColor</i>.</li>\n",
    "    <li>Convert the user's <i>heightInMeters</i> to centimeters. (Remember: 1 meter = 100 centimeters)</li>\n",
    "    <li>Display the following message to the user three times: <br><br>\n",
    "        \"Hello [FIRSTNAME] [LASTNAME]. Did you know you are [HEIGHT] centimeters tall and your favorite color is [COLOR]?\"\n",
    "        <ul>\n",
    "            <li>Use the <i>\"fstring format\"</i> to display the message for the first time</li> \n",
    "            <li>Use the following structure in print function to display the second message: <i>print( , , )</i>. - <b>Note:</b> Use as many commas as needed.</li> \n",
    "            <li>Use the following structure in print function to display the third message: <i>print( + + )</i>. - <b>Note:</b> Use as many +s as needed.</li>\n",
    "        </ul>\n",
    "    </li>\n",
    "    <li> Make sure to put comment for every line in your code</li>\n",
    "    <li> Use camelCase style to name your variables.</li>\n",
    "</ol>"
   ]
  },
  {
   "cell_type": "code",
   "execution_count": 3,
   "metadata": {},
   "outputs": [
    {
     "name": "stdout",
     "output_type": "stream",
     "text": [
      "Hello ash got. Did you know you are 18700.0 centimeters tall and your favorite color is pink?\n",
      "Hello ash got . Did you know you are 18700.0 centimeters tall and your favorite color is pink ?\n",
      "Hello ash got. Did you know you are 18700.0 centimeters tall and your favorite color is pink?\n"
     ]
    }
   ],
   "source": [
    "# Write your code over here. \n",
    "# Get user input for firstName, lastName, heightInMeters, and favoriteColor\n",
    "firstName = input(\"Enter your first name: \")\n",
    "lastName = input(\"Enter your last name: \")\n",
    "heightInMeters = float(input(\"Enter your height in meters: \"))\n",
    "favoriteColor = input(\"Enter your favorite color: \")\n",
    "\n",
    "# Convert heightInMeters to centimeters\n",
    "heightInCentimeters = heightInMeters * 100\n",
    "\n",
    "# Display the message three times\n",
    "print(f\"Hello {firstName} {lastName}. Did you know you are {heightInCentimeters} centimeters tall and your favorite color is {favoriteColor}?\")\n",
    "print(\"Hello\", firstName, lastName, \". Did you know you are\", heightInCentimeters, \"centimeters tall and your favorite color is\", favoriteColor,\"?\")\n",
    "print(\"Hello \" + firstName + \" \" + lastName + \". Did you know you are \" + str(heightInCentimeters) + \" centimeters tall and your favorite color is \" + favoriteColor + \"?\")"
   ]
  },
  {
   "cell_type": "markdown",
   "metadata": {},
   "source": [
    "<b> Question 2:</b>\n",
    "\n",
    "<p>Consider the following formulas for conversion:</p>\n",
    "<ul>\n",
    "    <li>1 kilometer = 0.621371 miles</li>\n",
    "</ul>\n",
    "\n",
    "<p><strong>Instructions:</strong></p>\n",
    "<ol>\n",
    "    <li>Write a Python program that prompts the user to choose between converting:\n",
    "        <ol type=\"a\">\n",
    "            <li>Kilometers to Miles</li>\n",
    "            <li>Miles to Kilometers</li>\n",
    "        </ol>\n",
    "    </li>\n",
    "    <li>The user should enter his/her option by entering A or B.</li>\n",
    "    <li>After receiving user input, use an if-else structure to display the appropriate message to the user in order to obtain the input value for the desired distance. (For instance, if the user enters A, your code should display \"Please enter the distance in kilometers\" and if the user enters B display \"Please enter the distance in miles\", otherwise the program should show a message to the user that the input is wrong and ask the user to re-enter the option.) - <b>Note:</b> use while loop to collect the option. </li>\n",
    "    <li>Once again, use an if-else structure to perform the correct conversion and display the appropriate message to the user (for instance: \"[X] kilometers is equal to [Y] miles\").</li>\n",
    "    <li>Make certain that when displaying distances to users, you always format the values in 2-decimal places.</li>\n",
    "</ol>\n"
   ]
  },
  {
   "cell_type": "code",
   "execution_count": 4,
   "metadata": {},
   "outputs": [
    {
     "name": "stdout",
     "output_type": "stream",
     "text": [
      "356.0 kilometers is equal to 221.21 miles.\n"
     ]
    }
   ],
   "source": [
    "# Write your code over here. \n",
    "def convert_kilometers_to_miles(kilometers):\n",
    "    return kilometers * 0.621371\n",
    "\n",
    "def convert_miles_to_kilometers(miles):\n",
    "    return miles / 0.621371\n",
    "\n",
    "def get_user_option():\n",
    "    while True:\n",
    "        option = input(\"Choose an option (A: kilometers to miles, B: miles to kilometers): \").upper()\n",
    "        if option in ['A', 'B']:\n",
    "            return option\n",
    "        else:\n",
    "            print(\"Invalid option. Please enter A or B.\")\n",
    "\n",
    "def main():\n",
    "    option = get_user_option()\n",
    "    if option == 'A':\n",
    "        kilometers = float(input(\"Please enter the distance in kilometers: \"))\n",
    "        miles = convert_kilometers_to_miles(kilometers)\n",
    "        print(f\"{kilometers} kilometers is equal to {miles:.2f} miles.\")\n",
    "    else:\n",
    "        miles = float(input(\"Please enter the distance in miles: \"))\n",
    "        kilometers = convert_miles_to_kilometers(miles)\n",
    "        print(f\"{miles} miles is equal to {kilometers:.2f} kilometers.\")\n",
    "\n",
    "if __name__ == \"__main__\":\n",
    "    main()"
   ]
  },
  {
   "cell_type": "markdown",
   "metadata": {},
   "source": [
    "<b> Question 3:</b>"
   ]
  },
  {
   "cell_type": "markdown",
   "metadata": {},
   "source": [
    "1. Write a program that display the following pattern:\n",
    "<img src='https://www.dropbox.com/s/cu0da52q070hihb/Screen%20Shot%202022-01-30%20at%208.56.41%20PM.png?raw=1' width=60/>\n",
    "\n",
    "2. Update your previous code to get the user's number of * in the first line. The user should in put a value between 1-10. For example, if the user input 8 the output should be:\n",
    "<img src='https://www.dropbox.com/s/60oxzhv5tv3romg/Screen%20Shot%202022-01-30%20at%209.02.17%20PM.png?raw=1' width=80/>\n",
    "\n",
    "<b>Tip:</b> You need to use loop and if condition in your code. "
   ]
  },
  {
   "cell_type": "code",
   "execution_count": 15,
   "metadata": {},
   "outputs": [
    {
     "name": "stdout",
     "output_type": "stream",
     "text": [
      "* * * * * * * * \n",
      "  * * * * * * * \n",
      "    * * * * * * \n",
      "      * * * * * \n",
      "        * * * * \n",
      "          * * * \n",
      "            * * \n",
      "              * \n"
     ]
    }
   ],
   "source": [
    "# Write the the answer for the part #1 over here\n",
    "rows = 5\n",
    "i = rows\n",
    "while i >= 1:\n",
    "    j = rows\n",
    "    while j > i:\n",
    "        # display space\n",
    "        print(' ', end=' ')\n",
    "        j -= 1\n",
    "    k = 1\n",
    "    while k <= i:\n",
    "        print('*', end=' ')\n",
    "        k += 1\n",
    "    print()\n",
    "    i -= 1"
   ]
  },
  {
   "cell_type": "code",
   "execution_count": 16,
   "metadata": {},
   "outputs": [
    {
     "name": "stdout",
     "output_type": "stream",
     "text": [
      "* * * * * * * * \n",
      "  * * * * * * * \n",
      "    * * * * * * \n",
      "      * * * * * \n",
      "        * * * * \n",
      "          * * * \n",
      "            * * \n",
      "              * \n"
     ]
    }
   ],
   "source": [
    "# Write the the answer for the part #2 over here\n",
    "rows = 8\n",
    "i = rows\n",
    "while i >= 1:\n",
    "    j = rows\n",
    "    while j > i:\n",
    "        # display space\n",
    "        print(' ', end=' ')\n",
    "        j -= 1\n",
    "    k = 1\n",
    "    while k <= i:\n",
    "        print('*', end=' ')\n",
    "        k += 1\n",
    "    print()\n",
    "    i -= 1"
   ]
  },
  {
   "cell_type": "markdown",
   "metadata": {},
   "source": [
    "<b>Question 4:</b>\n",
    "\n",
    "1. Write a program that takes a digit input value between 0 and 9 and converts it to an equivalent English word (For example, if the user enters 0, the program should display \"you entered zero.\", or if the user enters 2, the program should display \"you entered two.\") [<b>important:</b> user if-elif-else structure for this question].\n",
    "\n",
    "2. Update the code in Part #1 of your code so that the program continues to ask the question and display the output until the user enters -1 as an input. [<b>Note:</b> Make sure that your program clearly provide instruction to user so she knows that -1 will stop the program.]\n",
    "\n",
    "3. Write your code outside the jupyter platform and save it as My_Assignment1.py . Make sure to submit the file separately in Canvas.\n",
    "\n",
    "4. (Extra point) Update your the code in Part #2 that clear the content of previous iteration before asking for the input from the user.\n"
   ]
  },
  {
   "cell_type": "code",
   "execution_count": 20,
   "metadata": {},
   "outputs": [
    {
     "name": "stdout",
     "output_type": "stream",
     "text": [
      "You entered zero.\n"
     ]
    }
   ],
   "source": [
    "# Write the the answer for the part #1 over here\n",
    "n=int(input(\"Enter your input value:\"))\n",
    "if n==0:\n",
    "    print(\"You entered zero.\")\n",
    "elif n==1:\n",
    "    print(\"You entered one.\")\n",
    "elif n==2:\n",
    "    print(\"You entered two.\")\n",
    "elif n==3:\n",
    "    print(\"You entered three.\")\n",
    "elif n==4:\n",
    "    print(\"You entered four.\")\n",
    "elif n==5:\n",
    "    print(\"You entered five.\")\n",
    "elif n==6:\n",
    "    print(\"You entered six.\")\n",
    "elif n==7:\n",
    "    print(\"You entered seven.\")\n",
    "elif n==8:\n",
    "    print(\"You entered eight.\")\n",
    "elif n==9:\n",
    "    print(\"You entered nine.\")\n",
    "else:\n",
    "    print(\"Enter another number.\")"
   ]
  },
  {
   "cell_type": "code",
   "execution_count": 1,
   "metadata": {},
   "outputs": [
    {
     "ename": "ValueError",
     "evalue": "invalid literal for int() with base 10: 'escape'",
     "output_type": "error",
     "traceback": [
      "\u001b[1;31m---------------------------------------------------------------------------\u001b[0m",
      "\u001b[1;31mValueError\u001b[0m                                Traceback (most recent call last)",
      "Cell \u001b[1;32mIn[1], line 16\u001b[0m\n\u001b[0;32m      2\u001b[0m number_to_word \u001b[38;5;241m=\u001b[39m {\n\u001b[0;32m      3\u001b[0m     \u001b[38;5;241m0\u001b[39m: \u001b[38;5;124m\"\u001b[39m\u001b[38;5;124mzero\u001b[39m\u001b[38;5;124m\"\u001b[39m,\n\u001b[0;32m      4\u001b[0m     \u001b[38;5;241m1\u001b[39m: \u001b[38;5;124m\"\u001b[39m\u001b[38;5;124mone\u001b[39m\u001b[38;5;124m\"\u001b[39m,\n\u001b[1;32m   (...)\u001b[0m\n\u001b[0;32m     12\u001b[0m     \u001b[38;5;241m9\u001b[39m: \u001b[38;5;124m\"\u001b[39m\u001b[38;5;124mnine\u001b[39m\u001b[38;5;124m\"\u001b[39m\n\u001b[0;32m     13\u001b[0m }\n\u001b[0;32m     15\u001b[0m \u001b[38;5;28;01mwhile\u001b[39;00m \u001b[38;5;28;01mTrue\u001b[39;00m:\n\u001b[1;32m---> 16\u001b[0m     p \u001b[38;5;241m=\u001b[39m \u001b[38;5;28;43mint\u001b[39;49m\u001b[43m(\u001b[49m\u001b[38;5;28;43minput\u001b[39;49m\u001b[43m(\u001b[49m\u001b[38;5;124;43m\"\u001b[39;49m\u001b[38;5;124;43mEnter a number between 0 to 9 or -1 to quit: \u001b[39;49m\u001b[38;5;124;43m\"\u001b[39;49m\u001b[43m)\u001b[49m\u001b[43m)\u001b[49m\n\u001b[0;32m     17\u001b[0m     \u001b[38;5;28;01mif\u001b[39;00m p \u001b[38;5;241m==\u001b[39m \u001b[38;5;241m-\u001b[39m\u001b[38;5;241m1\u001b[39m:\n\u001b[0;32m     18\u001b[0m         \u001b[38;5;28;01mbreak\u001b[39;00m\n",
      "\u001b[1;31mValueError\u001b[0m: invalid literal for int() with base 10: 'escape'"
     ]
    }
   ],
   "source": [
    "# Write the the answer for the part #2 over here\n",
    "number_to_word = {\n",
    "    0: \"zero\",\n",
    "    1: \"one\",\n",
    "    2: \"two\",\n",
    "    3: \"three\",\n",
    "    4: \"four\",\n",
    "    5: \"five\",\n",
    "    6: \"six\",\n",
    "    7: \"seven\",\n",
    "    8: \"eight\",\n",
    "    9: \"nine\"\n",
    "}\n",
    "\n",
    "while True:\n",
    "    p = int(input(\"Enter a number between 0 to 9 or -1 to quit: \"))\n",
    "    if p == -1:\n",
    "        break\n",
    "    elif p in number_to_word:\n",
    "        print(f\"You entered {number_to_word[p]}\")\n",
    "    else:\n",
    "        print(\"Invalid input. Please enter a number between 0 to 9 or -1 to quit.\")\n",
    "    \n",
    "\n",
    "\n"
   ]
  },
  {
   "cell_type": "code",
   "execution_count": 2,
   "metadata": {},
   "outputs": [
    {
     "name": "stdout",
     "output_type": "stream",
     "text": [
      "You entered 5\n"
     ]
    }
   ],
   "source": [
    "# Write the the answer for the part #4 over here\n",
    "while True:\n",
    "    p = None\n",
    "    while p is None:\n",
    "        p = int(input(\"Enter a number between 0 to 9 or -1 to quit: \"))\n",
    "        if p == -1:\n",
    "            break\n",
    "        if p in range(0, 10):\n",
    "            print(f\"You entered {p}\")\n",
    "        else:\n",
    "            print(\"Invalid input. Please enter a number between 0 to 9 or -1 to quit.\")\n",
    "            p = None"
   ]
  },
  {
   "cell_type": "markdown",
   "metadata": {},
   "source": [
    "<b>Question 5:</b>\n",
    "\n",
    "Write a program with a loop that asks the user to enter a series of positive numbers. The user should enter a negative number to signal the end of the series. After the user has entered all of the positive numbers, the program should display the total number of odd numbers entered by the user."
   ]
  },
  {
   "cell_type": "code",
   "execution_count": 2,
   "metadata": {},
   "outputs": [
    {
     "name": "stdout",
     "output_type": "stream",
     "text": [
      "Total number of odd numbers entered: 10\n"
     ]
    }
   ],
   "source": [
    "# Write your code over here. \n",
    "# Initialize a variable to count odd numbers\n",
    "odd_count = 0\n",
    "\n",
    "# Infinite loop to continuously ask for positive numbers\n",
    "while True:\n",
    "    # Ask the user for input\n",
    "    num = int(input(\"Enter a positive number (enter a negative number to end): \"))\n",
    "\n",
    "    # Check if the number is positive\n",
    "    if num >= 0:\n",
    "        # Check if the number is odd\n",
    "        if num % 2 != 0:\n",
    "            odd_count += 1\n",
    "    else:\n",
    "        # If the number is negative, end the loop\n",
    "        break\n",
    "\n",
    "# Display the total number of odd numbers entered\n",
    "print(\"Total number of odd numbers entered:\", odd_count)\n"
   ]
  },
  {
   "cell_type": "markdown",
   "metadata": {},
   "source": [
    "<b>Question 6:</b>\n",
    "\n"
   ]
  },
  {
   "cell_type": "markdown",
   "metadata": {},
   "source": [
    "\n",
    "Write a program that generate the following output:\n",
    "<img src='https://www.dropbox.com/s/trc7rjw8uhfldiw/Screen%20Shot%202022-01-30%20at%2010.03.34%20PM.png?raw=1' width=700>\n",
    "\n",
    "<b>Tip:</b> You need to use nested loop."
   ]
  },
  {
   "cell_type": "code",
   "execution_count": 1,
   "metadata": {},
   "outputs": [
    {
     "name": "stdout",
     "output_type": "stream",
     "text": [
      "0*0= 0   0*1= 0   0*2= 0   0*3= 0   0*4= 0   0*5= 0   0*6= 0   0*7= 0   0*8= 0   0*9= 0\n",
      "1*0= 0   1*1= 1   1*2= 2   1*3= 3   1*4= 4   1*5= 5   1*6= 6   1*7= 7   1*8= 8   1*9= 9\n",
      "2*0= 0   2*1= 2   2*2= 4   2*3= 6   2*4= 8   2*5=10   2*6=12   2*7=14   2*8=16   2*9=18\n",
      "3*0= 0   3*1= 3   3*2= 6   3*3= 9   3*4=12   3*5=15   3*6=18   3*7=21   3*8=24   3*9=27\n",
      "4*0= 0   4*1= 4   4*2= 8   4*3=12   4*4=16   4*5=20   4*6=24   4*7=28   4*8=32   4*9=36\n",
      "5*0= 0   5*1= 5   5*2=10   5*3=15   5*4=20   5*5=25   5*6=30   5*7=35   5*8=40   5*9=45\n",
      "6*0= 0   6*1= 6   6*2=12   6*3=18   6*4=24   6*5=30   6*6=36   6*7=42   6*8=48   6*9=54\n",
      "7*0= 0   7*1= 7   7*2=14   7*3=21   7*4=28   7*5=35   7*6=42   7*7=49   7*8=56   7*9=63\n",
      "8*0= 0   8*1= 8   8*2=16   8*3=24   8*4=32   8*5=40   8*6=48   8*7=56   8*8=64   8*9=72\n",
      "9*0= 0   9*1= 9   9*2=18   9*3=27   9*4=36   9*5=45   9*6=54   9*7=63   9*8=72   9*9=81\n",
      "\n"
     ]
    }
   ],
   "source": [
    "# Write your code over here. \n",
    "# Loop through numbers from 0 to 9\n",
    "for i in range(10):\n",
    "    # Print the header for the multiplication tables\n",
    "    print(\"   \".join(f\"{i}*{j}={i*j if i*j > 9 else ' '+ str(i*j)}\" for j in range(10)))\n",
    "\n",
    "    # Print a newline after each row\n",
    "print()"
   ]
  },
  {
   "cell_type": "markdown",
   "metadata": {},
   "source": [
    "<b>Question 7:</b>\n",
    "\n",
    "<p>Your task is to create a basic card game. For the implementation of this game, it's essential to use function structures in your program. In this game, the user will virtually draw two cards from a deck. Each card has a value from 1 to 10.</p>\n",
    "\n",
    "<ol>\n",
    "    <li>After drawing the first card, the program should display the card value.</li>\n",
    "    <li>The user is then prompted to guess the combined value of the two cards.</li>\n",
    "    <li>Once the user submits their guess, the program draws the second card.</li>\n",
    "    <li>The program should display <strong>\"Congratulations, you guessed right!\"</strong> if the sum of the two card values equals the user's guess; otherwise, it should show <strong>\"Better luck next time.\"</strong></li>\n",
    "    <li>The game should continue as long as the user desires to play.</li>\n",
    "</ol>\n",
    "\n"
   ]
  },
  {
   "cell_type": "code",
   "execution_count": null,
   "metadata": {},
   "outputs": [
    {
     "name": "stdout",
     "output_type": "stream",
     "text": [
      "Welcome to the card game!\n",
      "You drew the first card: 5\n",
      "You drew the second card: 3\n",
      "Better luck next time.\n",
      "Welcome to the card game!\n"
     ]
    }
   ],
   "source": [
    "# Write your code over here. \n",
    "import random\n",
    "\n",
    "def draw_card():\n",
    "    return random.randint(1, 10)\n",
    "\n",
    "def play_game():\n",
    "    while True:\n",
    "        print(\"Welcome to the card game!\")\n",
    "        user_choice = input(\"Do you want to play? (yes/no): \")\n",
    "        if user_choice.lower() == \"no\":\n",
    "            break\n",
    "\n",
    "        first_card = draw_card()\n",
    "        print(f\"You drew the first card: {first_card}\")\n",
    "\n",
    "        user_guess = int(input(\"Guess the combined value of the two cards: \"))\n",
    "\n",
    "        second_card = draw_card()\n",
    "        print(f\"You drew the second card: {second_card}\")\n",
    "\n",
    "        total_value = first_card + second_card\n",
    "\n",
    "        if total_value == user_guess:\n",
    "            print(\"Congratulations, you guessed right!\")\n",
    "        else:\n",
    "            print(\"Better luck next time.\")\n",
    "\n",
    "        play_again = input(\"Do you want to play again? (yes/no): \")\n",
    "        if play_again.lower() == \"no\":\n",
    "            break\n",
    "        user_input=input(\"Enter to continue the game\")\n",
    "        if user_input=='no':\n",
    "            keep_start=False\n",
    "\n",
    "play_game()\n",
    "\n",
    "# As before, this code needs to be run in an environment that supports input/output operations.\n",
    "# It cannot be executed as intended here due to the lack of interactive input capability.\n"
   ]
  },
  {
   "cell_type": "markdown",
   "metadata": {},
   "source": [
    "<p><b>Output</b>: \n",
    "    <ul>\n",
    "        <li>You need to provide answers in the designated cell for each question.</li>\n",
    "        <li>You need to make sure that your final file contains both codes and results (don't clear the outputs).</li>\n",
    "        <li>Save your file in the .ipynb format (as it is right now).</li>\n",
    "        <li>Upload your file into Canvas (Assignment #1)</li>\n",
    "        <li>You should also upload any other .py file that the assignment ask you to creat.</li>\n",
    "        <li>All the assignments should be submitted by <b>Tuesday Feb 20 at 7:00 PM</b>. No late submission will be accepted</li>\n",
    "        <li>I will not accept any submission by email or any other method, so make sure that you submit the file in a right place at a right time.</li>\n",
    "        </ul>\n",
    "        </p> "
   ]
  }
 ],
 "metadata": {
  "kernelspec": {
   "display_name": "Python 3 (ipykernel)",
   "language": "python",
   "name": "python3"
  },
  "language_info": {
   "codemirror_mode": {
    "name": "ipython",
    "version": 3
   },
   "file_extension": ".py",
   "mimetype": "text/x-python",
   "name": "python",
   "nbconvert_exporter": "python",
   "pygments_lexer": "ipython3",
   "version": "3.10.11"
  }
 },
 "nbformat": 4,
 "nbformat_minor": 4
}
