{
 "cells": [
  {
   "cell_type": "markdown",
   "metadata": {},
   "source": [
    "<h1 align='center' style=\"color: blue;\">Assignment #2</h1>"
   ]
  },
  {
   "cell_type": "markdown",
   "metadata": {},
   "source": [
    "<b>Question 1:</b>\n",
    "<ul>\n",
    "    <li>Create a program that reads the contents of two files, names.txt and age.txt, and stores the results in two separate lists. [Download the files from Canvas][<b>Note:</b> Each line of the file age.txt contains an age that corresponds to a name in the same line of names.txt.]</li>\n",
    "    <li>Copy the age_list to a new list called age_list_new.</li>\n",
    "    <li>Sort the age_list_new.</li>\n",
    "    <li>Make a new list called name_list_new and add the names to it in such a way that the order of the names corresponds to the age of the people in the age_list_new list.</li>\n",
    "    <li>Write the content of age_list_new and name_list_new into two separate files name sorted_age.txt and sorted_names.txt.  \n",
    "</ul>"
   ]
  },
  {
   "cell_type": "code",
   "execution_count": 19,
   "metadata": {},
   "outputs": [
    {
     "data": {
      "text/plain": [
       "('sorted_names.txt', 'sorted_age.txt')"
      ]
     },
     "execution_count": 19,
     "metadata": {},
     "output_type": "execute_result"
    }
   ],
   "source": [
    "# Write your code for over here. \n",
    "def read_file(filename):\n",
    "    with open(filename, 'r') as f:\n",
    "        return [line.strip() for line in f]\n",
    "    \n",
    "def write_to_file(filename, data):\n",
    "    with open(filename, 'w') as f:\n",
    "        for item in data:\n",
    "            f.write(\"%s\"% item +'\\n')\n",
    "            \n",
    "names_file = 'names.txt'\n",
    "ages_file = 'age.txt'\n",
    "\n",
    "names = read_file(names_file)\n",
    "ages = [int(age) for age in read_file(ages_file)]\n",
    "age_list_new = sorted(ages)\n",
    "name_list_new = [name for _, name in sorted(zip(ages, names))]\n",
    "\n",
    "write_to_file('sorted_age.txt', age_list_new)\n",
    "write_to_file('sorted_names.txt', name_list_new)\n",
    "\n",
    "sorted_names_path = 'sorted_names.txt'\n",
    "sorted_age_path = 'sorted_age.txt'\n",
    "\n",
    "sorted_names_path, sorted_age_path"
   ]
  },
  {
   "cell_type": "code",
   "execution_count": 20,
   "metadata": {},
   "outputs": [
    {
     "name": "stdout",
     "output_type": "stream",
     "text": [
      "Sorted Ages:\n",
      "['11\\n', '17\\n', '18\\n', '20\\n', '21\\n', '22\\n', '24\\n', '29\\n', '30\\n', '31\\n', '32\\n', '36\\n', '44\\n']\n",
      "Sorted Names:\n",
      "['Vala\\n', 'Rohan\\n', 'Linda\\n', 'Jennifer\\n', 'Jack\\n', 'Charles\\n', 'Mona\\n', 'Albert\\n', 'Sarah\\n', 'James\\n', 'Alex\\n', 'Kian\\n', 'Jane\\n']\n"
     ]
    }
   ],
   "source": [
    "# Function to read the contents of a file\n",
    "def read_file(file_path):\n",
    "    with open(file_path, 'r') as file:\n",
    "        return file.readlines()\n",
    "    \n",
    "sorted_ages = read_file('sorted_age.txt')\n",
    "sorted_names = read_file('sorted_names.txt')\n",
    "\n",
    "\n",
    "print(\"Sorted Ages:\")\n",
    "print(sorted_ages)\n",
    "print(\"Sorted Names:\")\n",
    "print(sorted_names)"
   ]
  },
  {
   "cell_type": "markdown",
   "metadata": {},
   "source": [
    "Consider the following list, a_list = [20, 22, 18, 23, 11, 14, 17, 12, 32, 13] and perform the following tasks:\n",
    "1. Use a nested loop (two for loops) to store the list's contents to a multi-dimensional list with two rows and five columns.\n",
    "2. Make a new list using the comprehension method that contains power two of all the odd numbers in the a_list list.\n",
    "3. Use the insert function to add the number 85 right after the number 14 in a_list list.\n",
    "4. Using the slicing method, create a new list called a_slice that contains the first three elements from the a_list list. Then, make a new list called b_slice, which contains the last four elements of the a_list list. Finally, add the elements of a_slice list to the end of b_slice list using the extend() function."
   ]
  },
  {
   "cell_type": "code",
   "execution_count": 22,
   "metadata": {},
   "outputs": [
    {
     "name": "stdout",
     "output_type": "stream",
     "text": [
      "[[20, 22, 18, 23, 11], [14, 17, 12, 32, 13]] "
     ]
    }
   ],
   "source": [
    "# Write the the answer for the part #1 over here\n",
    "a_list = [20,22,18,23,11,14,17,12,32,13]\n",
    "multi_dimensional_list=[]\n",
    "\n",
    "for i in range(2):\n",
    "    row=[]\n",
    "    for j in range(5):\n",
    "        row.append(a_list[i*5+j])\n",
    "    multi_dimensional_list.append(row)\n",
    "    \n",
    "print(multi_dimensional_list)"
   ]
  },
  {
   "cell_type": "code",
   "execution_count": 22,
   "metadata": {},
   "outputs": [
    {
     "name": "stdout",
     "output_type": "stream",
     "text": [
      "[529, 121, 289, 169]\n"
     ]
    }
   ],
   "source": [
    "# Write the the answer for the part #2 over here\n",
    "a_list = [20, 22, 18, 23, 11, 14, 17, 12, 32, 13]\n",
    "\n",
    "odd_squares = [x ** 2 for x in a_list if x % 2 != 0]\n",
    "\n",
    "print(odd_squares)"
   ]
  },
  {
   "cell_type": "code",
   "execution_count": 23,
   "metadata": {},
   "outputs": [
    {
     "name": "stdout",
     "output_type": "stream",
     "text": [
      "[20, 22, 18, 23, 11, 14, 85, 17, 12, 32, 13]\n"
     ]
    }
   ],
   "source": [
    "# Write the the answer for the part #3 over here\n",
    "a_list = [20, 22, 18, 23, 11, 14, 17, 12, 32, 13]\n",
    "\n",
    "index_of_14 = a_list.index(14)\n",
    "a_list.insert(index_of_14 + 1, 85)\n",
    "\n",
    "print(a_list)"
   ]
  },
  {
   "cell_type": "code",
   "execution_count": 24,
   "metadata": {},
   "outputs": [
    {
     "name": "stdout",
     "output_type": "stream",
     "text": [
      "[17, 12, 32, 13, 20, 22, 18]\n"
     ]
    }
   ],
   "source": [
    "# Write the the answer for the part #4 over here\n",
    "a_list = [20, 22, 18, 23, 11, 14, 17, 12, 32, 13]\n",
    "\n",
    "a_slice = a_list[:3]\n",
    "b_slice = a_list[-4:]\n",
    "b_slice.extend(a_slice)\n",
    "\n",
    "print(b_slice)\n"
   ]
  },
  {
   "cell_type": "markdown",
   "metadata": {},
   "source": [
    "<b>Question 3:</b>\n",
    "\n",
    "Consider the following list my_list= [('a','b'),('c','d','e','f'),('g','h','i'),('j','k','l','m'),('n','o'),('p','q','r')]  \n",
    "\n",
    "1. Use a loop structure to remove those tuples that have length size of 2 from the my_list.\n",
    "2. Create a program that uses nested loop structure to unpack all the characters within tuples in the my_list list and form a new list called my_new_list. After running the program the my_new_list list should be in the following format:  ['a','b','c','d','e','f','g','h','i','j','k','l','m','n','o','p','q','r']\n"
   ]
  },
  {
   "cell_type": "code",
   "execution_count": 3,
   "metadata": {},
   "outputs": [
    {
     "name": "stdout",
     "output_type": "stream",
     "text": [
      "After removing length size of 2 from the list:  [('c', 'd', 'e', 'f'), ('g', 'h', 'i'), ('j', 'k', 'l', 'm'), ('p', 'q', 'r')]\n"
     ]
    }
   ],
   "source": [
    "# Write the the answer for the part #1 over here\n",
    "my_list=[('a','b'),('c','d','e','f'),('g','h','i'),('j','k','l','m'),('n','o'),('p','q','r')]\n",
    "\n",
    "for charlist in my_list:\n",
    "    if len(charlist) == 2:\n",
    "        my_list.remove(charlist)\n",
    "\n",
    "print(\"After removing length size of 2 from the list: \",my_list)"
   ]
  },
  {
   "cell_type": "code",
   "execution_count": 4,
   "metadata": {},
   "outputs": [
    {
     "name": "stdout",
     "output_type": "stream",
     "text": [
      "After unpacking tuples into characters: ['c', 'd', 'e', 'f', 'g', 'h', 'i', 'j', 'k', 'l', 'm', 'p', 'q', 'r']\n"
     ]
    }
   ],
   "source": [
    "# Write the the answer for the part #2 over here\n",
    "my_new_list = []\n",
    "\n",
    "for charlist in my_list:\n",
    "    for i in range(len(charlist)):\n",
    "        my_new_list.append(charlist[i])\n",
    "        \n",
    "print(\"After unpacking tuples into characters:\",my_new_list)"
   ]
  },
  {
   "cell_type": "markdown",
   "metadata": {},
   "source": [
    "<b>Question 4:</b>\n",
    "\n",
    "Create a program that takes as input a sentence in which all of the words are run together, but the first character of each word is capitalized. Convert the sentence to a string with spaces between the words and only the first word beginning with an uppercase letter. For example the string \"HelloThisIsMyMessageToYou.\" would be converted to \"Hello this is my message to you.\" "
   ]
  },
  {
   "cell_type": "code",
   "execution_count": 6,
   "metadata": {},
   "outputs": [
    {
     "name": "stdout",
     "output_type": "stream",
     "text": [
      "Hello This Is My Message To You\n"
     ]
    }
   ],
   "source": [
    "# Write your code over here. \n",
    "userInput = str(input(\"Enter a sentence like HelloThisIsMyMessageToYou: \"))\n",
    "res = ''\n",
    "\n",
    "for i in range(len(userInput)):\n",
    "    if userInput[i] in \"ABCDEFGHIJKLMNOPQRSTUVWXYZ\":\n",
    "        if i == 0:\n",
    "            res += userInput[i]\n",
    "        else:\n",
    "            res += \" \" + userInput[i]\n",
    "    else:\n",
    "        res = res + userInput[i]\n",
    "        \n",
    "print(res)"
   ]
  },
  {
   "cell_type": "markdown",
   "metadata": {},
   "source": [
    "<b>Question 5:</b>\n",
    "\n"
   ]
  },
  {
   "cell_type": "markdown",
   "metadata": {},
   "source": [
    "Create a program that prompts the user for a series of numbers (integers) separated by \",\" and then computes the sum of all the numbers. If the input list contains any non-integer value, the program should prompt the user to re-enter the series.\n",
    "\n",
    "<b>For example:</b> if the user inputs \"10, 12, 13, 10\" the program should display 45 and if the user inputs \"10, book, 11, alpha\" the program should ask the user to re-enter a right series."
   ]
  },
  {
   "cell_type": "code",
   "execution_count": 7,
   "metadata": {},
   "outputs": [
    {
     "name": "stdout",
     "output_type": "stream",
     "text": [
      "Error! Invalid input: Please enter only integers with commas\n",
      "The sum of the numbers is: 45\n"
     ]
    }
   ],
   "source": [
    "# Write your code over here. \n",
    "while True:\n",
    "    user_input = input(\"Enter a series of numbers separated by comma: \")\n",
    "    numbers_list = user_input.split(',')\n",
    "    \n",
    "    all_integers = True\n",
    "    for num in numbers_list:\n",
    "        if not num.strip().isdigit():\n",
    "            all_integers = False\n",
    "            break\n",
    "\n",
    "    if all_integers:\n",
    "        numbers = []\n",
    "        for num in numbers_list:\n",
    "            numbers.append(int(num.strip()))\n",
    "\n",
    "        total_sum = 0\n",
    "        for num in numbers:\n",
    "            total_sum += num\n",
    "\n",
    "        print(\"The sum of the numbers is:\", total_sum)\n",
    "        break\n",
    "    else:\n",
    "        print(\"Error! Invalid input: Please enter only integers with commas\")"
   ]
  },
  {
   "cell_type": "markdown",
   "metadata": {},
   "source": [
    "<b>Question 6:</b>"
   ]
  },
  {
   "cell_type": "markdown",
   "metadata": {},
   "source": [
    "consider the following dictionary"
   ]
  },
  {
   "cell_type": "code",
   "execution_count": 9,
   "metadata": {},
   "outputs": [],
   "source": [
    "movie_dict = {\n",
    "    ('Braveheart', 1995) : 8.4,\n",
    "    ('Titanic', 1997) : 7.8,\n",
    "    ('The Princess Diaries', 2001): 6.3,\n",
    "    ('crash', 2004): 7.8,\n",
    "    ('Batman Begins', 2005): 8.3,\n",
    "    ('The Godfather', 1972): 9.2\n",
    "}"
   ]
  },
  {
   "cell_type": "markdown",
   "metadata": {},
   "source": [
    "Write a code to remove movies that were produced before year 2000"
   ]
  },
  {
   "cell_type": "code",
   "execution_count": 10,
   "metadata": {},
   "outputs": [
    {
     "name": "stdout",
     "output_type": "stream",
     "text": [
      "{('The Princess Diaries', 2001): 6.3, ('crash', 2004): 7.8, ('Batman Begins', 2005): 8.3}\n"
     ]
    }
   ],
   "source": [
    "# Write your code over here. \n",
    "filteredMovieDict= {}\n",
    "for movie,rating in movie_dict.items():\n",
    "    if movie[1] >= 2000:\n",
    "        filteredMovieDict[movie] = rating\n",
    "print(filteredMovieDict)"
   ]
  },
  {
   "cell_type": "markdown",
   "metadata": {},
   "source": [
    "<p><b>Output</b>: \n",
    "    <ul>\n",
    "        <li>You need to provide answers in the designated cell for each question.</li>\n",
    "        <li>You need to make sure that your final file contains both codes and results (don't clear the outputs).</li>\n",
    "        <li>Save your file in the .ipynb format (as it is right now).</li>\n",
    "        <li>Upload your file into Canvas (Assignment #2)</li>\n",
    "        <li>All the assignments should be submitted by <b>Tuesday March 19 at 7:00 PM</b>. No late submission will be accepted</li>\n",
    "        <li>I will not accept any submission by email or any other method, so make sure that you submit the file in a right place at a right time.</li>\n",
    "        </ul>\n",
    "        </p> "
   ]
  }
 ],
 "metadata": {
  "kernelspec": {
   "display_name": "Python 3 (ipykernel)",
   "language": "python",
   "name": "python3"
  },
  "language_info": {
   "codemirror_mode": {
    "name": "ipython",
    "version": 3
   },
   "file_extension": ".py",
   "mimetype": "text/x-python",
   "name": "python",
   "nbconvert_exporter": "python",
   "pygments_lexer": "ipython3",
   "version": "3.10.11"
  }
 },
 "nbformat": 4,
 "nbformat_minor": 4
}
