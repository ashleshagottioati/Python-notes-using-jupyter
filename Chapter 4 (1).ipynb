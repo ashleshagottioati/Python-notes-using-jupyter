{
 "cells": [
  {
   "cell_type": "markdown",
   "metadata": {},
   "source": [
    "        Introduction to Programming: Python\n",
    "        Mahyar Vaghefi\n",
    "        University of Texas Arlington\n",
    "        \n",
    "        This document can only be used for class studies. \n",
    "        You are not allowed to share it in any public platform."
   ]
  },
  {
   "cell_type": "markdown",
   "metadata": {},
   "source": [
    "        The Material for this Notebook is Adopted from \n",
    "        Starting Out with Python (4th Edition)- by Tony Gaddis Pearson"
   ]
  },
  {
   "cell_type": "markdown",
   "metadata": {},
   "source": [
    "<h1 align='center' style=\"color: blue;\">Repetiton Structure</h1>"
   ]
  },
  {
   "cell_type": "markdown",
   "metadata": {},
   "source": [
    "## 1. Introduction to Repetition Structures"
   ]
  },
  {
   "cell_type": "markdown",
   "metadata": {},
   "source": [
    "Often have to write code that performs the same task multiple times"
   ]
  },
  {
   "cell_type": "code",
   "execution_count": 1,
   "metadata": {},
   "outputs": [
    {
     "name": "stdout",
     "output_type": "stream",
     "text": [
      "Enter the amount of sales: 30000\n",
      "Enter the commission rate: 0.3\n",
      "The commission is $9000.00\n",
      "Enter the amount of sales: 55000\n",
      "Enter the commission rate: 0.03\n",
      "The commission is $1650.00\n"
     ]
    }
   ],
   "source": [
    "# Get a salesperson's sales and commission rate\n",
    "sales = float(input('Enter the amount of sales: '))\n",
    "comm_rate = float(input('Enter the commission rate: '))\n",
    "\n",
    "# Calculate the commission\n",
    "commission = sales * comm_rate\n",
    "\n",
    "# Display the commission\n",
    "print(f'The commission is ${commission:.2f}')\n",
    "\n",
    "# Get a salesperson's sales and commission rate\n",
    "sales = float(input('Enter the amount of sales: '))\n",
    "comm_rate = float(input('Enter the commission rate: '))\n",
    "\n",
    "# Calculate the commission\n",
    "commission = sales * comm_rate\n",
    "\n",
    "# Display the commission\n",
    "print(f'The commission is ${commission:.2f}')\n",
    "\n",
    "# Get a salesperson's sales and commission rate\n",
    "sales = float(input('Enter the amount of sales: '))\n",
    "comm_rate = float(input('Enter the commission rate: '))\n",
    "\n",
    "# Calculate the commission\n",
    "commission = sales * comm_rate\n",
    "\n",
    "# Display the commission\n",
    "print(f'The commission is ${commission:.2f}')"
   ]
  },
  {
   "cell_type": "markdown",
   "metadata": {},
   "source": [
    "<b>Note:</b> Disadvantages to duplicating code\n",
    "    <ul>\n",
    "        <li>Makes program large</li>\n",
    "        <li>Time consuming</li>\n",
    "        <li>May need to be corrected in many places</li>\n",
    "    </ul>"
   ]
  },
  {
   "cell_type": "markdown",
   "metadata": {},
   "source": [
    "<b>Note:</b> A <i>repetition structure</i> causes a statement or set of statements to execute repeatedly (commonly known as a <b>loop</b>.)."
   ]
  },
  {
   "cell_type": "markdown",
   "metadata": {},
   "source": [
    "<b>Note:</b> There are two types of loops: \n",
    "<ul>\n",
    "    <li><b>condition-controlled</b>:&nbsp;A condition-controlled loop uses a <b style='color:green'>True</b>/<b style='color:red'>False</b> condition to control the number of times that it repeats.</li>\n",
    "    <ul>\n",
    "        <li>We should use <b style='color:red'>while</b> statement to write this type of loops.</li>\n",
    "    </ul>\n",
    "    <li><b>count-controlled:</b>&nbsp;A count-controlled loop repeats a specific number of times.</li>\n",
    "    <ul>\n",
    "        <li>We should use <b style='color:red'>for</b> statement to write this type of loops.</li>\n",
    "    </ul>\n",
    "</ul>"
   ]
  },
  {
   "cell_type": "markdown",
   "metadata": {},
   "source": [
    "## 2. The <i>while</i> Loop: A Condition-Controlled Loop"
   ]
  },
  {
   "cell_type": "markdown",
   "metadata": {},
   "source": [
    "The <b style='color:red'>while</b> loop: <u>while a condition is true, do something.</u> \n",
    "<br>\n",
    "The loop has two parts: \n",
    "<ol> \n",
    "    <li><b>Condition</b>: tested for a <b style='color:green'>True</b> or <b style='color:red'>False</b> value.</li>\n",
    "        <li><b>Statement(s)</b>: repeated as long as the condition is True\n",
    "</ol>"
   ]
  },
  {
   "cell_type": "markdown",
   "metadata": {},
   "source": [
    "<img src='https://www.dropbox.com/s/etngt1cj8amf0fc/loop.png?raw=1'/>\n",
    "\n",
    "<i>Source: Starting Out with Python (4th Edition)- by Tony Gaddis Pearson</i>"
   ]
  },
  {
   "cell_type": "markdown",
   "metadata": {},
   "source": [
    "<b>Note: </b> The general format of the <b>while</b> loop:"
   ]
  },
  {
   "cell_type": "markdown",
   "metadata": {},
   "source": [
    "<b style='color:red'>while</b> <span style='color:blue'>condition</span>: \n",
    "<i><br>&nbsp;&nbsp;&nbsp;&nbsp;&nbsp;&nbsp;&nbsp;&nbsp;statement \n",
    "<br>&nbsp;&nbsp;&nbsp;&nbsp;&nbsp;&nbsp;&nbsp;&nbsp;statement\n",
    "<br>&nbsp;&nbsp;&nbsp;&nbsp;&nbsp;&nbsp;&nbsp;&nbsp;etc.</i>"
   ]
  },
  {
   "cell_type": "markdown",
   "metadata": {},
   "source": [
    "When the <b style='color:red'>while</b> loop executes, the condition is tested. If the condition is <b style='color:green'>True</b>, the statements that appear in the block following the <b>while</b> clause are executed, and the loop starts over. If the condition is <b style='color:red'>False</b>, the program exits the loop."
   ]
  },
  {
   "cell_type": "markdown",
   "metadata": {},
   "source": [
    "<b>Example:</b> Write a program that calculates a sales commission for several salespeople."
   ]
  },
  {
   "cell_type": "code",
   "execution_count": 4,
   "metadata": {},
   "outputs": [
    {
     "name": "stdout",
     "output_type": "stream",
     "text": [
      "Enter the amount of sales: 50000\n",
      "Enter the commission rate: 0.5\n",
      "The commission is $25000.00\n",
      "Do you want to calculate another commision? (Enter y for yes)o\n"
     ]
    }
   ],
   "source": [
    "# Create a variable to control the loop\n",
    "keep_going = 'y'\n",
    "\n",
    "while keep_going == 'y':\n",
    "    # Get a salesperson's sales and commission rate\n",
    "    sales = float(input('Enter the amount of sales: '))\n",
    "    comm_rate = float(input('Enter the commission rate: '))\n",
    "\n",
    "    # Calculate the commission\n",
    "    commission = sales * comm_rate\n",
    "\n",
    "    # Display the commission\n",
    "    print(f'The commission is ${commission:.2f}')\n",
    "    \n",
    "    keep_going = input('Do you want to calculate another commision? (Enter y for yes)')"
   ]
  },
  {
   "cell_type": "code",
   "execution_count": 7,
   "metadata": {},
   "outputs": [
    {
     "ename": "KeyboardInterrupt",
     "evalue": "Interrupted by user",
     "output_type": "error",
     "traceback": [
      "\u001b[0;31m---------------------------------------------------------------------------\u001b[0m",
      "\u001b[0;31mKeyboardInterrupt\u001b[0m                         Traceback (most recent call last)",
      "\u001b[0;32m<ipython-input-7-847b64bd6e4a>\u001b[0m in \u001b[0;36m<module>\u001b[0;34m\u001b[0m\n\u001b[1;32m      4\u001b[0m \u001b[0;32mwhile\u001b[0m \u001b[0mswitch\u001b[0m\u001b[0;34m:\u001b[0m\u001b[0;34m\u001b[0m\u001b[0;34m\u001b[0m\u001b[0m\n\u001b[1;32m      5\u001b[0m     \u001b[0;31m# Get a salesperson's sales and commission rate\u001b[0m\u001b[0;34m\u001b[0m\u001b[0;34m\u001b[0m\u001b[0;34m\u001b[0m\u001b[0m\n\u001b[0;32m----> 6\u001b[0;31m     \u001b[0msales\u001b[0m \u001b[0;34m=\u001b[0m \u001b[0mfloat\u001b[0m\u001b[0;34m(\u001b[0m\u001b[0minput\u001b[0m\u001b[0;34m(\u001b[0m\u001b[0;34m'Enter the amount of sales: '\u001b[0m\u001b[0;34m)\u001b[0m\u001b[0;34m)\u001b[0m\u001b[0;34m\u001b[0m\u001b[0;34m\u001b[0m\u001b[0m\n\u001b[0m\u001b[1;32m      7\u001b[0m     \u001b[0mcomm_rate\u001b[0m \u001b[0;34m=\u001b[0m \u001b[0mfloat\u001b[0m\u001b[0;34m(\u001b[0m\u001b[0minput\u001b[0m\u001b[0;34m(\u001b[0m\u001b[0;34m'Enter the commission rate: '\u001b[0m\u001b[0;34m)\u001b[0m\u001b[0;34m)\u001b[0m\u001b[0;34m\u001b[0m\u001b[0;34m\u001b[0m\u001b[0m\n\u001b[1;32m      8\u001b[0m \u001b[0;34m\u001b[0m\u001b[0m\n",
      "\u001b[0;32m~/opt/anaconda3/lib/python3.8/site-packages/ipykernel/kernelbase.py\u001b[0m in \u001b[0;36mraw_input\u001b[0;34m(self, prompt)\u001b[0m\n\u001b[1;32m    858\u001b[0m                 \u001b[0;34m\"raw_input was called, but this frontend does not support input requests.\"\u001b[0m\u001b[0;34m\u001b[0m\u001b[0;34m\u001b[0m\u001b[0m\n\u001b[1;32m    859\u001b[0m             )\n\u001b[0;32m--> 860\u001b[0;31m         return self._input_request(str(prompt),\n\u001b[0m\u001b[1;32m    861\u001b[0m             \u001b[0mself\u001b[0m\u001b[0;34m.\u001b[0m\u001b[0m_parent_ident\u001b[0m\u001b[0;34m,\u001b[0m\u001b[0;34m\u001b[0m\u001b[0;34m\u001b[0m\u001b[0m\n\u001b[1;32m    862\u001b[0m             \u001b[0mself\u001b[0m\u001b[0;34m.\u001b[0m\u001b[0m_parent_header\u001b[0m\u001b[0;34m,\u001b[0m\u001b[0;34m\u001b[0m\u001b[0;34m\u001b[0m\u001b[0m\n",
      "\u001b[0;32m~/opt/anaconda3/lib/python3.8/site-packages/ipykernel/kernelbase.py\u001b[0m in \u001b[0;36m_input_request\u001b[0;34m(self, prompt, ident, parent, password)\u001b[0m\n\u001b[1;32m    902\u001b[0m             \u001b[0;32mexcept\u001b[0m \u001b[0mKeyboardInterrupt\u001b[0m\u001b[0;34m:\u001b[0m\u001b[0;34m\u001b[0m\u001b[0;34m\u001b[0m\u001b[0m\n\u001b[1;32m    903\u001b[0m                 \u001b[0;31m# re-raise KeyboardInterrupt, to truncate traceback\u001b[0m\u001b[0;34m\u001b[0m\u001b[0;34m\u001b[0m\u001b[0;34m\u001b[0m\u001b[0m\n\u001b[0;32m--> 904\u001b[0;31m                 \u001b[0;32mraise\u001b[0m \u001b[0mKeyboardInterrupt\u001b[0m\u001b[0;34m(\u001b[0m\u001b[0;34m\"Interrupted by user\"\u001b[0m\u001b[0;34m)\u001b[0m \u001b[0;32mfrom\u001b[0m \u001b[0;32mNone\u001b[0m\u001b[0;34m\u001b[0m\u001b[0;34m\u001b[0m\u001b[0m\n\u001b[0m\u001b[1;32m    905\u001b[0m             \u001b[0;32mexcept\u001b[0m \u001b[0mException\u001b[0m \u001b[0;32mas\u001b[0m \u001b[0me\u001b[0m\u001b[0;34m:\u001b[0m\u001b[0;34m\u001b[0m\u001b[0;34m\u001b[0m\u001b[0m\n\u001b[1;32m    906\u001b[0m                 \u001b[0mself\u001b[0m\u001b[0;34m.\u001b[0m\u001b[0mlog\u001b[0m\u001b[0;34m.\u001b[0m\u001b[0mwarning\u001b[0m\u001b[0;34m(\u001b[0m\u001b[0;34m\"Invalid Message:\"\u001b[0m\u001b[0;34m,\u001b[0m \u001b[0mexc_info\u001b[0m\u001b[0;34m=\u001b[0m\u001b[0;32mTrue\u001b[0m\u001b[0;34m)\u001b[0m\u001b[0;34m\u001b[0m\u001b[0;34m\u001b[0m\u001b[0m\n",
      "\u001b[0;31mKeyboardInterrupt\u001b[0m: Interrupted by user"
     ]
    }
   ],
   "source": [
    "# Create a variable to control the loop\n",
    "switch = True\n",
    "\n",
    "while switch:\n",
    "    # Get a salesperson's sales and commission rate\n",
    "    sales = float(input('Enter the amount of sales: '))\n",
    "    comm_rate = float(input('Enter the commission rate: '))\n",
    "\n",
    "    # Calculate the commission\n",
    "    commission = sales * comm_rate\n",
    "\n",
    "    # Display the commission\n",
    "    print(f'The commission is ${commission:.2f}')\n",
    "    \n",
    "    keep_going = input('Do you want to calculate another commision? (Enter y for yes)')\n",
    "    \n",
    "    if keep_going != 'y':\n",
    "        switch = False"
   ]
  },
  {
   "cell_type": "code",
   "execution_count": 8,
   "metadata": {},
   "outputs": [
    {
     "name": "stdout",
     "output_type": "stream",
     "text": [
      "Enter the amount of sales: 50000\n",
      "Enter the commission rate: 0.04\n",
      "The commission is $2000.00\n",
      "Do you want to calculate another commision? (Enter y for yes)y\n"
     ]
    },
    {
     "ename": "KeyboardInterrupt",
     "evalue": "Interrupted by user",
     "output_type": "error",
     "traceback": [
      "\u001b[0;31m---------------------------------------------------------------------------\u001b[0m",
      "\u001b[0;31mKeyboardInterrupt\u001b[0m                         Traceback (most recent call last)",
      "\u001b[0;32m<ipython-input-8-95503fb35246>\u001b[0m in \u001b[0;36m<module>\u001b[0;34m\u001b[0m\n\u001b[1;32m      7\u001b[0m \u001b[0;32mwhile\u001b[0m \u001b[0mcounter\u001b[0m\u001b[0;34m<\u001b[0m\u001b[0mMAX_ITER\u001b[0m \u001b[0;32mand\u001b[0m \u001b[0mkeep_going\u001b[0m\u001b[0;34m==\u001b[0m\u001b[0;34m'y'\u001b[0m\u001b[0;34m:\u001b[0m\u001b[0;34m\u001b[0m\u001b[0;34m\u001b[0m\u001b[0m\n\u001b[1;32m      8\u001b[0m     \u001b[0;31m# Get a salesperson's sales and commission rate\u001b[0m\u001b[0;34m\u001b[0m\u001b[0;34m\u001b[0m\u001b[0;34m\u001b[0m\u001b[0m\n\u001b[0;32m----> 9\u001b[0;31m     \u001b[0msales\u001b[0m \u001b[0;34m=\u001b[0m \u001b[0mfloat\u001b[0m\u001b[0;34m(\u001b[0m\u001b[0minput\u001b[0m\u001b[0;34m(\u001b[0m\u001b[0;34m'Enter the amount of sales: '\u001b[0m\u001b[0;34m)\u001b[0m\u001b[0;34m)\u001b[0m\u001b[0;34m\u001b[0m\u001b[0;34m\u001b[0m\u001b[0m\n\u001b[0m\u001b[1;32m     10\u001b[0m     \u001b[0mcomm_rate\u001b[0m \u001b[0;34m=\u001b[0m \u001b[0mfloat\u001b[0m\u001b[0;34m(\u001b[0m\u001b[0minput\u001b[0m\u001b[0;34m(\u001b[0m\u001b[0;34m'Enter the commission rate: '\u001b[0m\u001b[0;34m)\u001b[0m\u001b[0;34m)\u001b[0m\u001b[0;34m\u001b[0m\u001b[0;34m\u001b[0m\u001b[0m\n\u001b[1;32m     11\u001b[0m \u001b[0;34m\u001b[0m\u001b[0m\n",
      "\u001b[0;32m~/opt/anaconda3/lib/python3.8/site-packages/ipykernel/kernelbase.py\u001b[0m in \u001b[0;36mraw_input\u001b[0;34m(self, prompt)\u001b[0m\n\u001b[1;32m    858\u001b[0m                 \u001b[0;34m\"raw_input was called, but this frontend does not support input requests.\"\u001b[0m\u001b[0;34m\u001b[0m\u001b[0;34m\u001b[0m\u001b[0m\n\u001b[1;32m    859\u001b[0m             )\n\u001b[0;32m--> 860\u001b[0;31m         return self._input_request(str(prompt),\n\u001b[0m\u001b[1;32m    861\u001b[0m             \u001b[0mself\u001b[0m\u001b[0;34m.\u001b[0m\u001b[0m_parent_ident\u001b[0m\u001b[0;34m,\u001b[0m\u001b[0;34m\u001b[0m\u001b[0;34m\u001b[0m\u001b[0m\n\u001b[1;32m    862\u001b[0m             \u001b[0mself\u001b[0m\u001b[0;34m.\u001b[0m\u001b[0m_parent_header\u001b[0m\u001b[0;34m,\u001b[0m\u001b[0;34m\u001b[0m\u001b[0;34m\u001b[0m\u001b[0m\n",
      "\u001b[0;32m~/opt/anaconda3/lib/python3.8/site-packages/ipykernel/kernelbase.py\u001b[0m in \u001b[0;36m_input_request\u001b[0;34m(self, prompt, ident, parent, password)\u001b[0m\n\u001b[1;32m    902\u001b[0m             \u001b[0;32mexcept\u001b[0m \u001b[0mKeyboardInterrupt\u001b[0m\u001b[0;34m:\u001b[0m\u001b[0;34m\u001b[0m\u001b[0;34m\u001b[0m\u001b[0m\n\u001b[1;32m    903\u001b[0m                 \u001b[0;31m# re-raise KeyboardInterrupt, to truncate traceback\u001b[0m\u001b[0;34m\u001b[0m\u001b[0;34m\u001b[0m\u001b[0;34m\u001b[0m\u001b[0m\n\u001b[0;32m--> 904\u001b[0;31m                 \u001b[0;32mraise\u001b[0m \u001b[0mKeyboardInterrupt\u001b[0m\u001b[0;34m(\u001b[0m\u001b[0;34m\"Interrupted by user\"\u001b[0m\u001b[0;34m)\u001b[0m \u001b[0;32mfrom\u001b[0m \u001b[0;32mNone\u001b[0m\u001b[0;34m\u001b[0m\u001b[0;34m\u001b[0m\u001b[0m\n\u001b[0m\u001b[1;32m    905\u001b[0m             \u001b[0;32mexcept\u001b[0m \u001b[0mException\u001b[0m \u001b[0;32mas\u001b[0m \u001b[0me\u001b[0m\u001b[0;34m:\u001b[0m\u001b[0;34m\u001b[0m\u001b[0;34m\u001b[0m\u001b[0m\n\u001b[1;32m    906\u001b[0m                 \u001b[0mself\u001b[0m\u001b[0;34m.\u001b[0m\u001b[0mlog\u001b[0m\u001b[0;34m.\u001b[0m\u001b[0mwarning\u001b[0m\u001b[0;34m(\u001b[0m\u001b[0;34m\"Invalid Message:\"\u001b[0m\u001b[0;34m,\u001b[0m \u001b[0mexc_info\u001b[0m\u001b[0;34m=\u001b[0m\u001b[0;32mTrue\u001b[0m\u001b[0;34m)\u001b[0m\u001b[0;34m\u001b[0m\u001b[0;34m\u001b[0m\u001b[0m\n",
      "\u001b[0;31mKeyboardInterrupt\u001b[0m: Interrupted by user"
     ]
    }
   ],
   "source": [
    "# Create a variable to control the loop\n",
    "MAX_ITER = 5\n",
    "counter = 0\n",
    "\n",
    "keep_going = 'y'\n",
    "\n",
    "while counter<MAX_ITER and keep_going=='y':\n",
    "    # Get a salesperson's sales and commission rate\n",
    "    sales = float(input('Enter the amount of sales: '))\n",
    "    comm_rate = float(input('Enter the commission rate: '))\n",
    "\n",
    "    # Calculate the commission\n",
    "    commission = sales * comm_rate\n",
    "\n",
    "    # Display the commission\n",
    "    print(f'The commission is ${commission:.2f}')\n",
    "    \n",
    "    counter = counter + 1\n",
    "    \n",
    "    keep_going = input('Do you want to calculate another commision? (Enter y for yes)')"
   ]
  },
  {
   "cell_type": "markdown",
   "metadata": {},
   "source": [
    "<b>Note: </b>In order for a loop to stop executing, something has to happen inside the loop to make the condition false."
   ]
  },
  {
   "cell_type": "markdown",
   "metadata": {},
   "source": [
    "<b>Note: </b> <b>while</b> loop is known as a <i><b>pretest loop</b></i>.\n",
    "<ul><li>Tests condition before performing an iteration</li>\n",
    "<ul>\n",
    "    <li>Will never execute if condition is false to start with</li>\n",
    "    <li>Requires performing some steps prior to the loop</li>\n",
    "</ul>"
   ]
  },
  {
   "cell_type": "markdown",
   "metadata": {},
   "source": [
    "<b>Example: </b> Can you write the code for previous example using a flag variable?"
   ]
  },
  {
   "cell_type": "code",
   "execution_count": null,
   "metadata": {},
   "outputs": [],
   "source": []
  },
  {
   "cell_type": "markdown",
   "metadata": {},
   "source": [
    "<b>Example</b>: A project requires that a substance be continually heated in a vat. A technician must check the substance’s temperature every 15 minutes. If the substance’s temperature does not exceed 102.5 degrees Celsius, then the technician does nothing. However, if the temperature is greater than 102.5 degrees Celsius, the technician must turn down the vat’s thermostat, wait 5 minutes, and check the temperature again. \n",
    "The technician repeats these steps until the temperature does not exceed 102.5 degrees \n",
    "Celsius. The director of engineering has asked you to write a program that guides the technician through this process."
   ]
  },
  {
   "cell_type": "code",
   "execution_count": null,
   "metadata": {},
   "outputs": [],
   "source": [
    "# Write your code here"
   ]
  },
  {
   "cell_type": "markdown",
   "metadata": {},
   "source": [
    "### 2.1 Infinite Loops"
   ]
  },
  {
   "cell_type": "markdown",
   "metadata": {},
   "source": [
    "<b>Important Note:</b> If a loop does not have a way of stopping, it is called an <b>infinite loop</b>. \n",
    "<br>\n",
    "An <i>infinite loop</i> continues to repeat until the program is interrupted.\n",
    "<br>\n",
    "<i>Infinite loops</i> usually occur when the programmer forgets to write code inside the loop that makes the test condition False.\n"
   ]
  },
  {
   "cell_type": "markdown",
   "metadata": {},
   "source": [
    "<b>Note:</b> You need to make sure that your code avoids an infinite loop."
   ]
  },
  {
   "cell_type": "code",
   "execution_count": null,
   "metadata": {},
   "outputs": [],
   "source": [
    "keep_going = 'y'\n",
    "\n",
    "while keep_going == 'y':\n",
    "    # Get a salesperson's sales and commission rate\n",
    "    sales = float(input('Enter the amount of sales: '))\n",
    "    comm_rate = float(input('Enter the commission rate: '))\n",
    "\n",
    "    # Calculate the commission\n",
    "    commission = sales * comm_rate\n",
    "\n",
    "    # Display the commission\n",
    "    print(f'The commission is ${commission:.2f}')"
   ]
  },
  {
   "cell_type": "markdown",
   "metadata": {},
   "source": [
    "<b>Example:</b> Now it's your turn. Write a while loop program that ask for user's name and age and then display it on the screen. Next it needs to ask the user whether or not she wants to continue. "
   ]
  },
  {
   "cell_type": "code",
   "execution_count": null,
   "metadata": {},
   "outputs": [
    {
     "name": "stdout",
     "output_type": "stream",
     "text": [
      "Enter your name:Mahyar\n",
      "Enter your age:40\n",
      "Your name is Mahyar. You are 40 years old.\n",
      "Do you want to continue (y for yes): y\n",
      "Enter your name:Jhon\n",
      "Enter your age:45\n",
      "Your name is Jhon. You are 45 years old.\n"
     ]
    }
   ],
   "source": [
    "keep_going = 'y'\n",
    "\n",
    "while keep_going == 'y':\n",
    "    name = input('Enter your name:')\n",
    "    age = input('Enter your age:')\n",
    "    print(f'Your name is {name}. You are {age} years old.')\n",
    "    \n",
    "    keep_going = input('Do you want to continue (y for yes): ')"
   ]
  },
  {
   "cell_type": "code",
   "execution_count": null,
   "metadata": {},
   "outputs": [],
   "source": [
    "# Challenge for students:\n",
    "# Can you clean the screen after each iteration?"
   ]
  },
  {
   "cell_type": "markdown",
   "metadata": {},
   "source": [
    "## 3. The <i>for</i> Loop: A Count-Controlled Loop"
   ]
  },
  {
   "cell_type": "markdown",
   "metadata": {},
   "source": [
    "<b>Note: </b> The <b>for</b> statement is designed to work with a sequence of data items. When the statement executes, it iterates once for each item in the sequence."
   ]
  },
  {
   "cell_type": "markdown",
   "metadata": {},
   "source": [
    "The general format of the <b style='color:red'>for</b> loop:"
   ]
  },
  {
   "cell_type": "markdown",
   "metadata": {},
   "source": [
    "<b>Note: </b><b style='color:red'>for</b> <span style='color:blue'> variable <b style='color:red'>in</b> [value1,value2,...]</span>: \n",
    "<i><br>&nbsp;&nbsp;&nbsp;&nbsp;&nbsp;&nbsp;&nbsp;statement \n",
    "<br>&nbsp;&nbsp;&nbsp;&nbsp;&nbsp;&nbsp;&nbsp;statement\n",
    "<br>&nbsp;&nbsp;&nbsp;&nbsp;&nbsp;&nbsp;&nbsp;etc.</i>"
   ]
  },
  {
   "cell_type": "markdown",
   "metadata": {},
   "source": [
    "<b>Note:</b> The <b>for</b> statement executes in the following manner: \n",
    "<ol>\n",
    "    <li>The <span style='color:blue'>variable</span> is assigned the first value in the list (we will discuss about lists in future sessions).</li>\n",
    "    <li>The statements that appear in the block are executed.</li>\n",
    "    <li><span style='color:blue'>variable</span> is assigned the next value in the list, and the statements in the block are executed again.</li>\n",
    "    <li>This continues until variable has been assigned the last value in the list.</li>\n",
    "</ol>"
   ]
  },
  {
   "cell_type": "markdown",
   "metadata": {},
   "source": [
    "<img src='https://www.dropbox.com/s/zyrwi67r1a8nwpg/The%20for%20loop.png?raw=1'>"
   ]
  },
  {
   "cell_type": "markdown",
   "metadata": {},
   "source": [
    "<b>Example:</b>"
   ]
  },
  {
   "cell_type": "code",
   "execution_count": 1,
   "metadata": {},
   "outputs": [
    {
     "name": "stdout",
     "output_type": "stream",
     "text": [
      "1\n",
      "2\n",
      "3\n",
      "4\n",
      "5\n"
     ]
    }
   ],
   "source": [
    "for num in [1, 2, 3, 4, 5]:\n",
    "    print(num)"
   ]
  },
  {
   "cell_type": "markdown",
   "metadata": {},
   "source": [
    "<b>Note:</b>&nbsp;Programmers refer to the <span style='color:blue'>variable</span> that is used in the for clause as the <u>target variable</u>."
   ]
  },
  {
   "cell_type": "markdown",
   "metadata": {},
   "source": [
    "<b>Example:</b>"
   ]
  },
  {
   "cell_type": "code",
   "execution_count": 2,
   "metadata": {},
   "outputs": [
    {
     "name": "stdout",
     "output_type": "stream",
     "text": [
      "John\n",
      "Frank\n",
      "Mark\n"
     ]
    }
   ],
   "source": [
    "for name in ['John','Frank','Mark']:\n",
    "    print(name)"
   ]
  },
  {
   "cell_type": "markdown",
   "metadata": {},
   "source": [
    "<b>Example:</b> Now it's your turn. Write a for loop program that shows a list of odd numbers 1 through 10 "
   ]
  },
  {
   "cell_type": "code",
   "execution_count": null,
   "metadata": {},
   "outputs": [],
   "source": [
    "#Write your code here"
   ]
  },
  {
   "cell_type": "markdown",
   "metadata": {},
   "source": [
    "<b>Note:</b>&nbsp;There is a built-in function named <b style='color:red'>range( )</b> that simplifies the process of writing a count-controlled <b>for</b> loop. "
   ]
  },
  {
   "cell_type": "markdown",
   "metadata": {},
   "source": [
    "range(start, stop, step)\n",
    "\n",
    "<ul>\n",
    "    <li><b>start:</b> <u>Optional</u>. An integer number specifying at which position to start. Default is 0</li>\n",
    "    <li><b>stop:</b> <u>Required</u>. An integer number specifying at which position to stop (not included).</li>\n",
    "    <li><b>step:</b> <u>Optional</u>. An integer number specifying the incrementation. Default is 1</li>\n",
    "</ul>"
   ]
  },
  {
   "cell_type": "markdown",
   "metadata": {},
   "source": [
    "<b>Note: </b> range characteristics:\n",
    "<ul>\n",
    "    <li>One argument: used as ending limit </li>\n",
    "    <li>Two arguments: starting value and ending limit </li>\n",
    "    <li>Three arguments: third argument is step value</li>\n",
    "</ul>"
   ]
  },
  {
   "cell_type": "markdown",
   "metadata": {},
   "source": [
    "<b>Example of <u> One argument</u>:</b>"
   ]
  },
  {
   "cell_type": "code",
   "execution_count": 11,
   "metadata": {},
   "outputs": [
    {
     "name": "stdout",
     "output_type": "stream",
     "text": [
      "10\n",
      "9\n",
      "8\n",
      "7\n",
      "6\n",
      "5\n",
      "4\n",
      "3\n"
     ]
    }
   ],
   "source": [
    "for num in range(10,2,-1):\n",
    "    print(num)"
   ]
  },
  {
   "cell_type": "markdown",
   "metadata": {},
   "source": [
    "In this statement, the <b style='color:red'>range( )</b> function will generate an iterable sequence of integers in the range of <span style='color:blue'>0</span> up to (<b>but not including</b>) <span style='color:blue'>5</span>."
   ]
  },
  {
   "cell_type": "markdown",
   "metadata": {},
   "source": [
    "<b>Example:</b>"
   ]
  },
  {
   "cell_type": "code",
   "execution_count": 5,
   "metadata": {},
   "outputs": [
    {
     "name": "stdout",
     "output_type": "stream",
     "text": [
      "Hello World!\n",
      "Hello World!\n",
      "Hello World!\n",
      "Hello World!\n"
     ]
    }
   ],
   "source": [
    "for num in range(1,5):\n",
    "    print(\"Hello World!\")"
   ]
  },
  {
   "cell_type": "markdown",
   "metadata": {},
   "source": [
    "<b>Note:</b> If you pass two arguments to the <b style='color:red'>range( )</b> function, the <b>first</b> argument is used as the <u>starting value of the sequence</u>, and the <b>second</b> argument is used as <u>the ending limit</u>."
   ]
  },
  {
   "cell_type": "markdown",
   "metadata": {},
   "source": [
    "<b>Example of <u> Two arguments</u>:</b>"
   ]
  },
  {
   "cell_type": "code",
   "execution_count": 12,
   "metadata": {},
   "outputs": [
    {
     "name": "stdout",
     "output_type": "stream",
     "text": [
      "2\n",
      "3\n",
      "4\n",
      "5\n",
      "6\n",
      "7\n",
      "8\n"
     ]
    }
   ],
   "source": [
    "for num in range(2, 9):\n",
    "    nuum = num * 2\n",
    "    print(num)"
   ]
  },
  {
   "cell_type": "markdown",
   "metadata": {},
   "source": [
    "<b>Note:</b> If you pass a third argument to the <b style='color:red'>range( )</b> function, that argument is used as <b>step value</b>. Instead of increasing by <span style='color:blue'>1</span>, each successive number in the sequence <u>will increase by the step value</u>."
   ]
  },
  {
   "cell_type": "markdown",
   "metadata": {},
   "source": [
    "<b>Example of <u> Three arguments</u>:</b>"
   ]
  },
  {
   "cell_type": "code",
   "execution_count": 13,
   "metadata": {},
   "outputs": [
    {
     "name": "stdout",
     "output_type": "stream",
     "text": [
      "1\n",
      "4\n",
      "7\n"
     ]
    }
   ],
   "source": [
    "for num in range(1, 10, 3): \n",
    "    print(num)"
   ]
  },
  {
   "cell_type": "markdown",
   "metadata": {},
   "source": [
    "<b>Note:</b> in the above example:\n",
    "<ul>\n",
    "<li>The first argument, 1, is the starting value for the sequence.</li>\n",
    "<li>The second argument, 10, is the ending limit of the list. This means that the last number in the sequence will be 9.</li>\n",
    "<li>The third argument, 2, is the step value. This means that 2 will be added to each successive number in the sequence.</li>\n",
    "</ul>"
   ]
  },
  {
   "cell_type": "markdown",
   "metadata": {},
   "source": [
    "<b>Note</b>: Target variable can be used in calculations or tasks in the body of the loop."
   ]
  },
  {
   "cell_type": "markdown",
   "metadata": {},
   "source": [
    "<b>Example: </b> calculate square root of each number in a range"
   ]
  },
  {
   "cell_type": "code",
   "execution_count": 16,
   "metadata": {},
   "outputs": [
    {
     "name": "stdout",
     "output_type": "stream",
     "text": [
      "Number\tSquare\n",
      "--------------------\n",
      "1\t1\n",
      "2\t4\n",
      "3\t9\n",
      "4\t16\n",
      "5\t25\n",
      "6\t36\n",
      "7\t49\n",
      "8\t64\n",
      "9\t81\n",
      "10\t100\n"
     ]
    }
   ],
   "source": [
    "# Print the table headings\n",
    "print('Number\\tSquare')\n",
    "print('-'*20)\n",
    "\n",
    "# Print numbers and their squares\n",
    "for num in range(1,11):\n",
    "    square = num ** 2\n",
    "    print(f'{num}\\t{square}')"
   ]
  },
  {
   "cell_type": "markdown",
   "metadata": {},
   "source": [
    "<b>Note: </b>Sometimes the programmer does not know exactly how many times the loop will execute\n",
    "<ul><li>Use <b style='color:red'>input( )</b> function to get the value, place them in variables, and call the range function in the for clause using these variables</li>\n",
    "    <ul><li>Be sure to consider the end cases: <b>range</b> does not include the ending limit\n",
    "    </li></ul></ul>"
   ]
  },
  {
   "cell_type": "markdown",
   "metadata": {},
   "source": [
    "<b>Examples:</b>"
   ]
  },
  {
   "cell_type": "code",
   "execution_count": 17,
   "metadata": {},
   "outputs": [
    {
     "name": "stdout",
     "output_type": "stream",
     "text": [
      "How high should I go? 15\n",
      "Number\tSquare\n",
      "--------------\n",
      "1 \t 1\n",
      "2 \t 4\n",
      "3 \t 9\n",
      "4 \t 16\n",
      "5 \t 25\n",
      "6 \t 36\n",
      "7 \t 49\n",
      "8 \t 64\n",
      "9 \t 81\n",
      "10 \t 100\n",
      "11 \t 121\n",
      "12 \t 144\n",
      "13 \t 169\n",
      "14 \t 196\n",
      "15 \t 225\n"
     ]
    }
   ],
   "source": [
    "# This program uses a loop to display a table of numbers and their squares.\n",
    "\n",
    "end = int(input('How high should I go? '))\n",
    "\n",
    "\n",
    "print('Number\\tSquare')\n",
    "print('--------------')\n",
    "for number in range(1, end + 1):\n",
    "    square = number**2\n",
    "    print(number, '\\t', square)"
   ]
  },
  {
   "cell_type": "code",
   "execution_count": 18,
   "metadata": {},
   "outputs": [
    {
     "name": "stdout",
     "output_type": "stream",
     "text": [
      "Enter the starting number: 10\n",
      "How high should I go? 25\n",
      "10 \t 100\n",
      "11 \t 121\n",
      "12 \t 144\n",
      "13 \t 169\n",
      "14 \t 196\n",
      "15 \t 225\n",
      "16 \t 256\n",
      "17 \t 289\n",
      "18 \t 324\n",
      "19 \t 361\n",
      "20 \t 400\n",
      "21 \t 441\n",
      "22 \t 484\n",
      "23 \t 529\n",
      "24 \t 576\n",
      "25 \t 625\n"
     ]
    }
   ],
   "source": [
    "start = int(input('Enter the starting number: '))\n",
    "end = int(input('How high should I go? '))\n",
    "\n",
    "for number in range(start, end + 1):\n",
    "    square = number**2\n",
    "    print(number, '\\t', square)"
   ]
  },
  {
   "cell_type": "markdown",
   "metadata": {},
   "source": [
    "<b>Note:</b> We can use the <b style='color:red'>range( )</b> function to generate sequences of numbers that goes from <u>highest to lowest</u>. \n",
    "<ul><li>Make sure <u>starting number</u> is <u>larger than end limit</u>, and step value is <u>negative</u></li></ul>"
   ]
  },
  {
   "cell_type": "code",
   "execution_count": null,
   "metadata": {},
   "outputs": [],
   "source": [
    "for num in range(10,0,-1):\n",
    "    print(num)"
   ]
  },
  {
   "cell_type": "markdown",
   "metadata": {},
   "source": [
    "<b>Example:</b> Now it's your turn. Write a for loop program that prints the numbers 7 down to 3"
   ]
  },
  {
   "cell_type": "code",
   "execution_count": null,
   "metadata": {},
   "outputs": [],
   "source": [
    "#Write your code here"
   ]
  },
  {
   "cell_type": "markdown",
   "metadata": {},
   "source": [
    "## 4. Calculating a Running Total"
   ]
  },
  {
   "cell_type": "markdown",
   "metadata": {},
   "source": [
    "<b>Note: </b>Programs often need to calculate a total of a series of numbers.\n",
    "<ul>\n",
    "    <li>Typically include two elements:</li>\n",
    "    <ul><li>A loop that reads each number in the series.</li>\n",
    "    <li>A variable that accumulates the total of the numbers as they are read.</li>\n",
    "</ul></ul>\n",
    "\n",
    "<b>Note:</b> It is important that you initialize the accumulator variable"
   ]
  },
  {
   "cell_type": "markdown",
   "metadata": {},
   "source": [
    "<b>Example:</b> Write a program that calculates the sum of a series of numbers entered by the user."
   ]
  },
  {
   "cell_type": "code",
   "execution_count": 23,
   "metadata": {},
   "outputs": [
    {
     "name": "stdout",
     "output_type": "stream",
     "text": [
      "Enter your number: 10\n",
      "Enter your number: 12\n",
      "Enter your number: 15\n",
      "Enter your number: 16\n",
      "Enter your number: 18\n",
      "71\n"
     ]
    }
   ],
   "source": [
    "total = 0\n",
    "for i in range(5):\n",
    "    user_value = int(input('Enter your number: '))\n",
    "    total = total + user_value\n",
    "    \n",
    "print(total)"
   ]
  },
  {
   "cell_type": "markdown",
   "metadata": {},
   "source": [
    "<b>Example:</b> Now it's your turn. write a program to calculate the sum of numbers in the range of 1 through 10."
   ]
  },
  {
   "cell_type": "code",
   "execution_count": null,
   "metadata": {},
   "outputs": [],
   "source": [
    "#Write your code here"
   ]
  },
  {
   "cell_type": "markdown",
   "metadata": {},
   "source": [
    "### 4.1 The Augmented Assignment Operators"
   ]
  },
  {
   "cell_type": "markdown",
   "metadata": {},
   "source": [
    "Often programs have assignment statements in which the variable that is on the left side of the <b style='color:red'>=</b> operator also appears on the right side of the <b style='color:red'>=</b> operator.\n",
    "<br>\n",
    "<br>\n",
    "<b style='color:blue'>x = x + 3</b>\n",
    "<br>\n",
    "<br>\n",
    "On the right side of the assignment operator, 3 is added to x. The result is then assigned to x, replacing the value that x previously referenced."
   ]
  },
  {
   "cell_type": "markdown",
   "metadata": {},
   "source": [
    "<b>Examples:</b>"
   ]
  },
  {
   "cell_type": "markdown",
   "metadata": {},
   "source": [
    "<b style='color:blue'>x = x + 5</b> &nbsp;&nbsp;# Add 5 to x\n",
    "<br><b style='color:blue'>x = x - 4</b> &nbsp;&nbsp;# Subtracts 4 from x\n",
    "<br><b style='color:blue'>x = x * 6</b> &nbsp;&nbsp;# Multiplies x by 6\n",
    "<br><b style='color:blue'>x = x / 3</b> &nbsp;&nbsp;# Divides x by 3\n",
    "<br><b style='color:blue'>x = x % 2</b> &nbsp;&nbsp;# Assigns the remainder of x / 2 to x"
   ]
  },
  {
   "cell_type": "markdown",
   "metadata": {},
   "source": [
    "<b>Important Note:</b> For convenience, Python offers a special set of operators designed specifically for these jobs."
   ]
  },
  {
   "cell_type": "markdown",
   "metadata": {},
   "source": [
    "<b>Examples:</b>"
   ]
  },
  {
   "cell_type": "markdown",
   "metadata": {},
   "source": [
    "<b style='color:blue'>x += 5</b> &nbsp; is the same as &nbsp; <b style='color:blue'>x = x + 5</b>\n",
    "<br>\n",
    "<b style='color:blue'>x -= 4</b> &nbsp; is the same as &nbsp; <b style='color:blue'>x = x - 4</b>\n",
    "<br>\n",
    "<b style='color:blue'>x *= 6</b> &nbsp; is the same as &nbsp; <b style='color:blue'>x = x * 6</b>\n",
    "<br>\n",
    "<b style='color:blue'>x /= 3</b> &nbsp; is the same as &nbsp; <b style='color:blue'>x = x / 3</b>\n",
    "<br>\n",
    "<b style='color:blue'>x %= 2</b> &nbsp; is the same as &nbsp; <b style='color:blue'>x = x % 2</b>"
   ]
  },
  {
   "cell_type": "markdown",
   "metadata": {},
   "source": [
    "Here is the complete list:"
   ]
  },
  {
   "cell_type": "markdown",
   "metadata": {},
   "source": [
    "<img src='https://www.dropbox.com/s/9n3jyv77cgvot7f/Augmented%20assignment%20operators.png?raw=1'>"
   ]
  },
  {
   "cell_type": "code",
   "execution_count": 27,
   "metadata": {},
   "outputs": [
    {
     "data": {
      "text/plain": [
       "20"
      ]
     },
     "execution_count": 27,
     "metadata": {},
     "output_type": "execute_result"
    }
   ],
   "source": [
    "x = 10 \n",
    "x += 10\n",
    "x"
   ]
  },
  {
   "cell_type": "code",
   "execution_count": 26,
   "metadata": {},
   "outputs": [
    {
     "name": "stdout",
     "output_type": "stream",
     "text": [
      "20\n"
     ]
    }
   ],
   "source": [
    "print(x)"
   ]
  },
  {
   "cell_type": "markdown",
   "metadata": {},
   "source": [
    "## 5. Input Validation"
   ]
  },
  {
   "cell_type": "markdown",
   "metadata": {},
   "source": [
    "<b>Note: </b>Computer cannot tell the difference between good data and bad data\n",
    "<ul><li>If user provides bad input, program will produce bad output</li>\n",
    "<li>It is important to design program such that bad input is never accepted</li></ul>"
   ]
  },
  {
   "cell_type": "code",
   "execution_count": 29,
   "metadata": {},
   "outputs": [
    {
     "name": "stdout",
     "output_type": "stream",
     "text": [
      "Enter the hours worked this week: s\n"
     ]
    },
    {
     "ename": "ValueError",
     "evalue": "invalid literal for int() with base 10: 's'",
     "output_type": "error",
     "traceback": [
      "\u001b[0;31m---------------------------------------------------------------------------\u001b[0m",
      "\u001b[0;31mValueError\u001b[0m                                Traceback (most recent call last)",
      "\u001b[0;32m/var/folders/5k/8x1dmrw51kn78q52lx_njb4m0000gn/T/ipykernel_54757/431537905.py\u001b[0m in \u001b[0;36m<module>\u001b[0;34m\u001b[0m\n\u001b[1;32m      1\u001b[0m \u001b[0;31m# Get the number of hours worked.\u001b[0m\u001b[0;34m\u001b[0m\u001b[0;34m\u001b[0m\u001b[0;34m\u001b[0m\u001b[0m\n\u001b[0;32m----> 2\u001b[0;31m \u001b[0mhours\u001b[0m \u001b[0;34m=\u001b[0m \u001b[0mint\u001b[0m\u001b[0;34m(\u001b[0m\u001b[0minput\u001b[0m\u001b[0;34m(\u001b[0m\u001b[0;34m'Enter the hours worked this week: '\u001b[0m\u001b[0;34m)\u001b[0m\u001b[0;34m)\u001b[0m\u001b[0;34m\u001b[0m\u001b[0;34m\u001b[0m\u001b[0m\n\u001b[0m\u001b[1;32m      3\u001b[0m \u001b[0;34m\u001b[0m\u001b[0m\n\u001b[1;32m      4\u001b[0m \u001b[0;31m# Get the hourly pay rate.\u001b[0m\u001b[0;34m\u001b[0m\u001b[0;34m\u001b[0m\u001b[0;34m\u001b[0m\u001b[0m\n\u001b[1;32m      5\u001b[0m \u001b[0mpay_rate\u001b[0m \u001b[0;34m=\u001b[0m \u001b[0mfloat\u001b[0m\u001b[0;34m(\u001b[0m\u001b[0minput\u001b[0m\u001b[0;34m(\u001b[0m\u001b[0;34m'Enter the hourly pay rate: '\u001b[0m\u001b[0;34m)\u001b[0m\u001b[0;34m)\u001b[0m\u001b[0;34m\u001b[0m\u001b[0;34m\u001b[0m\u001b[0m\n",
      "\u001b[0;31mValueError\u001b[0m: invalid literal for int() with base 10: 's'"
     ]
    }
   ],
   "source": [
    "# Get the number of hours worked.\n",
    "hours = int(input('Enter the hours worked this week: '))\n",
    "\n",
    "# Get the hourly pay rate.\n",
    "pay_rate = float(input('Enter the hourly pay rate: '))\n",
    "\n",
    "# Calculate the gross pay.\n",
    "gross_pay = hours * pay_rate\n",
    "\n",
    "# Display the gross pay.\n",
    "print('Gross pay: $', format(gross_pay, ',.2f'))"
   ]
  },
  {
   "cell_type": "markdown",
   "metadata": {},
   "source": [
    "<b>Input validation:</b> the process of inspecting data that has been input to a program, to make sure it is valid before it is used in a computation. \n",
    "<ul><li>If the input is invalid, the program should discard it and prompt the user to enter the correct data.</li>\n",
    "    <li>Commonly accomplished using a while loop which repeats as long as the input is bad</li>\n",
    "    <ul><li>If input is bad, display error message and receive another set of data</li>\n",
    "        <li>If input is good, continue to process the input</li></ul></ul>\n",
    "    "
   ]
  },
  {
   "cell_type": "code",
   "execution_count": 31,
   "metadata": {},
   "outputs": [
    {
     "name": "stdout",
     "output_type": "stream",
     "text": [
      "Enter the hours worked this week: 85\n",
      "Enter the hourly pay rate: 12\n",
      "Enter a valid number for hours worked this week: -20\n",
      "Enter a valid number for hours worked this week: 25\n",
      "Gross pay: $ 300.00\n"
     ]
    }
   ],
   "source": [
    "hours = int(input('Enter the hours worked this week: '))\n",
    "\n",
    "# Get the hourly pay rate.\n",
    "pay_rate = float(input('Enter the hourly pay rate: '))\n",
    "\n",
    "\n",
    "while hours<0 or hours>50:\n",
    "    hours = int(input('Enter a valid number for hours worked this week: '))\n",
    "    \n",
    "\n",
    "# Calculate the gross pay.\n",
    "gross_pay = hours * pay_rate\n",
    "\n",
    "# Display the gross pay.\n",
    "print('Gross pay: $', format(gross_pay, ',.2f'))"
   ]
  },
  {
   "cell_type": "markdown",
   "metadata": {},
   "source": [
    "<b>Note:</b> Program reads input in two places: \n",
    "<br /><br />\n",
    "<u>First</u> just before the loop, and <u>then</u> inside the loop. \n",
    "<br><br>The first input operation is called a <i>priming read</i>, and its purpose is to get the first input value that will be tested by the validation loop. If that value is invalid, the loop will perform subsequent input operations."
   ]
  },
  {
   "cell_type": "markdown",
   "metadata": {},
   "source": [
    "<b>Example:</b> Suppose you are designing a program that reads a test score and you want to make sure the user does not enter a value less than 0."
   ]
  },
  {
   "cell_type": "code",
   "execution_count": null,
   "metadata": {},
   "outputs": [],
   "source": [
    "# Write your code here"
   ]
  },
  {
   "cell_type": "markdown",
   "metadata": {},
   "source": [
    "## 6. Nested Loops"
   ]
  },
  {
   "cell_type": "markdown",
   "metadata": {},
   "source": [
    "<b> Note: </b> A loop that is inside another loop is called a nested loop."
   ]
  },
  {
   "cell_type": "markdown",
   "metadata": {},
   "source": [
    "<b>Example: </b> analog clock works like a nested loop\n",
    "<ul><li>Hours hand moves once for every twelve movements of the minutes hand: for each iteration of the “hours,” do twelve iterations of “minutes”</li>\n",
    "<li>Seconds hand moves 60 times for each movement of the minutes hand: for each iteration of “minutes,” do 60 iterations of “seconds”</li></ul>"
   ]
  },
  {
   "cell_type": "markdown",
   "metadata": {},
   "source": [
    "<b>Exapmle</b>"
   ]
  },
  {
   "cell_type": "code",
   "execution_count": 32,
   "metadata": {},
   "outputs": [
    {
     "name": "stdout",
     "output_type": "stream",
     "text": [
      "Hello World\n",
      "Hello World\n",
      "Hello World\n",
      "Hello World\n",
      "Hello World\n",
      "Hello World\n",
      "Hello World\n",
      "Hello World\n",
      "Hello World\n",
      "Hello World\n",
      "Hello World\n",
      "Hello World\n",
      "Hello World\n",
      "Hello World\n",
      "Hello World\n"
     ]
    }
   ],
   "source": [
    "Max = 6\n",
    "for r in range(Max): \n",
    "    for c in range(r):\n",
    "        print('Hello World')"
   ]
  },
  {
   "cell_type": "code",
   "execution_count": 33,
   "metadata": {},
   "outputs": [
    {
     "name": "stdout",
     "output_type": "stream",
     "text": [
      "0 * 0 = 0\n",
      "0 * 1 = 0\n",
      "0 * 2 = 0\n",
      "0 * 3 = 0\n",
      "0 * 4 = 0\n",
      "1 * 0 = 0\n",
      "1 * 1 = 1\n",
      "1 * 2 = 2\n",
      "1 * 3 = 3\n",
      "1 * 4 = 4\n",
      "2 * 0 = 0\n",
      "2 * 1 = 2\n",
      "2 * 2 = 4\n",
      "2 * 3 = 6\n",
      "2 * 4 = 8\n",
      "3 * 0 = 0\n",
      "3 * 1 = 3\n",
      "3 * 2 = 6\n",
      "3 * 3 = 9\n",
      "3 * 4 = 12\n",
      "4 * 0 = 0\n",
      "4 * 1 = 4\n",
      "4 * 2 = 8\n",
      "4 * 3 = 12\n",
      "4 * 4 = 16\n"
     ]
    }
   ],
   "source": [
    "for i in range(5):\n",
    "    for j in range(5):\n",
    "        print(f'{i} * {j} = {i * j}') "
   ]
  },
  {
   "cell_type": "markdown",
   "metadata": {},
   "source": [
    "<b> Example:</b> Write a code to generate the following pattern:\n",
    "<br>\n",
    "<span>\\*\\*\\*\\*\\*</span>\n",
    "<br>\n",
    "<span>\\*\\*\\*\\*\\*</span>\n",
    "<br>\n",
    "<span>\\*\\*\\*\\*\\*</span>\n",
    "<br>\n",
    "<span>\\*\\*\\*\\*\\*</span>\n",
    "<br>\n",
    "<span>\\*\\*\\*\\*\\*</span>\n",
    "<br>\n",
    "<span>\\*\\*\\*\\*\\*</span>"
   ]
  },
  {
   "cell_type": "code",
   "execution_count": 35,
   "metadata": {},
   "outputs": [
    {
     "name": "stdout",
     "output_type": "stream",
     "text": [
      "*****\n",
      "*****\n",
      "*****\n",
      "*****\n",
      "*****\n",
      "*****\n",
      "*****\n"
     ]
    }
   ],
   "source": [
    "for i in range(7):\n",
    "    print(5*'*')"
   ]
  },
  {
   "cell_type": "code",
   "execution_count": 41,
   "metadata": {},
   "outputs": [
    {
     "name": "stdout",
     "output_type": "stream",
     "text": [
      "*****\n",
      "*****\n",
      "*****\n",
      "*****\n",
      "*****\n",
      "*****\n",
      "*****\n"
     ]
    }
   ],
   "source": [
    "for i in range(7):\n",
    "    for j in range(5):\n",
    "        print('*', end='')\n",
    "    print()"
   ]
  },
  {
   "cell_type": "markdown",
   "metadata": {},
   "source": [
    "<b> Example:</b> Write a code to generate the following pattern:\n",
    "<br>\n",
    "<span>\\#</span>\n",
    "<br>\n",
    "<span>\\#\\#</span>\n",
    "<br>\n",
    "<span>\\#\\#\\#</span>\n",
    "<br>\n",
    "<span>\\#\\#\\#\\#</span>\n",
    "<br>\n",
    "<span>\\#\\#\\#\\#\\#</span>\n",
    "<br>\n",
    "<span>\\#\\#\\#\\#\\#\\#</span>"
   ]
  },
  {
   "cell_type": "code",
   "execution_count": 46,
   "metadata": {},
   "outputs": [
    {
     "name": "stdout",
     "output_type": "stream",
     "text": [
      "#\n",
      "##\n",
      "###\n",
      "####\n",
      "#####\n",
      "######\n"
     ]
    }
   ],
   "source": [
    "for i in range(6):\n",
    "    for j in range(i+1):\n",
    "        print('#', end='')\n",
    "    print()"
   ]
  },
  {
   "cell_type": "markdown",
   "metadata": {},
   "source": [
    "<b> Example:</b> write  a program that a teacher use to get the average of each student’s test scores."
   ]
  },
  {
   "cell_type": "code",
   "execution_count": null,
   "metadata": {},
   "outputs": [],
   "source": [
    "# Write your code here"
   ]
  },
  {
   "cell_type": "markdown",
   "metadata": {},
   "source": [
    "<b>Example:</b> Wrie a code to ask the user to input a number and calculate sum of all numbers between 1 and given number."
   ]
  },
  {
   "cell_type": "code",
   "execution_count": null,
   "metadata": {},
   "outputs": [],
   "source": [
    "# Write your code here"
   ]
  },
  {
   "cell_type": "markdown",
   "metadata": {},
   "source": [
    "<b>Example: </b> Write a Python program to find those numbers which are divisible by 7 and multiple of 5, between 1200 and 2200 (both included)."
   ]
  },
  {
   "cell_type": "code",
   "execution_count": null,
   "metadata": {},
   "outputs": [],
   "source": [
    "# Write your code here"
   ]
  }
 ],
 "metadata": {
  "kernelspec": {
   "display_name": "Python 3 (ipykernel)",
   "language": "python",
   "name": "python3"
  },
  "language_info": {
   "codemirror_mode": {
    "name": "ipython",
    "version": 3
   },
   "file_extension": ".py",
   "mimetype": "text/x-python",
   "name": "python",
   "nbconvert_exporter": "python",
   "pygments_lexer": "ipython3",
   "version": "3.9.10"
  }
 },
 "nbformat": 4,
 "nbformat_minor": 4
}
