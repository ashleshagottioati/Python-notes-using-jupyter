{
 "cells": [
  {
   "cell_type": "markdown",
   "metadata": {},
   "source": [
    "        Introduction to Programming: Python\n",
    "        Mahyar Vaghefi\n",
    "        University of Texas Arlington\n",
    "        \n",
    "        This document can only be used for class studies. \n",
    "        You are not allowed to share it in any public platform."
   ]
  },
  {
   "cell_type": "markdown",
   "metadata": {},
   "source": [
    "        The Material for this Notebook is Adopted from \n",
    "        Starting Out with Python (4th Edition)- by Tony Gaddis Pearson"
   ]
  },
  {
   "cell_type": "markdown",
   "metadata": {},
   "source": [
    "<h1 align='center' style=\"color: blue;\">Decision Structures and Boolean Logic</h1>"
   ]
  },
  {
   "cell_type": "markdown",
   "metadata": {},
   "source": [
    "<b>Control structure:</b> logical design that controls order in which set of statements execute.\n",
    "<br><br>\n",
    "Two basic types of control structures:\n",
    "<ol>\n",
    "    <li>Sequence structure\n",
    "    <ul>\n",
    "        <li>Set of statements that execute in the order they appear.</li>\n",
    "    </ul>\n",
    "    </li>\n",
    "    <li>Decision structure (selection structure)\n",
    "    <ul>\n",
    "        <li>Specific action(s) performed only if a condition exists.</li>\n",
    "        <li>Flowchart is a useful tool to visualize the decision structure.</li>\n",
    "    </ul>\n",
    "    </li>\n",
    "</ol>    "
   ]
  },
  {
   "cell_type": "markdown",
   "metadata": {},
   "source": [
    "<b>Example:</b> Sequence structure"
   ]
  },
  {
   "cell_type": "code",
   "execution_count": 1,
   "metadata": {},
   "outputs": [
    {
     "name": "stdout",
     "output_type": "stream",
     "text": [
      "What is your name? Mahyar\n",
      "What is your age? 20\n",
      "Here is the data you entered:\n",
      "Name: Mahyar\n",
      "Age: 20\n"
     ]
    }
   ],
   "source": [
    "name = input('What is your name? ') \n",
    "age = int(input('What is your age? ')) \n",
    "\n",
    "print('Here is the data you entered:') \n",
    "print('Name:', name)\n",
    "print('Age:', age)"
   ]
  },
  {
   "cell_type": "markdown",
   "metadata": {},
   "source": [
    "<b>Example:</b> Decision structure"
   ]
  },
  {
   "cell_type": "markdown",
   "metadata": {},
   "source": [
    "<img src='https://www.dropbox.com/s/6qs2se5zicnin7i/Decision%20Structure.png?raw=1' />\n",
    "\n",
    "<i>Source: Starting Out with Python (4th Edition)- by Tony Gaddis Pearson</i>"
   ]
  },
  {
   "cell_type": "markdown",
   "metadata": {},
   "source": [
    "<b>Note:</b> In flowchart, <u>diamond</u> represents <span style='color:green'>True</span>/<span style='color:red'>False</span> condition that must be tested."
   ]
  },
  {
   "cell_type": "markdown",
   "metadata": {},
   "source": [
    "## 1. The <i>if</i> Statement "
   ]
  },
  {
   "cell_type": "markdown",
   "metadata": {},
   "source": [
    "<b>Note:</b> The <b><i>if</i></b> statement is used to create a decision structure, which allows a program to have <u>more than one</u> path of execution. The general format of the if statement:"
   ]
  },
  {
   "cell_type": "markdown",
   "metadata": {},
   "source": [
    "<i><b>if</b> <span style='color:blue'>condition</span>: \n",
    "<br>&nbsp;&nbsp;&nbsp;&nbsp;&nbsp;&nbsp;statement \n",
    "<br>&nbsp;&nbsp;&nbsp;&nbsp;&nbsp;&nbsp;statement\n",
    "<br>&nbsp;&nbsp;&nbsp;&nbsp;&nbsp;&nbsp;etc.</i>"
   ]
  },
  {
   "cell_type": "code",
   "execution_count": null,
   "metadata": {},
   "outputs": [],
   "source": [
    "if [condition]:\n",
    "    statement1\n",
    "    statement2\n",
    "    statement3\n",
    "\n",
    "statement4\n",
    "\n",
    "    \n",
    "    "
   ]
  },
  {
   "cell_type": "markdown",
   "metadata": {},
   "source": [
    "<b>Note:</b> Pay attention to following points:\n",
    "<ul>\n",
    "    <li>The word <b><i>if</i></b>, followed by a <i style='color:blue'>condition</i>, which is an expression that will be evaluated as either <span style='color:green'>True</span> or <span style='color:red'>False</span>.</li> \n",
    "    <li>A <u>colon</u> appears after the condition.</li> \n",
    "    <li>[<b>Important</b>] Beginning at the next line is a block of statements.</li> \n",
    "    <ul><li>A block is a set of statements that belong together as a group.</li> \n",
    "        <li>All the statements in the block are <b>indented</b> to tell where the block begins and ends.</li>\n",
    "        </ul>\n",
    "        </ul>"
   ]
  },
  {
   "cell_type": "markdown",
   "metadata": {},
   "source": [
    "<b>Note:</b> When the <b><i>if</i></b> statement executes, the condition is tested.<br>\n",
    "<ul>\n",
    "    <li>If the condition is <b style='color:green'>True</b>, the statements that appear in the block following the if clause are executed.</li>\n",
    "    <li>If the condition is <b style='color:red'>False</b>, the statements in the block are skipped.</li>\n",
    "</ul>"
   ]
  },
  {
   "cell_type": "markdown",
   "metadata": {},
   "source": [
    "### 1.1. Boolean Expressions and Relational Operators"
   ]
  },
  {
   "cell_type": "markdown",
   "metadata": {},
   "source": [
    "<b>Note:</b> We use these expressions to test presence of a ralationship betweeen different values and determine if it is <b style='color:green'>True</b> or <b style='color:red'>False</b>."
   ]
  },
  {
   "cell_type": "markdown",
   "metadata": {},
   "source": [
    "<img src='https://www.dropbox.com/s/rwd3orxdqizmr27/Boolean%20expressions%20using%20relational%20operators.png?raw=1' />\n",
    "\n",
    "<i>Source: Starting Out with Python (4th Edition)- by Tony Gaddis Pearson</i>"
   ]
  },
  {
   "cell_type": "code",
   "execution_count": 2,
   "metadata": {},
   "outputs": [
    {
     "name": "stdout",
     "output_type": "stream",
     "text": [
      "False\n"
     ]
    }
   ],
   "source": [
    "x = 2\n",
    "y = 3\n",
    "print(x>y)"
   ]
  },
  {
   "cell_type": "code",
   "execution_count": 3,
   "metadata": {},
   "outputs": [
    {
     "name": "stdout",
     "output_type": "stream",
     "text": [
      "True\n"
     ]
    }
   ],
   "source": [
    "x = 10\n",
    "y = 20\n",
    "print(x<=y)"
   ]
  },
  {
   "cell_type": "markdown",
   "metadata": {},
   "source": [
    "<b>Example:</b> x > y\n",
    "<ul>\n",
    "    <li><b style='color:green'>True</b> if x is greater than y </li> \n",
    "    <li><b style='color:red'>False</b> otherwise</li>\n",
    "</ul>"
   ]
  },
  {
   "cell_type": "markdown",
   "metadata": {},
   "source": [
    "<b>Example:</b>"
   ]
  },
  {
   "cell_type": "code",
   "execution_count": null,
   "metadata": {},
   "outputs": [],
   "source": [
    "# Define variables \n",
    "x = 20\n",
    "y = 54"
   ]
  },
  {
   "cell_type": "code",
   "execution_count": null,
   "metadata": {},
   "outputs": [],
   "source": [
    "# Test a Condition\n",
    "x > y"
   ]
  },
  {
   "cell_type": "code",
   "execution_count": null,
   "metadata": {},
   "outputs": [],
   "source": [
    "# Test a Condition\n",
    "x < y"
   ]
  },
  {
   "cell_type": "markdown",
   "metadata": {},
   "source": [
    "<b>Example:</b>"
   ]
  },
  {
   "cell_type": "code",
   "execution_count": 4,
   "metadata": {},
   "outputs": [],
   "source": [
    "# Define variables\n",
    "x = 1\n",
    "y = 0\n",
    "z = 1"
   ]
  },
  {
   "cell_type": "code",
   "execution_count": 5,
   "metadata": {},
   "outputs": [
    {
     "data": {
      "text/plain": [
       "False"
      ]
     },
     "execution_count": 5,
     "metadata": {},
     "output_type": "execute_result"
    }
   ],
   "source": [
    "# Test a Condition\n",
    "x <= y"
   ]
  },
  {
   "cell_type": "code",
   "execution_count": 6,
   "metadata": {},
   "outputs": [
    {
     "data": {
      "text/plain": [
       "True"
      ]
     },
     "execution_count": 6,
     "metadata": {},
     "output_type": "execute_result"
    }
   ],
   "source": [
    "# Test a Condition\n",
    "x >= y"
   ]
  },
  {
   "cell_type": "code",
   "execution_count": 7,
   "metadata": {},
   "outputs": [
    {
     "data": {
      "text/plain": [
       "True"
      ]
     },
     "execution_count": 7,
     "metadata": {},
     "output_type": "execute_result"
    }
   ],
   "source": [
    "# Test a Condition\n",
    "x >= z"
   ]
  },
  {
   "cell_type": "code",
   "execution_count": 8,
   "metadata": {},
   "outputs": [
    {
     "data": {
      "text/plain": [
       "False"
      ]
     },
     "execution_count": 8,
     "metadata": {},
     "output_type": "execute_result"
    }
   ],
   "source": [
    "# Test a Condition\n",
    "x == y"
   ]
  },
  {
   "cell_type": "code",
   "execution_count": 9,
   "metadata": {},
   "outputs": [
    {
     "data": {
      "text/plain": [
       "True"
      ]
     },
     "execution_count": 9,
     "metadata": {},
     "output_type": "execute_result"
    }
   ],
   "source": [
    "# Test a Condition\n",
    "x == z"
   ]
  },
  {
   "cell_type": "code",
   "execution_count": 10,
   "metadata": {},
   "outputs": [
    {
     "data": {
      "text/plain": [
       "True"
      ]
     },
     "execution_count": 10,
     "metadata": {},
     "output_type": "execute_result"
    }
   ],
   "source": [
    "# Test a Condition\n",
    "x != y"
   ]
  },
  {
   "cell_type": "code",
   "execution_count": 11,
   "metadata": {},
   "outputs": [
    {
     "data": {
      "text/plain": [
       "False"
      ]
     },
     "execution_count": 11,
     "metadata": {},
     "output_type": "execute_result"
    }
   ],
   "source": [
    "# Test a Condition\n",
    "x != z "
   ]
  },
  {
   "cell_type": "markdown",
   "metadata": {},
   "source": [
    "Let’s look at a more meaningful examples of the <b><i>if</i></b> statement:"
   ]
  },
  {
   "cell_type": "markdown",
   "metadata": {},
   "source": [
    "<b>Example:</b> Create an if statement that checks to see if sales value is greater than 50000. Set the bonus to 500.0 if the condition was True."
   ]
  },
  {
   "cell_type": "markdown",
   "metadata": {},
   "source": [
    "<img src='https://www.dropbox.com/s/kshz3oucubbhys5/decision%20structure1.png?raw=1' />\n",
    "\n",
    "<i>Source: Starting Out with Python (4th Edition)- by Tony Gaddis Pearson</i>"
   ]
  },
  {
   "cell_type": "markdown",
   "metadata": {},
   "source": [
    "<b><i>if</i></b>&nbsp;  <span style='color:blue'>sales > 50000</span>: \n",
    "<br>&nbsp;&nbsp;&nbsp;&nbsp;&nbsp;&nbsp;bonus = 500.0"
   ]
  },
  {
   "cell_type": "code",
   "execution_count": 8,
   "metadata": {},
   "outputs": [],
   "source": [
    "sales = 60000\n",
    "bonus = 0\n",
    "if sales>50000:\n",
    "    bonus = 500.0"
   ]
  },
  {
   "cell_type": "code",
   "execution_count": 9,
   "metadata": {},
   "outputs": [
    {
     "name": "stdout",
     "output_type": "stream",
     "text": [
      "500.0\n"
     ]
    }
   ],
   "source": [
    "print(bonus)"
   ]
  },
  {
   "cell_type": "markdown",
   "metadata": {},
   "source": [
    "<b>Question:</b> Can we just simply run this code?"
   ]
  },
  {
   "cell_type": "markdown",
   "metadata": {},
   "source": [
    "<b>Example:</b> Can we do more in just one block?"
   ]
  },
  {
   "cell_type": "markdown",
   "metadata": {},
   "source": [
    "<img src='https://www.dropbox.com/s/vifhchlnsyi4ps9/Example%20decision%20structure.png?raw=1' />\n",
    "\n",
    "<i>Source: Starting Out with Python (4th Edition)- by Tony Gaddis Pearson</i>"
   ]
  },
  {
   "cell_type": "markdown",
   "metadata": {},
   "source": [
    "<b><i>if</i></b>&nbsp;  <span style='color:blue'>sales > 50000</span>: \n",
    "<br>&nbsp;&nbsp;&nbsp;&nbsp;&nbsp;&nbsp;bonus = 500.0\n",
    "<br>&nbsp;&nbsp;&nbsp;&nbsp;&nbsp;&nbsp;commission_rate = 0.12\n",
    "<br>&nbsp;&nbsp;&nbsp;&nbsp;&nbsp;&nbsp;print('You met your sales quota!')"
   ]
  },
  {
   "cell_type": "code",
   "execution_count": 12,
   "metadata": {},
   "outputs": [
    {
     "name": "stdout",
     "output_type": "stream",
     "text": [
      "whats is your sales? 40000\n"
     ]
    }
   ],
   "source": [
    "sales = int(input('whats is your sales? '))\n",
    "if sales > 50000: \n",
    "    bonus = 500 \n",
    "    commission_rate = 0.12 \n",
    "    print('You met your sales quota!')\n",
    "\n",
    "print('after the structure')"
   ]
  },
  {
   "cell_type": "markdown",
   "metadata": {},
   "source": [
    "<b>Question:</b> Why we put the <i>input</i> function inside <i>int</i> function?"
   ]
  },
  {
   "cell_type": "markdown",
   "metadata": {},
   "source": [
    "<b>Example:</b> Write an if statement that assigns 0.2 to commission_rate if sales is greater than or equal to 10000."
   ]
  },
  {
   "cell_type": "code",
   "execution_count": null,
   "metadata": {},
   "outputs": [],
   "source": [
    "# Write your code here\n",
    "sales = int(input('Provide the sales amount?'))\n",
    "\n",
    "if sales>=10000:\n",
    "    commission_rate = 0.2"
   ]
  },
  {
   "cell_type": "markdown",
   "metadata": {},
   "source": [
    "<b>Example:</b> Write code to prompt the user for her/his birth year and display an appropriate message if the user is over the age of 25."
   ]
  },
  {
   "cell_type": "code",
   "execution_count": null,
   "metadata": {},
   "outputs": [],
   "source": [
    "    a = 2\n",
    "    b = 3\n",
    "    c = a + b"
   ]
  },
  {
   "cell_type": "code",
   "execution_count": 18,
   "metadata": {},
   "outputs": [
    {
     "name": "stdout",
     "output_type": "stream",
     "text": [
      "Please provide your birth year: 1984\n",
      "You are 39.Ha!ha. You are getting old\n"
     ]
    }
   ],
   "source": [
    "# Write your code here\n",
    "birth_year = int(input('Please provide your birth year: '))\n",
    "current_year = 2023\n",
    "age = current_year - birth_year\n",
    "\n",
    "if age>25:\n",
    "    print(f'You are {age}.Ha!ha. You are getting old')"
   ]
  },
  {
   "cell_type": "code",
   "execution_count": 17,
   "metadata": {},
   "outputs": [
    {
     "name": "stdout",
     "output_type": "stream",
     "text": [
      "Writing chapter3_example.py\n"
     ]
    }
   ],
   "source": [
    "%%file chapter3_example.py\n",
    "\n",
    "birth_year = int(input('Please provide your birth year: '))\n",
    "current_year = 2023\n",
    "age = current_year - birth_year\n",
    "\n",
    "if age>25:\n",
    "    print(f'You are {age}.Ha!ha. You are getting old')"
   ]
  },
  {
   "cell_type": "markdown",
   "metadata": {},
   "source": [
    "<b>Example:</b> Kathryn teaches a science class and her students are required to take three tests. She wants to write a program that her students can use to calculate their average test score. She also wants the program to congratulate the student if the average is greater than 95. "
   ]
  },
  {
   "cell_type": "code",
   "execution_count": null,
   "metadata": {},
   "outputs": [],
   "source": [
    "# Write your code here"
   ]
  },
  {
   "cell_type": "markdown",
   "metadata": {},
   "source": [
    "## 2. The <i>if-else</i> Statement "
   ]
  },
  {
   "cell_type": "markdown",
   "metadata": {},
   "source": [
    "<b>Note: </b> the <b><i>if-else</i></b> structure allows you to implement dual alternative decision structure. It has two possible paths of execution. One path is taken if a condition is <b style='color:green'>True</b>, and the other path is taken if the condition is <b style='color:red'>False</b>."
   ]
  },
  {
   "cell_type": "markdown",
   "metadata": {},
   "source": [
    "<img src='https://www.dropbox.com/s/y8x5w8rq33focjy/else-if%20Flowchart.png?raw=1' width=600/>\n",
    "\n",
    "<i>Source: Starting Out with Python (4th Edition)- by Tony Gaddis Pearson</i>"
   ]
  },
  {
   "cell_type": "markdown",
   "metadata": {},
   "source": [
    "<b>Note: </b>The general format of the <i>if-else</i> statement:"
   ]
  },
  {
   "cell_type": "markdown",
   "metadata": {},
   "source": [
    "<i><b>if</b></i> <span style='color:blue'>condition</span>:\n",
    "<br>&nbsp;&nbsp;&nbsp;&nbsp;&nbsp;&nbsp;statement \n",
    "<br>&nbsp;&nbsp;&nbsp;&nbsp;&nbsp;&nbsp;statement\n",
    "<br>&nbsp;&nbsp;&nbsp;&nbsp;&nbsp;&nbsp;etc.</i>\n",
    "<br><i><b>else:</b></i>  \n",
    "&nbsp;&nbsp;&nbsp;&nbsp;&nbsp;&nbsp;statement \n",
    "<br>&nbsp;&nbsp;&nbsp;&nbsp;&nbsp;&nbsp;statement\n",
    "<br>&nbsp;&nbsp;&nbsp;&nbsp;&nbsp;&nbsp;etc."
   ]
  },
  {
   "cell_type": "markdown",
   "metadata": {},
   "source": [
    "<b>Note:</b> Pay attention to the order of excution in the following example:\n",
    "<img src='https://www.dropbox.com/s/526b57jupcgmbb2/Conditional%20execution%20in%20an%20if-else%20statement.png?raw=1' width=600/>\n",
    "\n",
    "<i>Source: Starting Out with Python (4th Edition)- by Tony Gaddis Pearson</i>"
   ]
  },
  {
   "cell_type": "markdown",
   "metadata": {},
   "source": [
    "<b>Example:</b>"
   ]
  },
  {
   "cell_type": "code",
   "execution_count": 20,
   "metadata": {},
   "outputs": [
    {
     "name": "stdout",
     "output_type": "stream",
     "text": [
      "whats is today temperature? 60\n",
      "Nice weather we're having.\n",
      "some note\n"
     ]
    }
   ],
   "source": [
    "temperature = int(input('whats is today temperature? '))\n",
    "if temperature < 40:\n",
    "    print(\"A little cold, isn't it?\")\n",
    "else:\n",
    "    print(\"Nice weather we're having.\")\n",
    "    \n",
    "print('some note')"
   ]
  },
  {
   "cell_type": "markdown",
   "metadata": {},
   "source": [
    "### 2.1 Indentation in the if-else Statement"
   ]
  },
  {
   "cell_type": "markdown",
   "metadata": {},
   "source": [
    "<b>Important:</b> When you write an if-else statement, follow these guidelines for indentation:\n",
    "<ul>\n",
    "    <li>The <i>if</i> clause and the <i>else</i> clause should be aligned.</li>\n",
    "    <li>The <i>if</i> clause and the <i>else</i> clause each are followed by a block of statements.</li>\n",
    "    <li>The statements in the blocks are consistently indented.</li>\n",
    "</ul>    "
   ]
  },
  {
   "cell_type": "markdown",
   "metadata": {},
   "source": [
    "<img src='https://www.dropbox.com/s/s4x0ipi87vd94lk/Indentation%20with%20an%20if-else%20statement.png?raw=1' />\n",
    "\n",
    "<i>Source: Starting Out with Python (4th Edition)- by Tony Gaddis Pearson</i>"
   ]
  },
  {
   "cell_type": "markdown",
   "metadata": {},
   "source": [
    "<b>Example:</b> Now, it's your turn. Write a code to ask the user for her/his birth year. Then use if-else structure to write an appropriate message to the user."
   ]
  },
  {
   "cell_type": "code",
   "execution_count": null,
   "metadata": {},
   "outputs": [],
   "source": [
    "# Write your code here"
   ]
  },
  {
   "cell_type": "markdown",
   "metadata": {},
   "source": [
    "<b>Example:</b> Chris owns an auto repair business and has several employees. If any employee works over 40 hours in a week, he pays them 1.5 times their regular hourly pay rate for all houurs over 40. He has asked you to design a simple payroll program that calculates an employee's gross pay, including any overtime wages.  "
   ]
  },
  {
   "cell_type": "code",
   "execution_count": 21,
   "metadata": {},
   "outputs": [
    {
     "name": "stdout",
     "output_type": "stream",
     "text": [
      "How many hours did you work?45\n",
      "What is the pay rate per hour?20\n",
      "Here is the gross payment amount :$950.0\n"
     ]
    }
   ],
   "source": [
    "# Define constant variables \n",
    "G_WORK_HOUR = 40\n",
    "OT_RATE = 1.5\n",
    "\n",
    "# Get the work hour of the employee \n",
    "work_hour = int(input('How many hours did you work?'))\n",
    "\n",
    "#Get the pay rate\n",
    "pay_rate = float(input('What is the pay rate per hour?'))\n",
    "\n",
    "if work_hour>G_WORK_HOUR:\n",
    "    ot_work_hour =  work_hour - G_WORK_HOUR\n",
    "    ot_payment = ot_work_hour * pay_rate * OT_RATE\n",
    "    regular_payment = G_WORK_HOUR * pay_rate\n",
    "    gross_payment = regular_payment + ot_payment\n",
    "else:\n",
    "    regular_payment = work_hour * pay_rate\n",
    "    gross_payment = regular_payment\n",
    "    \n",
    "print(f'Here is the gross payment amount :${gross_payment}')    "
   ]
  },
  {
   "cell_type": "markdown",
   "metadata": {},
   "source": [
    "## 3.Comparing Strings"
   ]
  },
  {
   "cell_type": "markdown",
   "metadata": {},
   "source": [
    "<b>Note:</b> Strings can be compared using the relational operators"
   ]
  },
  {
   "cell_type": "markdown",
   "metadata": {},
   "source": [
    "<b>Examples:</b>"
   ]
  },
  {
   "cell_type": "code",
   "execution_count": 22,
   "metadata": {},
   "outputs": [
    {
     "name": "stdout",
     "output_type": "stream",
     "text": [
      "The names are NOT the same.\n"
     ]
    }
   ],
   "source": [
    "name1 = 'Mary'\n",
    "name2 = 'Mark'\n",
    "\n",
    "if name1 == name2:\n",
    "    print('The names are the same.')\n",
    "else:\n",
    "    print('The names are NOT the same.')"
   ]
  },
  {
   "cell_type": "code",
   "execution_count": 23,
   "metadata": {},
   "outputs": [
    {
     "name": "stdout",
     "output_type": "stream",
     "text": [
      "The names are different\n"
     ]
    }
   ],
   "source": [
    "name1 = 'Mary'\n",
    "name2 = 'Mark'\n",
    "\n",
    "if name1 != name2:\n",
    "    print('The names are different')\n",
    "else:\n",
    "    print('The names are the same')"
   ]
  },
  {
   "cell_type": "code",
   "execution_count": 24,
   "metadata": {},
   "outputs": [
    {
     "name": "stdout",
     "output_type": "stream",
     "text": [
      "Enter the password:Prosper\n",
      "password accepted\n"
     ]
    }
   ],
   "source": [
    "# Get a password from the user.\n",
    "password = input('Enter the password:')\n",
    "\n",
    "if password == 'Prosper':\n",
    "    print('password accepted')\n",
    "else:\n",
    "    print('Sorry, that is the wrong password.')"
   ]
  },
  {
   "cell_type": "markdown",
   "metadata": {},
   "source": [
    "<b>Note:</b> String comparisons are <u>case sensitive</u>. \n",
    "<ul><li>the strings <span style='color:green'>'Monday'</span> and <span style='color:green'>'monday'</span> are not equal</li></ul>"
   ]
  },
  {
   "cell_type": "markdown",
   "metadata": {},
   "source": [
    "<b>Example:</b>"
   ]
  },
  {
   "cell_type": "code",
   "execution_count": 25,
   "metadata": {},
   "outputs": [
    {
     "name": "stdout",
     "output_type": "stream",
     "text": [
      "the names are different\n"
     ]
    }
   ],
   "source": [
    "name1 = 'John'\n",
    "name2 = 'john'\n",
    "\n",
    "if name1 == name2:\n",
    "    print('the names are the same')\n",
    "else:\n",
    "    print('the names are different')\n"
   ]
  },
  {
   "cell_type": "markdown",
   "metadata": {},
   "source": [
    "<b>Note: </b>We can determine whether one string is greater than or less than another string, using >, <, >=, and <=\n",
    "<ul><li>Computers do not store characters, such as A, B, C,.., in memory. They store numeric codes that represent the characters. Here are some facts about it:\n",
    "<ul>\n",
    "    <li>The uppercase characters <span style='color:blue'>A</span> through <span style='color:blue'>Z</span> are represented by the numbers <b>65</b> through <b>90</b>.</li>\n",
    "    <li>The lowercase characters <span style='color:blue'>a</span> through <span style='color:blue'>z</span> are represented by the numbers <b>97</b> through <b>122</b>.</li>\n",
    "    <li>When the digits <span style='color:blue'>0</span> through <span style='color:blue'>9</span> are stored in memory as <b>characters</b>, they are represented by the numbers <b>48</b> through <b>57</b>. </li>\n",
    "    <ul>\n",
    "        <li><b>Example</b>: the string 'abc123' would be stored in memory as the codes 97, 98, 99, 49, 50, and 51.</li>\n",
    "    </ul>\n",
    "    <li>A blank space is represented by the number <b>32</b>.</li>\n",
    "    </ul></li></ul>\n",
    "\n"
   ]
  },
  {
   "cell_type": "markdown",
   "metadata": {},
   "source": [
    "<b>Example:</b>"
   ]
  },
  {
   "cell_type": "code",
   "execution_count": 6,
   "metadata": {},
   "outputs": [
    {
     "name": "stdout",
     "output_type": "stream",
     "text": [
      "The letter a is less than the letter b.\n"
     ]
    }
   ],
   "source": [
    "if 'a' < 'b':\n",
    "    print('The letter a is less than the letter b.')"
   ]
  },
  {
   "cell_type": "code",
   "execution_count": 7,
   "metadata": {},
   "outputs": [
    {
     "data": {
      "text/plain": [
       "True"
      ]
     },
     "execution_count": 7,
     "metadata": {},
     "output_type": "execute_result"
    }
   ],
   "source": [
    "'A' < 'a'"
   ]
  },
  {
   "cell_type": "markdown",
   "metadata": {},
   "source": [
    "<b>Example:</b> Lets see this example again:\n",
    "<br>name1 = 'Mary'\n",
    "<br>name2 = 'Mark'\n",
    "\n",
    "<img src='https://www.dropbox.com/s/o5rr5t1n4ldh5ty/Character%20codes%20for%20the%20strings.png?raw=1' />\n",
    "\n",
    "<i>Source: Starting Out with Python (4th Edition)- by Tony Gaddis Pearson</i>\n",
    "<br><br>When you use relational operators to compare these strings, the strings are compared character-by-character. "
   ]
  },
  {
   "cell_type": "markdown",
   "metadata": {},
   "source": [
    "<img src='https://www.dropbox.com/s/bdp3oyix86j0vzl/Comparing%20each%20character.png?raw=1' />\n",
    "\n",
    "<i>Source: Starting Out with Python (4th Edition)- by Tony Gaddis Pearson</i>"
   ]
  },
  {
   "cell_type": "markdown",
   "metadata": {},
   "source": [
    "<b>Example:</b>"
   ]
  },
  {
   "cell_type": "code",
   "execution_count": 26,
   "metadata": {},
   "outputs": [
    {
     "name": "stdout",
     "output_type": "stream",
     "text": [
      "Mary is greater than Mark\n"
     ]
    }
   ],
   "source": [
    "name1 = 'Mary'\n",
    "name2 = 'Mark'\n",
    "\n",
    "if name1 > name2:\n",
    "    print('Mary is greater than Mark')\n",
    "else:\n",
    "    print('Mary is not greater than Mark')"
   ]
  },
  {
   "cell_type": "markdown",
   "metadata": {},
   "source": [
    "<b>Note:</b> If one of the strings in a comparison is shorter than the other, only the corresponding characters will be compared. If the corresponding characters are identical, then the shorter string is considered less than the longer string.\n",
    "<ul>Example: 'Hi' and 'High'</ul>"
   ]
  },
  {
   "cell_type": "markdown",
   "metadata": {},
   "source": [
    "<b>Examples:</b>"
   ]
  },
  {
   "cell_type": "code",
   "execution_count": 27,
   "metadata": {},
   "outputs": [
    {
     "name": "stdout",
     "output_type": "stream",
     "text": [
      "Hi there is less than Hithere\n"
     ]
    }
   ],
   "source": [
    "name1 = 'Hi there'\n",
    "name2 = 'Hithere'\n",
    "\n",
    "if name1 < name2:\n",
    "    print(f'{name1} is less than {name2}')\n",
    "else:\n",
    "    print(f'{name2} is less than {name1}')"
   ]
  },
  {
   "cell_type": "code",
   "execution_count": 28,
   "metadata": {},
   "outputs": [
    {
     "name": "stdout",
     "output_type": "stream",
     "text": [
      "they are the same.\n"
     ]
    }
   ],
   "source": [
    "first_w = 'Hello'\n",
    "second_w = 'There'\n",
    "third_w = 'Hello There'\n",
    "combine_w = first_w + \" \" + second_w\n",
    "if combine_w == third_w:\n",
    "    print('they are the same.')"
   ]
  },
  {
   "cell_type": "markdown",
   "metadata": {},
   "source": [
    "<b>Example:</b> Now, it's your turn. Write a code to ask the user to input two names. Then compare the names and print a message to show which one is greater."
   ]
  },
  {
   "cell_type": "code",
   "execution_count": null,
   "metadata": {},
   "outputs": [],
   "source": [
    "# Write your code here"
   ]
  },
  {
   "cell_type": "markdown",
   "metadata": {},
   "source": [
    "## 4. Nested Decision Structures and the <i>if-elif-else</i> Statement"
   ]
  },
  {
   "cell_type": "markdown",
   "metadata": {},
   "source": [
    "<b>Note:</b> To test more than one condition, a decision structure can be nested inside another decision structure.\n",
    "\n",
    "<b>Example:</b>\n",
    "<ul>\n",
    "    <ul><li>Determine if someone qualifies for a loan, they must meet two conditions:</li>\n",
    "<ul><li>Must earn at least $30,000/year</li>\n",
    "<li>Must have been employed for at least two years</li></ul>\n",
    "<li>Check first condition, and if it is True, check second condition</li>\n",
    "</ul>"
   ]
  },
  {
   "cell_type": "markdown",
   "metadata": {},
   "source": [
    "<img src='https://www.dropbox.com/s/5kwo1bwx1if1bdu/A%20nested%20decision%20structure.png?raw=1' />\n",
    "\n",
    "<i>Source: Starting Out with Python (4th Edition)- by Tony Gaddis Pearson</i>"
   ]
  },
  {
   "cell_type": "markdown",
   "metadata": {},
   "source": [
    "<b>Example:</b>"
   ]
  },
  {
   "cell_type": "code",
   "execution_count": 29,
   "metadata": {},
   "outputs": [
    {
     "name": "stdout",
     "output_type": "stream",
     "text": [
      "Enter your annual salary: 45000\n",
      "Enter the number of years employed: 3\n",
      "You qualify for the loan.\n"
     ]
    }
   ],
   "source": [
    "# Assume the minimum annual salary and the minimum years on the job are as fallows:\n",
    "MIN_SALARY = 30000\n",
    "MIN_YEARS = 2\n",
    "\n",
    "# Get the customer's annual salary.\n",
    "salary = float(input('Enter your annual salary: '))\n",
    "\n",
    "# Get the number of years on the current job.\n",
    "years_on_job = int(input('Enter the number of years employed: '))\n",
    "\n",
    "# Determine whether the customer qualifies. if salary >= MIN_SALARY:\n",
    "if salary >= MIN_SALARY:\n",
    "    if years_on_job >= MIN_YEARS: \n",
    "        print('You qualify for the loan.')\n",
    "    else:\n",
    "        print('You must have been employed for at least', MIN_YEARS, 'years to qualify.')\n",
    "else:\n",
    "    print('You must earn at least $',format(MIN_SALARY, ',.2f'),' per year to qualify.', sep='')"
   ]
  },
  {
   "cell_type": "markdown",
   "metadata": {},
   "source": [
    "<b>Note:</b> Important to use proper indentation in a nested decision structure.\n",
    "<ul>\n",
    "    <li>Important for Python interpreter</li>\n",
    "<li>Makes code more readable for programmer</li>\n",
    "    <li>Follow these rules when writing nested if statements:</li>\n",
    "<ul>\n",
    "    <li>Each else clause is aligned with its matching if clause.</li>\n",
    "    <li>The statements in each block are consistently indented.</li>\n",
    "    <li>Notice each statement in each block is indented the same amount.</li>\n",
    "    </ul></ul>"
   ]
  },
  {
   "cell_type": "markdown",
   "metadata": {},
   "source": [
    "<img src='https://www.dropbox.com/s/sa79dx8iocqcj08/Alignment%20of%20if%20and%20else%20clauses.png?raw=1' />\n",
    "\n",
    "<i>Source: Starting Out with Python (4th Edition)- by Tony Gaddis Pearson</i>"
   ]
  },
  {
   "cell_type": "markdown",
   "metadata": {},
   "source": [
    "<b>Example:</b> Dr. Suarez teaches literature class and uses the following 10-point grading scale for all of his exams:\n",
    "\n",
    "\n",
    "<table width=300px>\n",
    "    <tr>\n",
    "        <td><b>Test Score</b></td>\n",
    "        <td><b>Grade</b></td>\n",
    "    </tr>\n",
    "    <tr>\n",
    "        <td>90 and above</td>\n",
    "        <td>A</td>\n",
    "    </tr>\n",
    "    <tr>\n",
    "        <td>80-89</td>\n",
    "        <td>B</td>\n",
    "    </tr>\n",
    "    <tr>\n",
    "        <td>70-79</td>\n",
    "        <td>C</td>\n",
    "    </tr>\n",
    "    <tr>\n",
    "        <td>60-69</td>\n",
    "        <td>D</td>\n",
    "    </tr>\n",
    "    <tr>\n",
    "        <td>Bellow 60</td>\n",
    "        <td>F</td>\n",
    "    </tr>\n",
    "</table>\n",
    "\n",
    "He has asked you to write a program that will allow a student to enter a test score and then display the grade for the score."
   ]
  },
  {
   "cell_type": "code",
   "execution_count": null,
   "metadata": {},
   "outputs": [],
   "source": [
    "student_grade = float(input('Please provide your grade:'))\n",
    "\n",
    "if student_grade>=90:\n",
    "    print('A'):\n",
    "else:\n",
    "    if student_grade>=80:\n",
    "        print('B')\n",
    "    else:\n",
    "        \n",
    "        \n"
   ]
  },
  {
   "cell_type": "markdown",
   "metadata": {},
   "source": [
    "### 4.1. the <i>if-elif-else</i> Statement"
   ]
  },
  {
   "cell_type": "markdown",
   "metadata": {},
   "source": [
    "<b>Note:</b> <i><b>if-elif-else</b></i> statement is a special version of a decision structure\n",
    "<ul><li>Makes logic of nested decision structures simpler to write</li>\n",
    "    <li>Can include multiple <i>elif</i> statements</li>\n",
    "</ul>"
   ]
  },
  {
   "cell_type": "markdown",
   "metadata": {},
   "source": [
    "The general format of the <i><b>if-elif-else</b></i> statement:\n",
    "<br>\n",
    "<b><i>if</i></b> <span style='color:blue'>condition_1</span>: \n",
    "<br>&nbsp;&nbsp;&nbsp;&nbsp;&nbsp;&nbsp;&nbsp;&nbsp;statement \n",
    "<br>&nbsp;&nbsp;&nbsp;&nbsp;&nbsp;&nbsp;&nbsp;&nbsp;statement\n",
    "<br>&nbsp;&nbsp;&nbsp;&nbsp;&nbsp;&nbsp;&nbsp;&nbsp;etc.\n",
    "<br>\n",
    "<b><i>elif</i></b> <span style='color:blue'>condition_2</span>:\n",
    "<br>&nbsp;&nbsp;&nbsp;&nbsp;&nbsp;&nbsp;&nbsp;&nbsp;statement\n",
    "<br>&nbsp;&nbsp;&nbsp;&nbsp;&nbsp;&nbsp;&nbsp;&nbsp;statement\n",
    "<br>&nbsp;&nbsp;&nbsp;&nbsp;&nbsp;&nbsp;&nbsp;&nbsp;etc.\n",
    "<br><br><i><u>Insert as many elif clauses as necessary . . .</u></i><br>\n",
    "<br><b><i>else</i></b>:\n",
    "<br>&nbsp;&nbsp;&nbsp;&nbsp;&nbsp;&nbsp;&nbsp;&nbsp;statement\n",
    "<br>&nbsp;&nbsp;&nbsp;&nbsp;&nbsp;&nbsp;&nbsp;&nbsp;statement\n",
    "<br>&nbsp;&nbsp;&nbsp;&nbsp;&nbsp;&nbsp;&nbsp;&nbsp;etc."
   ]
  },
  {
   "cell_type": "markdown",
   "metadata": {},
   "source": [
    "<b>Note:</b> Alignment used with <i><b>if-elif-else</b></i> statement:\n",
    "<ul><li>if, elif, and else clauses are all aligned.</li>\n",
    "    <li>Conditionally executed blocks are consistently indented.</li>\n",
    "</ul>\n"
   ]
  },
  {
   "cell_type": "markdown",
   "metadata": {},
   "source": [
    "The if-elif-else statement is never required because its logic can be coded with nested if-else statements.\n",
    "<br><br>The advantages of using if-elif-else statement instead is:\n",
    "<ul><li>Easier to follow than a long series of nested if-else statements.</li> \n",
    "    <li>The lengths of the lines in the statement tend to be shorter.</li>\n",
    "</ul>"
   ]
  },
  {
   "cell_type": "markdown",
   "metadata": {},
   "source": [
    "<b>Example:</b>"
   ]
  },
  {
   "cell_type": "markdown",
   "metadata": {},
   "source": [
    "<img src='https://www.dropbox.com/s/2whotranlfhr5d2/Nested%20decision%20structure.png?raw=1' />\n",
    "\n",
    "<i>Source: Starting Out with Python (4th Edition)- by Tony Gaddis Pearson</i>"
   ]
  },
  {
   "cell_type": "markdown",
   "metadata": {},
   "source": [
    "<b>Example: </b> Update your code for previous example and write it using the <i><b>if-elif-else</b></i> structure."
   ]
  },
  {
   "cell_type": "code",
   "execution_count": null,
   "metadata": {},
   "outputs": [],
   "source": [
    "# Named constants to represent the grade thresholds A_SCORE = 90\n",
    "A_SCORE = 90\n",
    "B_SCORE = 80\n",
    "C_SCORE = 70\n",
    "D_SCORE = 60\n",
    "\n",
    "\n",
    "# Get a test score from the user\n",
    "score = int(input('Enter your test score: '))\n",
    "\n",
    "# Determine the grade.\n",
    "if score >= A_SCORE: \n",
    "    print('Your grade is A.')\n",
    "elif score >= B_SCORE: \n",
    "    print('Your grade is B.')\n",
    "elif score >= C_SCORE: \n",
    "    print('Your grade is C.')\n",
    "elif score >= D_SCORE: \n",
    "    print('Your grade is D.')\n",
    "else:\n",
    "    print('Your grade is F.')  "
   ]
  },
  {
   "cell_type": "markdown",
   "metadata": {},
   "source": [
    "<b>Example:</b> Now, it's your turn. Write a code to ask the user to input an integer between 1-7 representing day of the week. Then write a code to print the associated name of the day for that number.  "
   ]
  },
  {
   "cell_type": "code",
   "execution_count": null,
   "metadata": {},
   "outputs": [],
   "source": [
    "# Write your code here"
   ]
  },
  {
   "cell_type": "markdown",
   "metadata": {},
   "source": [
    "## 5. Logical Operators"
   ]
  },
  {
   "cell_type": "markdown",
   "metadata": {},
   "source": [
    "<b>Note:</b> Logical operators are those can be used to create complex Boolean expressions."
   ]
  },
  {
   "cell_type": "markdown",
   "metadata": {},
   "source": [
    "<img src='https://www.dropbox.com/s/zryqy9od9x4682f/Logical%20operators.png?raw=1' />\n",
    "\n",
    "<i>Source: Starting Out with Python (4th Edition)- by Tony Gaddis Pearson</i>"
   ]
  },
  {
   "cell_type": "markdown",
   "metadata": {},
   "source": [
    "Examples of several compound Boolean expressions that use logical operators."
   ]
  },
  {
   "cell_type": "markdown",
   "metadata": {},
   "source": [
    "<img src='https://www.dropbox.com/s/0s4k450imaabacp/Compound%20Boolean%20expressions%20using%20logical%20operators.png?raw=1' />\n",
    "\n",
    "<i>Source: Starting Out with Python (4th Edition)- by Tony Gaddis Pearson</i>"
   ]
  },
  {
   "cell_type": "markdown",
   "metadata": {},
   "source": [
    "### 5.1. The <i>and</i> Operator"
   ]
  },
  {
   "cell_type": "markdown",
   "metadata": {},
   "source": [
    "The <i><b><span style='color:red'>and</span></b></i> operator takes two Boolean expressions as operands.\n",
    "<ul><li>Creates a compound Boolean expression that is true only when both subexpressions are true.</li>\n",
    "    <li>Can be used to simplify nested decision structures.</li>    \n",
    "</ul>    "
   ]
  },
  {
   "cell_type": "markdown",
   "metadata": {},
   "source": [
    "<b>Example:</b>"
   ]
  },
  {
   "cell_type": "markdown",
   "metadata": {},
   "source": [
    "<b><i>if</i></b> <span style='color:blue'>temperature < 20</span> <span style='color:red'>and</span> <span style='color:blue'> minutes > 12</span>:\n",
    "<br>&nbsp;&nbsp;&nbsp;&nbsp;&nbsp;&nbsp;&nbsp;&nbsp;print('The temperature is in the danger zone.')"
   ]
  },
  {
   "cell_type": "markdown",
   "metadata": {},
   "source": [
    "<img src='https://www.dropbox.com/s/ej4z5pndoxfv1vg/Truth%20table%20for%20the%20and%20operator.png?raw=1' />\n",
    "\n",
    "<i>Source: Starting Out with Python (4th Edition)- by Tony Gaddis Pearson</i>"
   ]
  },
  {
   "cell_type": "markdown",
   "metadata": {},
   "source": [
    "<b>Note:</b> both sides of the and operator must be true for the operator to return a true value."
   ]
  },
  {
   "cell_type": "markdown",
   "metadata": {},
   "source": [
    "### 5.2. The <i>or</i> Operator"
   ]
  },
  {
   "cell_type": "markdown",
   "metadata": {},
   "source": [
    "The <i><b><span style='color:red'>or</span></b></i> operator takes two Boolean expressions as operands.\n",
    "<ul><li>Creates compound Boolean expression that is true when either of the sub expressions is true.</li>\n",
    "    <li>Can be used to simplify nested decision structures.</li>    \n",
    "</ul>    "
   ]
  },
  {
   "cell_type": "markdown",
   "metadata": {},
   "source": [
    "<b><i>if</i></b> <span style='color:blue'>temperature < 20</span> <span style='color:red'>or</span> <span style='color:blue'>minutes > 12</span>:\n",
    "<br>&nbsp;&nbsp;&nbsp;&nbsp;&nbsp;&nbsp;&nbsp;&nbsp;print('The temperature is in the danger zone.')"
   ]
  },
  {
   "cell_type": "markdown",
   "metadata": {},
   "source": [
    "<img src='https://www.dropbox.com/s/lpd4rljnry7zdf8/Truth%20table%20for%20the%20or%20operator.png?raw=1' />\n",
    "\n",
    "<i>Source: Starting Out with Python (4th Edition)- by Tony Gaddis Pearson</i>"
   ]
  },
  {
   "cell_type": "markdown",
   "metadata": {},
   "source": [
    "<b>Note:</b> Just one side of the or operater is enough to be true for the operator to return a true value."
   ]
  },
  {
   "cell_type": "markdown",
   "metadata": {},
   "source": [
    "<b>Example:</b> Now, it's your turn. Write a code to ask the user to input his/her credit score and his/her age. Then if his/her age was more than 20 and his/her credit score was above 650, print \"you are aproved for the loan\".   "
   ]
  },
  {
   "cell_type": "code",
   "execution_count": 30,
   "metadata": {},
   "outputs": [
    {
     "name": "stdout",
     "output_type": "stream",
     "text": [
      "Enter credit score:400\n",
      "Enter your age:18\n"
     ]
    }
   ],
   "source": [
    "credit_score = int(input('Enter credit score:'))\n",
    "age = int(input('Enter your age:'))\n",
    "\n",
    "if credit_score>650 or age>20:\n",
    "    flag_check = True\n",
    "else:\n",
    "    flag_check = False\n",
    "    \n",
    "if not(flag_check):\n",
    "    manager_d = input('What is the opinion of the manager?(y/n)')\n",
    "    if manager_d == 'y':\n",
    "        flag_check = True\n",
    "    \n",
    "if flag_check:\n",
    "    print('Approved')"
   ]
  },
  {
   "cell_type": "code",
   "execution_count": null,
   "metadata": {},
   "outputs": [],
   "source": [
    "if credit_score>650 or age>20:\n",
    "    print('Approved')"
   ]
  },
  {
   "cell_type": "markdown",
   "metadata": {},
   "source": [
    "<b>Example:</b> Now, it's your turn. Write a code to ask the user to input his/her credit score and his/her age. Then if his/her age was more than 40 or his/her credit score was above 650, print \"you are aproved for the loan\". "
   ]
  },
  {
   "cell_type": "code",
   "execution_count": null,
   "metadata": {},
   "outputs": [],
   "source": [
    "# Write your code here"
   ]
  },
  {
   "cell_type": "markdown",
   "metadata": {},
   "source": [
    "### 5.3. The <i>not</i> Operator"
   ]
  },
  {
   "cell_type": "markdown",
   "metadata": {},
   "source": [
    "<b>Note:</b> The <i><b><span style='color:red'>not</span></b></i> operator takes a Boolean expression as its operand and reverses its logical value.\n",
    "<br>\n",
    "If the expression is true, the not operator returns false, and if the expression is false, the not operator returns true."
   ]
  },
  {
   "cell_type": "markdown",
   "metadata": {},
   "source": [
    "<b><i>if</i></b> <span style='color:red'>not</span>&nbsp;(<span style='color:blue'>temperature > 100</span>):\n",
    "<br>&nbsp;&nbsp;&nbsp;&nbsp;&nbsp;&nbsp;&nbsp;&nbsp;print('This is below the maximum temperature.')"
   ]
  },
  {
   "cell_type": "markdown",
   "metadata": {},
   "source": [
    "<b>Note:</b> Sometimes it may be necessary to place parentheses around an expression to clarify to what you are applying the not operator."
   ]
  },
  {
   "cell_type": "markdown",
   "metadata": {},
   "source": [
    "<img src='https://www.dropbox.com/s/71wycer1xxfsomm/Truth%20table%20for%20the%20not%20operator.png?raw=1' />\n",
    "<i>Source: Starting Out with Python (4th Edition)- by Tony Gaddis Pearson</i>"
   ]
  },
  {
   "cell_type": "markdown",
   "metadata": {},
   "source": [
    "<b>Example:</b>"
   ]
  },
  {
   "cell_type": "code",
   "execution_count": null,
   "metadata": {},
   "outputs": [],
   "source": [
    "if x>=20 or x<=10:\n",
    "    print('something')"
   ]
  },
  {
   "cell_type": "markdown",
   "metadata": {},
   "source": [
    "### 5.4. Checking Numeric Ranges with Logical Operators"
   ]
  },
  {
   "cell_type": "markdown",
   "metadata": {},
   "source": [
    "To determine whether a numeric value is within a specific range of values, use <b>and</b> \n",
    "<ul>Example: x >= 10 and x <= 20</ul>\n",
    "To determine whether a numeric value is outside of a specific range of values, use <b>or</b> \n",
    "<ul>Example: x < 10 or x > 20</ul>"
   ]
  },
  {
   "cell_type": "markdown",
   "metadata": {},
   "source": [
    "## 6. Boolean Variables"
   ]
  },
  {
   "cell_type": "markdown",
   "metadata": {},
   "source": [
    "<b>Note:</b> Boolean variable references to one of the following two values: <span style='color:green'>True</span> or <span style='color:red'>False</span>.\n",
    "<ul>Commonly used as <span style='color:purple'><i>flags</i></span>.</ul>\n",
    "<br><b>Flag:</b> a variable that signals when some condition exists in the program. \n",
    "<br>\n",
    "<ul>\n",
    "<li>When the flag variable is set to <span style='color:red'>False</span>, it indicates the condition does not exist.</li> \n",
    "<li>When the flag variable is set to <span style='color:green'>True</span>, it means the condition does exist.</li>\n",
    "</ul> "
   ]
  },
  {
   "cell_type": "markdown",
   "metadata": {},
   "source": [
    "<b>Example:</b>"
   ]
  },
  {
   "cell_type": "code",
   "execution_count": null,
   "metadata": {},
   "outputs": [],
   "source": [
    "if sales >= 50000.0: \n",
    "    sales_quota_met = True\n",
    "else:\n",
    "    sales_quota_met = False\n",
    "      \n",
    "if sales_quota_met:\n",
    "    print('You have met your sales quota!')    "
   ]
  },
  {
   "cell_type": "markdown",
   "metadata": {},
   "source": [
    "## Practice"
   ]
  },
  {
   "cell_type": "markdown",
   "metadata": {},
   "source": [
    "<b>Example:</b> Write a program that prompts the user to input a number. The program should then output whether the number is even or odd."
   ]
  },
  {
   "cell_type": "code",
   "execution_count": 1,
   "metadata": {},
   "outputs": [],
   "source": [
    "## write your code here"
   ]
  },
  {
   "cell_type": "markdown",
   "metadata": {},
   "source": [
    "<b>Example</b><br>\n",
    "Develop a program that converts temperatures between Fahrenheit and Celsius. To guide you through the process, here are the formulas for both conversions:<br>\n",
    "<ul>\n",
    "    <li><b>From Celsius to Fahrenheit:</b></li>\n",
    "    <i>F = (C × 9/5) + 32</i>\n",
    "    <li><b>From Fahrenheit to Celsius:</b></li>\n",
    "    <i>C = (F - 32) × 5/9</i>\n",
    "</ul>\n",
    "The program should:\n",
    "<ol>\n",
    "    <li>Ask the user if they want to convert from Celsius to Fahrenheit or vice versa.</li>\n",
    "    <li>Prompt the user to input the temperature in the chosen scale.</li>\n",
    "    <li>Use the appropriate formula to perform the conversion.</li>\n",
    "    <li>Display the converted temperature.</li>\n",
    "</ol>\n"
   ]
  },
  {
   "cell_type": "code",
   "execution_count": 3,
   "metadata": {},
   "outputs": [],
   "source": [
    "## write your code here"
   ]
  },
  {
   "cell_type": "markdown",
   "metadata": {},
   "source": [
    "<b>Example:</b> Develop a basic calculator program. First, ask the user to choose an operation (either +, -, *, or /). Next, ask for two numbers. Finally, perform the chosen operation on the provided numbers and display the result. Ensure the program can handle scenarios like division by zero."
   ]
  },
  {
   "cell_type": "code",
   "execution_count": null,
   "metadata": {},
   "outputs": [],
   "source": [
    "## write your code here"
   ]
  }
 ],
 "metadata": {
  "kernelspec": {
   "display_name": "Python 3 (ipykernel)",
   "language": "python",
   "name": "python3"
  },
  "language_info": {
   "codemirror_mode": {
    "name": "ipython",
    "version": 3
   },
   "file_extension": ".py",
   "mimetype": "text/x-python",
   "name": "python",
   "nbconvert_exporter": "python",
   "pygments_lexer": "ipython3",
   "version": "3.9.10"
  }
 },
 "nbformat": 4,
 "nbformat_minor": 4
}
