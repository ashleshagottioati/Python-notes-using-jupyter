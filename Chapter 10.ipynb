{
 "cells": [
  {
   "cell_type": "markdown",
   "metadata": {},
   "source": [
    "        Introduction to Programming: Python\n",
    "        Mahyar Vaghefi\n",
    "        University of Texas Arlington\n",
    "        \n",
    "        This document can only be used for class studies. \n",
    "        You are not allowed to share it in any public platform."
   ]
  },
  {
   "cell_type": "markdown",
   "metadata": {},
   "source": [
    "        The Material for this Notebook is Adopted from \n",
    "        Starting Out with Python (5th Edition)- by Tony Gaddis Pearson\n",
    "        with some modifications"
   ]
  },
  {
   "cell_type": "markdown",
   "metadata": {},
   "source": [
    "<h1 align='center' style=\"color: blue;\">Classes and Object-Oriented Programming</h1>"
   ]
  },
  {
   "cell_type": "markdown",
   "metadata": {},
   "source": [
    "There are primarily two methods of programming: \n",
    "<ol>\n",
    "    <li>procedural</li>\n",
    "    <li>object-oriented</li>"
   ]
  },
  {
   "cell_type": "markdown",
   "metadata": {},
   "source": [
    "## 1.Procedural Programming"
   ]
  },
  {
   "cell_type": "markdown",
   "metadata": {},
   "source": [
    "<b>Procedural programming: writing programs made of functions that perform specific tasks</b>\n",
    "<ul>\n",
    "<li>Procedures typically operate on data items that are separate from the procedures</li>\n",
    "<li>Data items commonly passed from one procedure to another</li>\n",
    "<li>Focus: to create procedures that operate on the program’s data</li>"
   ]
  },
  {
   "cell_type": "markdown",
   "metadata": {},
   "source": [
    "## 2.Object-Oriented Programming"
   ]
  },
  {
   "cell_type": "markdown",
   "metadata": {},
   "source": [
    "<b>Object-oriented programming: focused on creating objects</b><br>\n",
    "<b>Object: entity that contains data and procedures</b>\n",
    "<ul>\n",
    "    <li>Data is known as data attributes and procedures are known as methods</li>\n",
    "<li>Methods perform operations on the data attributes</li></ul>\n"
   ]
  },
  {
   "cell_type": "markdown",
   "metadata": {},
   "source": [
    "<img src='https://www.dropbox.com/s/q8pk2kcfzkz9ead/An%20object%20contains%20data%20attributes%20and%20methods.png?raw=1'>\n",
    "\n",
    "<i>Source: Starting Out with Python (4th Edition)- by Tony Gaddis Pearson</i>"
   ]
  },
  {
   "cell_type": "markdown",
   "metadata": {},
   "source": [
    "<b>Encapsulation: combining data and code into a single object</b><br>\n",
    "<b>Data hiding: object’s data attributes are hidden from code outside the object</b>\n",
    "<ul>\n",
    "    <li>Access restricted to the object’s methods</li>\n",
    "<ul>\n",
    "    <li>Protects from accidental corruption</li>\n",
    "<li>Outside code does not need to know internal structure of the object</li>"
   ]
  },
  {
   "cell_type": "markdown",
   "metadata": {},
   "source": [
    "<img src='https://www.dropbox.com/s/9dih2xr0t3ry66j/Code%20outside%20the%20object%20interacts%20with%20the%20object%E2%80%99s%20methods.png?raw=1'>\n",
    "\n",
    "<i>Source: Starting Out with Python (4th Edition)- by Tony Gaddis Pearson</i>"
   ]
  },
  {
   "cell_type": "markdown",
   "metadata": {},
   "source": [
    "### 2.1. Object Reusability"
   ]
  },
  {
   "cell_type": "markdown",
   "metadata": {},
   "source": [
    "Object reusability: the same object can be used in different programs \n",
    "<ul><li>Example: 3D image object can be used for architecture and game programming</li>"
   ]
  },
  {
   "cell_type": "markdown",
   "metadata": {},
   "source": [
    "### 2.2. An Everyday Example of an Object"
   ]
  },
  {
   "cell_type": "markdown",
   "metadata": {},
   "source": [
    "Data attributes: define the state of an object\n",
    "<ul><li>Example: clock object would have <i>second</i>, <i>minute</i>, and <i>hour</i> data attributes</li></ul>\n",
    "Public methods: allow external code to manipulate the object\n",
    "<ul><li>Example: <i>set_time, set_alarm_time</i></li></ul>\n",
    "Private methods: used for object’s inner workings\n",
    "<ul><li>Example: <i>increment_current_second, increment_current_hour</i></li></ul>"
   ]
  },
  {
   "cell_type": "markdown",
   "metadata": {},
   "source": [
    "## 3. Classes"
   ]
  },
  {
   "cell_type": "markdown",
   "metadata": {},
   "source": [
    "<b>Class: code that specifies the data attributes and methods of a particular type of object</b>\n",
    "<ul><li>Similar to a blueprint of a house or a cookie cutter</li></ul>"
   ]
  },
  {
   "cell_type": "markdown",
   "metadata": {},
   "source": [
    "<img src='https://www.dropbox.com/s/2ytrbs9a8hyvyxv/A%20blueprint.png?raw=1'>\n",
    "\n",
    "<i>Source: Starting Out with Python (4th Edition)- by Tony Gaddis Pearson</i>"
   ]
  },
  {
   "cell_type": "markdown",
   "metadata": {},
   "source": [
    "<img src='https://www.dropbox.com/s/0yq1plkvq9tj4l1/The%20cookie%20cutter%20metaphor.png?raw=1'>\n",
    "\n",
    "<i>Source: Starting Out with Python (4th Edition)- by Tony Gaddis Pearson</i>"
   ]
  },
  {
   "cell_type": "markdown",
   "metadata": {},
   "source": [
    "<b>Instance: an object created from a class</b>\n",
    "<ul><li>Similar to a specific house built according to the blueprint or a specific cookie</li>\n",
    "<li>There can be many instances of one class</li></ul>"
   ]
  },
  {
   "cell_type": "markdown",
   "metadata": {},
   "source": [
    "<img src='https://www.dropbox.com/s/u5i6s3ffsujtzz9/housefly.png?raw=1'>\n",
    "\n",
    "<i>Source: Starting Out with Python (4th Edition)- by Tony Gaddis Pearson</i>"
   ]
  },
  {
   "cell_type": "markdown",
   "metadata": {},
   "source": [
    "### 3.1. Class Definitions"
   ]
  },
  {
   "cell_type": "markdown",
   "metadata": {},
   "source": [
    "<b>Class definition: set of statements that define a class’s methods and data attributes</b>\n",
    "<ul><li>Format: begin with <i>class Class_name</i>:</li>\n",
    "    <ul><li>Class names often start with uppercase letter</li></ul>\n",
    "    <li>Method definition like any other python function definition</li>\n",
    "<ul><li>self parameter: required in every method in the class – references the specific object that the method is working on</li></ul>"
   ]
  },
  {
   "cell_type": "markdown",
   "metadata": {},
   "source": [
    "<b>Initializer method: automatically executed when an instance of the class is created</b>\n",
    "<ul><li>Initializes object’s data attributes and assigns self parameter to the object that was just created</li>\n",
    "    <li>Format: <i>def __init__ (self):</i></li>\n",
    "    <li>Usually the first method in a class definition</li>\n",
    "    </ul>"
   ]
  },
  {
   "cell_type": "markdown",
   "metadata": {},
   "source": [
    "<ul>\n",
    "    <li>To create a new instance of a class call the initializer method</li>\n",
    "<ul>\n",
    "    <li>Format: <i>My_instance = Class_Name()</i></li></ul>\n",
    "    <li>To call any of the class methods using the created instance, use dot notation</li>\n",
    "<ul>\n",
    "    <li>Format: <i>My_instance.method()</i></li>\n",
    "<li>Because the <i>self</i> parameter references the specific instance of the object, the method will affect this instance</li>\n",
    "<ul>\n",
    "    <li>Reference to <i>self</i> is passed automatically</li>\n",
    "    </ul></ul></ul>\n"
   ]
  },
  {
   "cell_type": "markdown",
   "metadata": {},
   "source": [
    "<b>Example:</b>"
   ]
  },
  {
   "cell_type": "code",
   "execution_count": 1,
   "metadata": {},
   "outputs": [],
   "source": [
    "import random\n",
    "# The Coin class simulates a coin that can \n",
    "# be flipped.\n",
    "\n",
    "class Coin:\n",
    "    # The __init__ method initializes the \n",
    "    # sideup data attribute with 'Heads'.\n",
    "    \n",
    "    def __init__(self): \n",
    "        self.sideup = 'Heads'\n",
    "        # The toss method generates a random number \n",
    "        # in the range of 0 through 1. If the number \n",
    "        # is 0, then sideup is set to 'Heads'.\n",
    "        # Otherwise, sideup is set to 'Tails'.\n",
    "        \n",
    "    def toss(self):\n",
    "        if random.randint(0, 1) == 0:\n",
    "            self.sideup = 'Heads' \n",
    "        else:\n",
    "            self.sideup = 'Tails'\n",
    "        # The get_sideup method returns the value \n",
    "        # referenced by sideup.\n",
    "    \n",
    "    def get_sideup(self): \n",
    "        return self.sideup"
   ]
  },
  {
   "cell_type": "code",
   "execution_count": 2,
   "metadata": {},
   "outputs": [],
   "source": [
    "coin1 = Coin()\n",
    "coin2 = Coin()\n",
    "coin3 = Coin()"
   ]
  },
  {
   "cell_type": "code",
   "execution_count": 7,
   "metadata": {},
   "outputs": [],
   "source": [
    "coin1.toss()"
   ]
  },
  {
   "cell_type": "code",
   "execution_count": 8,
   "metadata": {},
   "outputs": [
    {
     "data": {
      "text/plain": [
       "'Heads'"
      ]
     },
     "execution_count": 8,
     "metadata": {},
     "output_type": "execute_result"
    }
   ],
   "source": [
    "coin1.get_sideup()"
   ]
  },
  {
   "cell_type": "code",
   "execution_count": 10,
   "metadata": {},
   "outputs": [
    {
     "data": {
      "text/plain": [
       "'Heads'"
      ]
     },
     "execution_count": 10,
     "metadata": {},
     "output_type": "execute_result"
    }
   ],
   "source": [
    "coin1.sideup"
   ]
  },
  {
   "cell_type": "code",
   "execution_count": 14,
   "metadata": {},
   "outputs": [],
   "source": [
    "coin1.sideup = 'Tails'"
   ]
  },
  {
   "cell_type": "code",
   "execution_count": 15,
   "metadata": {},
   "outputs": [
    {
     "data": {
      "text/plain": [
       "'Tails'"
      ]
     },
     "execution_count": 15,
     "metadata": {},
     "output_type": "execute_result"
    }
   ],
   "source": [
    "coin1.get_sideup()"
   ]
  },
  {
   "cell_type": "code",
   "execution_count": 13,
   "metadata": {},
   "outputs": [
    {
     "name": "stdout",
     "output_type": "stream",
     "text": [
      "This side is up: Heads\n",
      "I am tossing the coin ...\n",
      "This side is up: Tails\n"
     ]
    }
   ],
   "source": [
    "import random\n",
    "# The Coin class simulates a coin that can \n",
    "# be flipped.\n",
    "\n",
    "class Coin:\n",
    "    # The __init__ method initializes the \n",
    "    # sideup data attribute with 'Heads'.\n",
    "    \n",
    "    def __init__(self): \n",
    "        self.sideup = 'Heads'\n",
    "        # The toss method generates a random number \n",
    "        # in the range of 0 through 1. If the number \n",
    "        # is 0, then sideup is set to 'Heads'.\n",
    "        # Otherwise, sideup is set to 'Tails'.\n",
    "        \n",
    "    def toss(self):\n",
    "        if random.randint(0, 1) == 0:\n",
    "            self.sideup = 'Heads' \n",
    "        else:\n",
    "            self.sideup = 'Tails'\n",
    "        # The get_sideup method returns the value \n",
    "        # referenced by sideup.\n",
    "    \n",
    "    def get_sideup(self): \n",
    "        return self.sideup\n",
    "\n",
    "# The main function. \n",
    "def main():\n",
    "    # Create an object from the Coin class. \n",
    "    my_coin = Coin()\n",
    "    # Display the side of the coin that is facing up. \n",
    "    print('This side is up:', my_coin.get_sideup())\n",
    "    # Toss the coin.\n",
    "    print('I am tossing the coin ...') \n",
    "    my_coin.toss()\n",
    "    # Display the side of the coin that is facing up. \n",
    "    print('This side is up:', my_coin.get_sideup())\n",
    " \n",
    "main()"
   ]
  },
  {
   "cell_type": "markdown",
   "metadata": {},
   "source": [
    "<img src='https://www.dropbox.com/s/qaxrq0mb031c55c/Actions%20caused%20by%20the%20Coin.png?raw=1'>\n",
    "\n",
    "<i>Source: Starting Out with Python (4th Edition)- by Tony Gaddis Pearson</i>"
   ]
  },
  {
   "cell_type": "code",
   "execution_count": 13,
   "metadata": {},
   "outputs": [],
   "source": [
    "import random\n",
    "# The Coin class simulates a coin that can be flipped.\n",
    "\n",
    "class Coin:\n",
    "    # The __init__ method initializes the \n",
    "    # sideup data attribute with 'Heads'.\n",
    "    \n",
    "    def __init__(self, init_sideup = 'Heads'): \n",
    "        self.sideup = init_sideup\n",
    "        # The toss method generates a random number \n",
    "        # in the range of 0 through 1. If the number \n",
    "        # is 0, then sideup is set to 'Heads'.\n",
    "        # Otherwise, sideup is set to 'Tails'.\n",
    "        \n",
    "    def toss(self):\n",
    "        if random.randint(0, 1) == 0:\n",
    "            self.sideup = 'Heads' \n",
    "        else:\n",
    "            self.sideup = 'Tails'\n",
    "        # The get_sideup method returns the value \n",
    "        # referenced by sideup.\n",
    "    \n",
    "    def get_sideup(self): \n",
    "        return self.sideup"
   ]
  },
  {
   "cell_type": "code",
   "execution_count": 17,
   "metadata": {},
   "outputs": [],
   "source": [
    "coin1 = Coin('Heads')\n",
    "coin2 = Coin('Tails')\n",
    "coin3 = Coin()"
   ]
  },
  {
   "cell_type": "code",
   "execution_count": 18,
   "metadata": {},
   "outputs": [
    {
     "data": {
      "text/plain": [
       "'Tails'"
      ]
     },
     "execution_count": 18,
     "metadata": {},
     "output_type": "execute_result"
    }
   ],
   "source": [
    "coin2.get_sideup()"
   ]
  },
  {
   "cell_type": "code",
   "execution_count": 19,
   "metadata": {},
   "outputs": [
    {
     "data": {
      "text/plain": [
       "'Tails'"
      ]
     },
     "execution_count": 19,
     "metadata": {},
     "output_type": "execute_result"
    }
   ],
   "source": [
    "coin2.sideup"
   ]
  },
  {
   "cell_type": "markdown",
   "metadata": {},
   "source": [
    "### 3.2. Hiding Attributes and Storing Classes in Modules"
   ]
  },
  {
   "cell_type": "markdown",
   "metadata": {},
   "source": [
    "An object’s data attributes should be private\n",
    "<ul>\n",
    "    <li>To make sure of this, place two underscores (__) in front of attribute name</li>\n",
    "<ul>\n",
    "    <li>Example: __current_minute</li></ul></ul>"
   ]
  },
  {
   "cell_type": "code",
   "execution_count": 2,
   "metadata": {},
   "outputs": [
    {
     "name": "stdout",
     "output_type": "stream",
     "text": [
      "This side is up: Heads\n",
      "I am tossing the coin ...\n",
      "This side is up: Tails\n"
     ]
    }
   ],
   "source": [
    "import random\n",
    "# The Coin class simulates a coin that can \n",
    "# be flipped.\n",
    "\n",
    "class Coin:\n",
    "    # The __init__ method initializes the \n",
    "    # sideup data attribute with 'Heads'.\n",
    "    \n",
    "    def __init__(self): \n",
    "        self.sideup = 'Heads'\n",
    "        # The toss method generates a random number \n",
    "        # in the range of 0 through 1. If the number \n",
    "        # is 0, then sideup is set to 'Heads'.\n",
    "        # Otherwise, sideup is set to 'Tails'.\n",
    "        \n",
    "    def toss(self):\n",
    "        if random.randint(0, 1) == 0:\n",
    "            self.sideup = 'Heads' \n",
    "        else:\n",
    "            self.sideup = 'Tails'\n",
    "        \n",
    "    # The get_sideup method returns the value referenced by sideup.\n",
    "    def get_sideup(self): \n",
    "        return self.sideup\n",
    "\n",
    "def main():\n",
    "\n",
    "    # Create an object from the Coin class. \n",
    "    my_coin = Coin()\n",
    "\n",
    "    # Display the side of the coin that is facing up. \n",
    "    print('This side is up:', my_coin.get_sideup())\n",
    "\n",
    "    # Toss the coin.\n",
    "    print('I am tossing the coin ...') \n",
    "    my_coin.toss()\n",
    "\n",
    "    # But now I'm going to cheat! I'm going to \n",
    "    # directly change the value of the object's \n",
    "    # sideup attribute to 'Heads'. \n",
    "    my_coin.sideup = 'Tails'\n",
    "\n",
    "    # Display the side of the coin that is facing up. \n",
    "    print('This side is up:', my_coin.get_sideup())\n",
    "\n",
    "main()"
   ]
  },
  {
   "cell_type": "code",
   "execution_count": 4,
   "metadata": {},
   "outputs": [],
   "source": [
    "my_coin = Coin()"
   ]
  },
  {
   "cell_type": "code",
   "execution_count": 5,
   "metadata": {},
   "outputs": [
    {
     "data": {
      "text/plain": [
       "'Heads'"
      ]
     },
     "execution_count": 5,
     "metadata": {},
     "output_type": "execute_result"
    }
   ],
   "source": [
    "my_coin.sideup"
   ]
  },
  {
   "cell_type": "markdown",
   "metadata": {},
   "source": [
    "<b>Example:</b>"
   ]
  },
  {
   "cell_type": "code",
   "execution_count": 9,
   "metadata": {},
   "outputs": [
    {
     "name": "stdout",
     "output_type": "stream",
     "text": [
      "This side is up: Heads\n",
      "I am going to toss the coin ten times:\n",
      "Heads\n",
      "Heads\n",
      "Tails\n",
      "Heads\n",
      "Tails\n",
      "Heads\n",
      "Tails\n",
      "Heads\n",
      "Heads\n",
      "Heads\n"
     ]
    }
   ],
   "source": [
    "import random\n",
    "\n",
    "# The Coin class simulates a coin that can be flipped.\n",
    "class Coin:\n",
    "\n",
    "    # The __init__ method initializes the \n",
    "    # __sideup data attribute with ‘Heads’.\n",
    "    def __init__(self): \n",
    "        self.__sideup = 'Heads'\n",
    "\n",
    "    # The toss method generates a random number \n",
    "    # in the range of 0 through 1. If the number \n",
    "    # is 0, then sideup is set to 'Heads'.\n",
    "    # Otherwise, sideup is set to 'Tails'.\n",
    "    def toss(self):\n",
    "        if random.randint(0, 1) == 0:\n",
    "            self.__sideup = 'Heads' \n",
    "        else:\n",
    "            self.__sideup = 'Tails'\n",
    "\n",
    "    # The get_sideup method returns the value \n",
    "    # referenced by sideup.\n",
    "    def get_sideup(self): \n",
    "        return self.__sideup\n",
    "\n",
    "def main():\n",
    "    # Create an object from the Coin class. \n",
    "    my_coin = Coin()\n",
    "    \n",
    "    # Display the side of the coin that is facing up. \n",
    "    print('This side is up:', my_coin.get_sideup())\n",
    "    \n",
    "    # Toss the coin.\n",
    "    print('I am going to toss the coin ten times:') \n",
    "    for count in range(10):\n",
    "        my_coin.toss() \n",
    "        print(my_coin.get_sideup())\n",
    "\n",
    "main()"
   ]
  },
  {
   "cell_type": "code",
   "execution_count": null,
   "metadata": {},
   "outputs": [],
   "source": [
    "class Coin:\n",
    "\n",
    "    # The __init__ method initializes the \n",
    "    # __sideup data attribute with ‘Heads’.\n",
    "    def __init__(self): \n",
    "        self.__sideup = 'Heads'\n",
    "\n",
    "    # The toss method generates a random number \n",
    "    # in the range of 0 through 1. If the number \n",
    "    # is 0, then sideup is set to 'Heads'.\n",
    "    # Otherwise, sideup is set to 'Tails'.\n",
    "    def toss(self):\n",
    "        if random.randint(0, 1) == 0:\n",
    "            self.__sideup = 'Heads' \n",
    "        else:\n",
    "            self.__sideup = 'Tails'\n",
    "\n",
    "    # The get_sideup method returns the value \n",
    "    # referenced by sideup.\n",
    "    def get_sideup(self): \n",
    "        return self.__sideup"
   ]
  },
  {
   "cell_type": "code",
   "execution_count": 25,
   "metadata": {},
   "outputs": [],
   "source": [
    "coin10 = Coin()"
   ]
  },
  {
   "cell_type": "code",
   "execution_count": 27,
   "metadata": {},
   "outputs": [
    {
     "data": {
      "text/plain": [
       "'Heads'"
      ]
     },
     "execution_count": 27,
     "metadata": {},
     "output_type": "execute_result"
    }
   ],
   "source": [
    "coin10.get_sideup()"
   ]
  },
  {
   "cell_type": "markdown",
   "metadata": {},
   "source": [
    "### Storing Classes in Modules"
   ]
  },
  {
   "cell_type": "markdown",
   "metadata": {},
   "source": [
    "Classes can be stored in modules\n",
    "<ul>\n",
    "    <li>Filename for module must end in .py</li>\n",
    "    <li>Module can be imported to programs that use the class</li></ul>"
   ]
  },
  {
   "cell_type": "markdown",
   "metadata": {},
   "source": [
    "<b>Example:</b>"
   ]
  },
  {
   "cell_type": "code",
   "execution_count": 4,
   "metadata": {},
   "outputs": [
    {
     "name": "stdout",
     "output_type": "stream",
     "text": [
      "Writing coin.py\n"
     ]
    }
   ],
   "source": [
    "%%file coin.py\n",
    "import random\n",
    "\n",
    "# The Coin class simulates a coin that can be flipped.\n",
    "class Coin:\n",
    "\n",
    "    # The __init__ method initializes the __sideup data attribute with 'Heads'.\n",
    "    def __init__(self): \n",
    "        self.__sideup = 'Heads'\n",
    "\n",
    "    # The toss method generates a random number in the range of 0 through 1. \n",
    "    #If the number is 0, then sideup is set to 'Heads'.\n",
    "    # Otherwise, sideup is set to 'Tails'.\n",
    "    def toss(self):\n",
    "        if random.randint(0, 1) == 0:\n",
    "            self.__sideup = 'Heads' \n",
    "        else:\n",
    "            self.__sideup = 'Tails'\n",
    "    \n",
    "    # The get_sideup method returns the value referenced by sideup.\n",
    "    def get_sideup(self):\n",
    "        return self.__sideup\n",
    "    \n",
    "# This program imports the coin module and \n",
    "# creates an instance of the Coin class."
   ]
  },
  {
   "cell_type": "code",
   "execution_count": 5,
   "metadata": {},
   "outputs": [
    {
     "name": "stdout",
     "output_type": "stream",
     "text": [
      "This side is up: Heads\n",
      "I am going to toss the coin ten times:\n",
      "Heads\n",
      "Heads\n",
      "Heads\n",
      "Tails\n",
      "Tails\n",
      "Heads\n",
      "Heads\n",
      "Tails\n",
      "Tails\n",
      "Heads\n"
     ]
    }
   ],
   "source": [
    "import coin\n",
    "\n",
    "def main():\n",
    "    # Create an object from the Coin class. \n",
    "    my_coin = coin.Coin()\n",
    "\n",
    "    # Display the side of the coin that is facing up. \n",
    "    print('This side is up:', my_coin.get_sideup())\n",
    "\n",
    "    # Toss the coin.\n",
    "    print('I am going to toss the coin ten times:') \n",
    "    for count in range(10):\n",
    "        my_coin.toss() \n",
    "        print(my_coin.get_sideup())\n",
    "main()"
   ]
  },
  {
   "cell_type": "markdown",
   "metadata": {},
   "source": [
    "### 3.3.The BankAccount Class – More About Classes"
   ]
  },
  {
   "cell_type": "markdown",
   "metadata": {},
   "source": [
    "Class methods can have multiple parameters in addition to self\n",
    "<ul>\n",
    "    <li>For <i>__init__</i>, parameters needed to create an instance of the class</li>\n",
    "    <ul><li>Example: a <i>BankAccount</i> object is created with a  balance</li>\n",
    "        <ul><li>When called, the initializer method receives a value to be assigned to a <i>__balance</i> attribute</li></ul></ul>\n",
    "        <li>For other methods, parameters needed to perform required task</li>\n",
    "    <ul><li>Example: <i>deposit</i> method amount to be deposited</li></ul></ul></ul>"
   ]
  },
  {
   "cell_type": "code",
   "execution_count": 30,
   "metadata": {},
   "outputs": [
    {
     "name": "stdout",
     "output_type": "stream",
     "text": [
      "Writing bankaccount.py\n"
     ]
    }
   ],
   "source": [
    "%%file bankaccount.py\n",
    "\n",
    "class BankAccount:\n",
    "    # The __init__ method accepts an argument for # the account's balance. It is assigned to\n",
    "    # the __balance attribute.\n",
    "    def __init__(self, bal=0): \n",
    "        self.__balance = bal\n",
    "        \n",
    "    # The deposit method makes a deposit into the account.\n",
    "    def deposit(self, amount): \n",
    "        self.__balance += amount\n",
    "    # The withdraw method withdraws an amount from the account.\n",
    "    def withdraw(self, amount):\n",
    "        if self.__balance >= amount:\n",
    "            self.__balance -= amount\n",
    "        else:\n",
    "            print('Error: Insufficient funds')\n",
    "\n",
    "    # The get_balance method returns the account balance.\n",
    "    def get_balance(self): \n",
    "        return self.__balance"
   ]
  },
  {
   "cell_type": "code",
   "execution_count": 31,
   "metadata": {},
   "outputs": [
    {
     "name": "stdout",
     "output_type": "stream",
     "text": [
      "Enter your starting balance: 5000\n",
      "How much were you paid this week? 500\n",
      "I will deposit that into your account.\n",
      "Your account balance is $5,500.00\n",
      "How much would you like to withdraw? 600\n",
      "I will withdraw that from your account.\n",
      "Your account balance is $4,900.00\n"
     ]
    }
   ],
   "source": [
    "import bankaccount\n",
    "\n",
    "def main():\n",
    "    # Get the starting balance.\n",
    "    start_bal = float(input('Enter your starting balance: '))\n",
    "    \n",
    "    # Create a BankAccount object.\n",
    "    savings = bankaccount.BankAccount(start_bal)\n",
    "\n",
    "    # Deposit the user's paycheck.\n",
    "    pay = float(input('How much were you paid this week? ')) \n",
    "    print('I will deposit that into your account.')\n",
    "    savings.deposit(pay)\n",
    "\n",
    "    # Display the balance.\n",
    "    print('Your account balance is $', format(savings.get_balance(),',.2f'), sep='')\n",
    "    \n",
    "    # Get the amount to withdraw.\n",
    "    cash = float(input('How much would you like to withdraw? ')) \n",
    "    print('I will withdraw that from your account.') \n",
    "    savings.withdraw(cash)\n",
    "\n",
    "    # Display the balance.\n",
    "    print('Your account balance is $',format(savings.get_balance(), ',.2f'), sep='')\n",
    "\n",
    "main()"
   ]
  },
  {
   "cell_type": "markdown",
   "metadata": {},
   "source": [
    "### 3.4. The \\_\\_str\\_\\_ method"
   ]
  },
  {
   "cell_type": "markdown",
   "metadata": {},
   "source": [
    "<li>Object’s state: the values of the object’s attribute at a given moment</li>\n",
    "<li>__str__ method: displays the object’s state</li>\n",
    "<ul>\n",
    "    <li>Automatically called when the object is passed as an argument to the print function</li>\n",
    "<li>Automatically called when the object is passed as an argument to the str function</li>\n",
    "</ul>"
   ]
  },
  {
   "cell_type": "code",
   "execution_count": 10,
   "metadata": {},
   "outputs": [
    {
     "name": "stdout",
     "output_type": "stream",
     "text": [
      "Writing bankaccount2.py\n"
     ]
    }
   ],
   "source": [
    "%%file bankaccount2.py\n",
    "class BankAccount:\n",
    "\n",
    "    # The __init__ method accepts an argument for the account's balance. It is assigned to the __balance attribute.\n",
    "    def __init__(self, bal): \n",
    "        self.__balance = bal\n",
    "    \n",
    "    # The deposit method makes a deposit into the account.\n",
    "    def deposit(self, amount): \n",
    "        self.__balance += amount\n",
    "\n",
    "    # The withdraw method withdraws an amount from the account.\n",
    "    def withdraw(self, amount):\n",
    "        if self.__balance >= amount:\n",
    "            self.__balance -= amount\n",
    "        else:\n",
    "            print('Error: Insufficient funds')\n",
    "\n",
    "    # The get_balance method returns the account balance.\n",
    "    def get_balance(self):\n",
    "        return self.__balance\n",
    "\n",
    "    # The __str__ method returns a string indicating the object's state.\n",
    "    def __str__(self):\n",
    "        return 'The balance is $' + format(self.__balance, ',.2f')"
   ]
  },
  {
   "cell_type": "code",
   "execution_count": 11,
   "metadata": {},
   "outputs": [
    {
     "name": "stdout",
     "output_type": "stream",
     "text": [
      "I will deposit that into your account.\n",
      "The balance is $5,800.00\n",
      "I will withdraw that from your account.\n",
      "The balance is $4,900.00\n"
     ]
    }
   ],
   "source": [
    "import bankaccount2\n",
    "\n",
    "def main():\n",
    "\n",
    "    # Get the starting balance.\n",
    "    start_bal = float(input('Enter your starting balance: '))\n",
    "\n",
    "    # Create a BankAccount object.\n",
    "    savings = bankaccount2.BankAccount(start_bal)\n",
    "\n",
    "    # Deposit the user's paycheck.\n",
    "    pay = float(input('How much were you paid this week? ')) \n",
    "    print('I will deposit that into your account.') \n",
    "    savings.deposit(pay)\n",
    "\n",
    "    # Display the balance. \n",
    "    print(savings)\n",
    "\n",
    "    # Get the amount to withdraw.\n",
    "    cash = float(input('How much would you like to withdraw? ')) \n",
    "    print('I will withdraw that from your account.') \n",
    "    savings.withdraw(cash)\n",
    "\n",
    "    # Display the balance. \n",
    "    print(savings)\n",
    "\n",
    "main()"
   ]
  },
  {
   "cell_type": "markdown",
   "metadata": {},
   "source": [
    "## 4. Working With Instances"
   ]
  },
  {
   "cell_type": "markdown",
   "metadata": {},
   "source": [
    "Instance attribute: belongs to a specific instance of a class\n",
    "<ul><li>Created when a method uses the self parameter to create an attribute</li></ul>\n",
    "If many instances of a class are created, each would have its own set of attributes"
   ]
  },
  {
   "cell_type": "code",
   "execution_count": 6,
   "metadata": {},
   "outputs": [
    {
     "name": "stdout",
     "output_type": "stream",
     "text": [
      "I have three coins with these sides up:\n",
      "Heads\n",
      "Heads\n",
      "Heads\n",
      "\n",
      "I am tossing all three coins ...\n",
      "\n",
      "Now here are the sides that are up:\n",
      "Tails\n",
      "Tails\n",
      "Heads\n",
      "\n"
     ]
    }
   ],
   "source": [
    "import coin\n",
    "\n",
    "def main():\n",
    "    \n",
    "    # Create three objects from the Coin class. \n",
    "    coin1 = coin.Coin()\n",
    "    coin2 = coin.Coin()\n",
    "    coin3 = coin.Coin()\n",
    "    \n",
    "    # Display the side of each coin that is facing up. \n",
    "    print('I have three coins with these sides up:') \n",
    "    print(coin1.get_sideup())\n",
    "    print(coin2.get_sideup())\n",
    "    print(coin3.get_sideup()) \n",
    "    print()\n",
    "    \n",
    "    # Toss the coin.\n",
    "    print('I am tossing all three coins ...') \n",
    "    print()\n",
    "    coin1.toss()\n",
    "    coin2.toss()\n",
    "    coin3.toss()\n",
    "    \n",
    "    # Display the side of each coin that is facing up. \n",
    "    print('Now here are the sides that are up:') \n",
    "    print(coin1.get_sideup())\n",
    "    print(coin2.get_sideup())\n",
    "    print(coin3.get_sideup()) \n",
    "    print()\n",
    "    \n",
    "main()"
   ]
  },
  {
   "cell_type": "markdown",
   "metadata": {},
   "source": [
    "<img src='https://www.dropbox.com/s/sq4jdapipbwp3fu/The%20coin1.png?raw=1'>\n",
    "<img src='https://www.dropbox.com/s/jn27lghyoe4lc62/The%20objects%20after%20the%20toss%20method.png?raw=1'>\n",
    "\n",
    "<i>Source: Starting Out with Python (4th Edition)- by Tony Gaddis Pearson</i>"
   ]
  },
  {
   "cell_type": "code",
   "execution_count": 15,
   "metadata": {},
   "outputs": [
    {
     "name": "stdout",
     "output_type": "stream",
     "text": [
      "Writing cellphone.py\n"
     ]
    }
   ],
   "source": [
    "%%file cellphone.py\n",
    "class CellPhone:\n",
    "\n",
    "    # The __init__ method initializes the attributes.\n",
    "    def __init__(self, manufact, model, price): \n",
    "        self.__manufact = manufact\n",
    "        self.__model = model \n",
    "        self.__retail_price = price\n",
    "\n",
    "    # The set_manufact method accepts an argument for # the phone's manufacturer.\n",
    "    def set_manufact(self, manufact): \n",
    "        self.__manufact = manufact\n",
    "        \n",
    "    # The set_model method accepts an argument for the phone's model number.\n",
    "    def set_model(self, model):\n",
    "        self.__model = model\n",
    "    \n",
    "    # The set_retail_price method accepts an argument for the phone's retail price.\n",
    "\n",
    "    def set_retail_price(self, price):\n",
    "        self.__retail_price = price\n",
    "\n",
    "    # The get_manufact method returns the phone's manufacturer.\n",
    "\n",
    "    def get_manufact(self):\n",
    "        return self.__manufact\n",
    "\n",
    "    # The get_model method returns the phone's model number.\n",
    "\n",
    "    def get_model(self):\n",
    "        return self.__model\n",
    "\n",
    "    # The get_retail_price method returns the phone's retail price.\n",
    "\n",
    "    def get_retail_price(self):\n",
    "        return self.__retail_price"
   ]
  },
  {
   "cell_type": "code",
   "execution_count": 16,
   "metadata": {},
   "outputs": [
    {
     "name": "stdout",
     "output_type": "stream",
     "text": [
      "Here is the data that you entered:\n",
      "Manufacturer: B\n",
      "Model Number: 8976H67\n",
      "Retail Price: $900.00\n"
     ]
    }
   ],
   "source": [
    "import cellphone\n",
    "\n",
    "def main():\n",
    "    # Get the phone data.\n",
    "    man = input('Enter the manufacturer: ')\n",
    "    mod = input('Enter the model number: ')\n",
    "    retail = float(input('Enter the retail price: '))\n",
    "\n",
    "    # Create an instance of the CellPhone class.\n",
    "    phone = cellphone.CellPhone(man, mod, retail)\n",
    "\n",
    "    # Display the data that was entered.\n",
    "    print('Here is the data that you entered:')\n",
    "    print('Manufacturer:', phone.get_manufact())\n",
    "    print('Model Number:', phone.get_model())\n",
    "    print('Retail Price: $', format(phone.get_retail_price(), ',.2f'), sep='')\n",
    "\n",
    "\n",
    "main()"
   ]
  },
  {
   "cell_type": "markdown",
   "metadata": {},
   "source": [
    "### 4.1.Passing Objects as Arguments"
   ]
  },
  {
   "cell_type": "markdown",
   "metadata": {},
   "source": [
    "<li>Methods and functions often need to accept objects as arguments</li>\n",
    "<li>When you pass an object as an argument, you are actually passing a reference to the object</li>\n",
    "<ul><li>The receiving method or function has access to the actual object</li>\n",
    "    <ul><li>Methods of the object can be called within the receiving function or method, and data </li></ul></ul>"
   ]
  },
  {
   "cell_type": "code",
   "execution_count": 37,
   "metadata": {},
   "outputs": [
    {
     "name": "stdout",
     "output_type": "stream",
     "text": [
      "Heads\n",
      "Tails\n"
     ]
    }
   ],
   "source": [
    "import coin\n",
    "\n",
    "def main():\n",
    "    my_coin = coin.Coin()\n",
    "    \n",
    "    # This will display 'Heads'. \n",
    "    print(my_coin.get_sideup())\n",
    "\n",
    "    # Pass the object to the flip function. \n",
    "    flip(my_coin)\n",
    "\n",
    "    # This might display 'Heads', or it might display 'Tails'. \n",
    "    print(my_coin.get_sideup())\n",
    "\n",
    "# The flip function flips a coin. \n",
    "def flip(coin_obj):\n",
    "    coin_obj.toss()\n",
    "\n",
    "main()"
   ]
  },
  {
   "cell_type": "code",
   "execution_count": 17,
   "metadata": {},
   "outputs": [
    {
     "name": "stdout",
     "output_type": "stream",
     "text": [
      "The data was written to cellphones.dat\n"
     ]
    }
   ],
   "source": [
    "import pickle\n",
    "import cellphone\n",
    "# Constant for the filename. \n",
    "FILENAME = 'cellphones.dat'\n",
    "def main():\n",
    "# Initialize a variable to control the loop. \n",
    "    again = 'y'\n",
    "# Open a file.\n",
    "    output_file = open(FILENAME, 'wb')\n",
    "# Get data from the user. \n",
    "    while again.lower() == 'y': \n",
    "        # Get cell phone data.\n",
    "        man = input('Enter the manufacturer: ')\n",
    "        mod = input('Enter the model number: ')\n",
    "        retail = float(input('Enter the retail price: '))\n",
    "# Create a CellPhone object.\n",
    "        phone = cellphone.CellPhone(man, mod, retail)\n",
    "# Pickle the object and write it to the file. \n",
    "        pickle.dump(phone, output_file)\n",
    "# Get more cell phone data?\n",
    "        again = input('Enter more phone data? (y/n): ')\n",
    "# Close the file.\n",
    "    output_file.close()\n",
    "    print('The data was written to', FILENAME)\n",
    "main()"
   ]
  },
  {
   "cell_type": "code",
   "execution_count": 18,
   "metadata": {},
   "outputs": [
    {
     "name": "stdout",
     "output_type": "stream",
     "text": [
      "Manufacturer: B\n",
      "Model Number: 8967H67\n",
      "Retail Price: $900.00\n",
      "\n"
     ]
    }
   ],
   "source": [
    "import pickle\n",
    "import cellphone\n",
    "# Constant for the filename. \n",
    "FILENAME = 'cellphones.dat'\n",
    "def main():\n",
    "    end_of_file = False\n",
    "# To indicate end of file\n",
    "# Open the file.\n",
    "    input_file = open(FILENAME, 'rb')\n",
    "# Read to the end of the file. \n",
    "    while not end_of_file:\n",
    "        try:\n",
    "# Unpickle the next object. \n",
    "            phone = pickle.load(input_file)\n",
    "# Display the cell phone data.\n",
    "            display_data(phone) \n",
    "        except EOFError:\n",
    "# Set the flag to indicate the end of the file has been reached. \n",
    "            end_of_file = True\n",
    "# Close the file. \n",
    "    input_file.close()\n",
    "# The display_data function displays the data from the CellPhone object passed as an argument.\n",
    "def display_data(phone):\n",
    "    print('Manufacturer:', phone.get_manufact())\n",
    "    print('Model Number:', phone.get_model())\n",
    "    print('Retail Price: $',format(phone.get_retail_price(), ',.2f'),sep='')\n",
    "    print()\n",
    "    \n",
    "main()"
   ]
  },
  {
   "cell_type": "code",
   "execution_count": null,
   "metadata": {},
   "outputs": [],
   "source": [
    "%%file contact.py\n",
    "class Contact:\n",
    "# The __init__ method initializes the attributes. \n",
    "    def __init__(self, name, phone, email):\n",
    "        self.__name = name \n",
    "        self.__phone = phone \n",
    "        self.__email = email\n",
    "# The set_name method sets the name attribute. \n",
    "    def set_name(self, name):\n",
    "        self.__name = name\n",
    "# The set_phone method sets the phone attribute. \n",
    "    def set_phone(self, phone):\n",
    "        self.__phone = phone\n",
    "# The set_email method sets the email attribute. \n",
    "    def set_email(self, email):\n",
    "        self.__email = email\n",
    "# The get_name method returns the name attribute. \n",
    "    def get_name(self):\n",
    "        return self.__name\n",
    "# The get_phone method returns the phone attribute. \n",
    "    def get_phone(self):\n",
    "        return self.__phone\n",
    "# The get_email method returns the email attribute. \n",
    "    def get_email(self):\n",
    "        return self.__email\n",
    "# The __str__ method returns the object's state as a string.\n",
    "    def __str__(self):\n",
    "        return \"Name: \" + self.__name +\"\\nPhone: \" + self.__phone +\"\\nEmail: \" + self.__email"
   ]
  },
  {
   "cell_type": "code",
   "execution_count": null,
   "metadata": {},
   "outputs": [],
   "source": [
    "import contact\n",
    "import pickle\n",
    "# Global constants for menu choices\n",
    "LOOK_UP = 1\n",
    "ADD = 2\n",
    "CHANGE = 3\n",
    "DELETE = 4\n",
    "QUIT = 5\n",
    "\n",
    "FILENAME = 'contacts.dat'\n",
    "\n",
    "def main():\n",
    "# Load the existing contact dictionary and assign it to mycontacts.\n",
    "    mycontacts = load_contacts()\n",
    "# Initialize a variable for the user's choice. \n",
    "    choice = 0\n",
    "\n",
    "    while choice != QUIT:\n",
    "# Get the user's menu choice. \n",
    "        choice = get_menu_choice()\n",
    "# Process the choice. \n",
    "        if choice == LOOK_UP:\n",
    "            look_up(mycontacts) \n",
    "        elif choice == ADD: \n",
    "            add(mycontacts)\n",
    "        elif choice == CHANGE: \n",
    "            change(mycontacts) \n",
    "        elif choice == DELETE: \n",
    "            delete(mycontacts)\n",
    "# Save the mycontacts dictionary to a file. \n",
    "    save_contacts(mycontacts)"
   ]
  },
  {
   "cell_type": "code",
   "execution_count": null,
   "metadata": {},
   "outputs": [],
   "source": [
    "def load_contacts(): \n",
    "    try:\n",
    "# Open the contacts.dat file. \n",
    "        input_file = open(FILENAME, 'rb')\n",
    "# Unpickle the dictionary. \n",
    "        contact_dct = pickle.load(input_file)\n",
    "# Close the phone_inventory.dat file.\n",
    "        input_file.close() \n",
    "    except IOError:\n",
    "# Could not open the file, so create # an empty dictionary.\n",
    "        contact_dct = {}\n",
    "# Return the dictionary. \n",
    "    return contact_dct"
   ]
  },
  {
   "cell_type": "code",
   "execution_count": null,
   "metadata": {},
   "outputs": [],
   "source": [
    "def get_menu_choice():\n",
    "    print()\n",
    "    print('Menu') \n",
    "    print('---------------------------') \n",
    "    print('1. Look up a contact') \n",
    "    print('2. Add a new contact') \n",
    "    print('3. Change an existing contact') \n",
    "    print('4. Delete a contact')\n",
    "    print('5. Quit the program') \n",
    "    print()\n",
    "# Get the user's choice.\n",
    "    choice = int(input('Enter your choice: '))\n",
    "# Validate the choice.\n",
    "    while choice < LOOK_UP or choice > QUIT:\n",
    "        choice = int(input('Enter a valid choice: '))\n",
    "# return the user's choice. \n",
    "    return choice"
   ]
  },
  {
   "cell_type": "code",
   "execution_count": null,
   "metadata": {},
   "outputs": [],
   "source": [
    "# The look_up function looks up an item in the specified dictionary.\n",
    "def look_up(mycontacts):\n",
    "# Get a name to look up.\n",
    "    name = input('Enter a name: ')\n",
    "# Look it up in the dictionary. \n",
    "    print(mycontacts.get(name, 'That name is not found.'))"
   ]
  },
  {
   "cell_type": "code",
   "execution_count": null,
   "metadata": {},
   "outputs": [],
   "source": [
    "def add(mycontacts):\n",
    "    # Get the contact info. \n",
    "    name = input('Name: ') \n",
    "    phone = input('Phone: ') \n",
    "    email = input('Email: ')\n",
    "\n",
    "    # Create a Contact object named entry. \n",
    "    entry = contact.Contact(name, phone, email)\n",
    "\n",
    "    # If the name does not exist in the dictionary, add it as a key with the entry object as the associated value.\n",
    "    if name not in mycontacts:\n",
    "        mycontacts[name] = entry\n",
    "        print('The entry has been added.') \n",
    "    else:\n",
    "        print('That name already exists.')"
   ]
  },
  {
   "cell_type": "code",
   "execution_count": null,
   "metadata": {},
   "outputs": [],
   "source": [
    "# The change function changes an existing # entry in the specified dictionary.\n",
    "def change(mycontacts):\n",
    "# Get a name to look up.\n",
    "    name = input('Enter a name: ')\n",
    "    if name in mycontacts:\n",
    "# Get a new phone number.\n",
    "        phone = input('Enter the new phone number: ')\n",
    "# Get a new email address.\n",
    "        email = input('Enter the new email address: ')\n",
    "# Create a contact object named entry. \n",
    "        entry = contact.Contact(name, phone, email)\n",
    "# Update the entry. \n",
    "        mycontacts[name] = entry \n",
    "        print('Information updated.')\n",
    "    else:\n",
    "        print('That name is not found.')"
   ]
  },
  {
   "cell_type": "code",
   "execution_count": null,
   "metadata": {},
   "outputs": [],
   "source": [
    "# The delete function deletes an entry from the # specified dictionary.\n",
    "def delete(mycontacts):\n",
    "# Get a name to look up.\n",
    "    name = input('Enter a name: ')\n",
    "# If the name is found, delete the entry. \n",
    "    if name in mycontacts:\n",
    "        del mycontacts[name]\n",
    "        print('Entry deleted.') \n",
    "    else:\n",
    "        print('That name is not found.')"
   ]
  },
  {
   "cell_type": "code",
   "execution_count": null,
   "metadata": {},
   "outputs": [],
   "source": [
    "# The save_contacts funtion pickles the specified # object and saves it to the contacts file.\n",
    "def save_contacts(mycontacts):\n",
    "# Open the file for writing. \n",
    "    output_file = open(FILENAME, 'wb')\n",
    "# Pickle the dictionary and save it. \n",
    "    pickle.dump(mycontacts, output_file)\n",
    "# Close the file. \n",
    "    output_file.close()\n",
    "\n",
    "main()"
   ]
  },
  {
   "cell_type": "markdown",
   "metadata": {},
   "source": [
    "## 5. Techniques for Designing Classes"
   ]
  },
  {
   "cell_type": "markdown",
   "metadata": {},
   "source": [
    "<li>UML diagram: standard diagrams for graphically depicting object-oriented systems</li>\n",
    "<ul><li>Stands for Unified Modeling Language</li></ul>\n",
    "<li>General layout: box divided into three sections:</li>\n",
    "<ul><li>Top section: name of the class</li>\n",
    "<li>Middle section: list of data attributes</li>\n",
    "<li>Bottom section: list of class methods</li>\n",
    "</ul>"
   ]
  },
  {
   "cell_type": "markdown",
   "metadata": {},
   "source": [
    "<img src='https://www.dropbox.com/s/q3825c5pkajvn1p/General%20layout%20of%20a%20UML%20diagram%20for%20a%20class.png?raw=1'>\n",
    "<img src='https://www.dropbox.com/s/vknv4y69qajgt9d/UML%20diagram%20for%20the%20Coin%20class.png?raw=1'>\n",
    "<img src='https://www.dropbox.com/s/fs5lw8qy46jet6q/UML%20diagram%20for%20the%20CellPhone%20class.png?raw=1'>\n",
    "\n",
    "<i>Source: Starting Out with Python (4th Edition)- by Tony Gaddis Pearson</i>"
   ]
  },
  {
   "cell_type": "markdown",
   "metadata": {},
   "source": [
    "### 5.1.Finding the Classes in a Problem"
   ]
  },
  {
   "cell_type": "markdown",
   "metadata": {},
   "source": [
    "<li>When developing object oriented program, first goal is to identify classes</li>\n",
    "<ul><li>Typically involves identifying the real-world objects that are in the problem</li>\n",
    "    <li>Technique for identifying classes:</li>\n",
    "    <ol><li>Get written description of the problem domain</li>\n",
    "        <li>Identify all nouns in the description, each of which is a potential class</li>\n",
    "        <li>Refine the list to include only classes that are relevant to the problem</li></ol>"
   ]
  },
  {
   "cell_type": "markdown",
   "metadata": {},
   "source": [
    "1.Get written description of the problem domain\n",
    "<ul><li>May be written by you or by an expert</li>\n",
    "    <li>Should include any or all of the following:</li>\n",
    "<ul><li>Physical objects simulated by the program</li>\n",
    "<li>The role played by a person</li> \n",
    "<li>The result of a business event</li>\n",
    "    <li>Recordkeeping items</li></ul></ul>"
   ]
  },
  {
   "cell_type": "markdown",
   "metadata": {},
   "source": [
    "2.Identify all nouns in the description, each of which is a potential class\n",
    "<ul><li>Should include noun phrases and pronouns </li>\n",
    " <li>Some nouns may appear twice </li>"
   ]
  },
  {
   "cell_type": "markdown",
   "metadata": {},
   "source": [
    "3.Refine the list to include only classes that are relevant to the problem\n",
    "<ul><li>Remove nouns that mean the same thing</li> \n",
    "<li>Remove nouns that represent items that the program does not need to be concerned with</li> \n",
    "<li>Remove nouns that represent objects, not classes</li> \n",
    "<li>Remove nouns that represent simple values that can be assigned to a variable</li> "
   ]
  },
  {
   "cell_type": "markdown",
   "metadata": {},
   "source": [
    "### 5.2.Identifying a Class’s Responsibilities"
   ]
  },
  {
   "cell_type": "markdown",
   "metadata": {},
   "source": [
    "A classes responsibilities are:\n",
    "<ul><li>The things the class is responsible for knowing</li>\n",
    "    <ul><li>Identifying these helps identify the class’s data attributes</li></ul>\n",
    "    <li>The actions the class is responsible for doing</li>\n",
    "<ul><li>Identifying these helps identify the class’s methods</li></ul></ul>\n",
    "To find out a class’s responsibilities look at the problem domain\n",
    "<ul><li>Deduce required information and actions</li></ul>"
   ]
  }
 ],
 "metadata": {
  "kernelspec": {
   "display_name": "Python 3 (ipykernel)",
   "language": "python",
   "name": "python3"
  },
  "language_info": {
   "codemirror_mode": {
    "name": "ipython",
    "version": 3
   },
   "file_extension": ".py",
   "mimetype": "text/x-python",
   "name": "python",
   "nbconvert_exporter": "python",
   "pygments_lexer": "ipython3",
   "version": "3.10.11"
  }
 },
 "nbformat": 4,
 "nbformat_minor": 4
}
