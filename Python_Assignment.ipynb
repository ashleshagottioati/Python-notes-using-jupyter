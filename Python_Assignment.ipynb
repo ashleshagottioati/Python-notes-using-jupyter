{
  "cells": [
    {
      "cell_type": "markdown",
      "metadata": {
        "id": "mZoUvyEJCPjc"
      },
      "source": [
        "### Problem 1:\n",
        "Implement a program that requests three strings from the user. Your\n",
        "program should concatenate the first two strings in the reverse order and compare\n",
        "the concatenated string with the third string. If they are equal, your program\n",
        "should print “They are equal”, otherwise, the program prints “They are not\n",
        "equal”.\n",
        "\n"
      ]
    },
    {
      "cell_type": "markdown",
      "source": [
        "Algorithm:\n",
        "\n",
        "step1: Taking inputs of first, second and third strings\n",
        "\n",
        "step2: Condition to check if concatinated string of strings 2 and 1 is equivalent to third string\n",
        "\n",
        "step3: Print if the strings are equal or not equal\n",
        "\n"
      ],
      "metadata": {
        "id": "WE8saXA7N02c"
      }
    },
    {
      "cell_type": "code",
      "execution_count": null,
      "metadata": {
        "colab": {
          "base_uri": "https://localhost:8080/"
        },
        "id": "xUgpdaKbA7DQ",
        "outputId": "ea138cea-3fa5-4238-a52e-e9a3109288c9"
      },
      "outputs": [
        {
          "name": "stdout",
          "output_type": "stream",
          "text": [
            "Enter first string:hi\n",
            "Enter second string:manoj\n",
            "Enter third string:huuu\n",
            "They are not equal\n"
          ]
        }
      ],
      "source": [
        "#Problem-1 Solution:\n",
        "\n",
        "#Taking inputs of first, second and third strings\n",
        "\n",
        "string_1 = input(\"Enter first string:\")\n",
        "string_2 = input(\"Enter second string:\")\n",
        "string_3 = input(\"Enter third string:\")\n",
        "\n",
        "# Condition to check if concatinated string of strings 2 and 1 is equivalent to third string\n",
        "# and print equal or unequal\n",
        "\n",
        "if string_3 == string_2 + string_1 :\n",
        "  print(\"They are equal\")\n",
        "else :\n",
        "  print(\"They are not equal\")"
      ]
    },
    {
      "cell_type": "markdown",
      "metadata": {
        "id": "C49yLiiGNa2Z"
      },
      "source": [
        "### Problem 2:\n",
        "Write a Python program that reads in 3 integers or 4 integers (user first\n",
        "determines 3 or 4 integers) and displays the following:\n",
        "\n",
        "a. the average of the numbers (two decimal places suggested)\n",
        "\n",
        "b. the maximum of the numbers\n",
        "\n",
        "Do not use Python’s internal functions for average and maximum.\n",
        "\n"
      ]
    },
    {
      "cell_type": "markdown",
      "source": [
        "Algorithm:\n",
        "\n",
        "step1:take the number of inputs\n",
        "\n",
        "step2:if user opts other than 3 or 4, intimate user to select either 3 or 4\n",
        "\n",
        "step3:check if user opts to enter 3 integers and taking inputs for the same\n",
        "\n",
        "step4:Caluculate average of 3 numbers entered and assigning the value to avg\n",
        "\n",
        "step5:Store the entered numbers in the form of a list\n",
        "\n",
        "step6:Sort the numbers in ascending order to find the greatest number\n",
        "\n",
        "step7:As list contains numbers entered in ascending order, last number in list is greatest number\n",
        "\n",
        "step8:Print the Average and greatest of the numbers inserted\n",
        "\n",
        "step9: condition to check if user opts to enter 4 integers and taking inputs for the same\n",
        "\n",
        "step10:Caluculate the average of 4 numbers entered and assigning the value to avg\n",
        "\n",
        "step11: Store the entered numbers in the form of a list\n",
        "\n",
        "step12: Sorting the numbers in ascending order to find the greatest number\n",
        "\n",
        "step13: As list contains numbers entered in ascending order, last number in list is greatest number\n",
        "\n",
        "step14: Print the Average and greatest of the numbers inserted"
      ],
      "metadata": {
        "id": "jpDci4YAN96s"
      }
    },
    {
      "cell_type": "code",
      "execution_count": null,
      "metadata": {
        "colab": {
          "base_uri": "https://localhost:8080/"
        },
        "id": "L5_yjgJACVL5",
        "outputId": "2d49f1ee-4f98-4efc-dfc1-19161bec16e3"
      },
      "outputs": [
        {
          "output_type": "stream",
          "name": "stdout",
          "text": [
            "Enter number of integers you wish to enter (3 or 4):5\n",
            "Enter number of integers among 3 and 4:3\n",
            "Enter first number:1\n",
            "Enter second number:2\n",
            "Enter third number:3\n",
            " Average of 1, 2 and 3 is 2.0\n",
            "greatest among 1, 2 and 3 is 3\n"
          ]
        }
      ],
      "source": [
        "# Problem-2 Solution:\n",
        "\n",
        "# command to take the number of inputs\n",
        "\n",
        "number_of_integers = int(input(\"Enter number of integers you wish to enter (3 or 4):\"))\n",
        "\n",
        "# if user opts other than 3 or 4, intimate user to select either 3 or 4\n",
        "\n",
        "if(number_of_integers !=3 and number_of_integers!=4):\n",
        "  number_of_integers = int(input(\"Enter number of integers among 3 and 4:\"))\n",
        "\n",
        "# condition to check if user opts to enter 3 integers and taking inputs for the same\n",
        "if(number_of_integers==3) :\n",
        "  num_1 = int(input(\"Enter first number:\"))\n",
        "  num_2 = int(input(\"Enter second number:\"))\n",
        "  num_3 = int(input(\"Enter third number:\"))\n",
        "# Caluculating average of 3 numbers entered and assigning the value to avg\n",
        "  avg = (num_1+num_2+num_3)/3\n",
        "# Storing the entered numbers in the form of a list\n",
        "  a = [num_1,num_2,num_3]\n",
        "# Sorting the numbers in ascending order to find the greatest number\n",
        "  b = sorted(a)\n",
        "# As list contains numbers entered in ascending order, last number in list is greatest number\n",
        "  greatest_number = b[-1]\n",
        "# Printing the Average and greatest of the numbers inserted\n",
        "\n",
        "  print(f\" Average of {num_1}, {num_2} and {num_3} is {avg}\")\n",
        "  print(f\"greatest among {num_1}, {num_2} and {num_3} is {greatest_number}\")\n",
        "\n",
        "# # condition to check if user opts to enter 4 integers and taking inputs for the same\n",
        "elif(number_of_integers==4):\n",
        "  num_1 = int(input(\"Enter first number:\"))\n",
        "  num_2 = int(input(\"Enter second number:\"))\n",
        "  num_3 = int(input(\"Enter third number:\"))\n",
        "  num_4 = int(input(\"Enter fourth number:\"))\n",
        "\n",
        "# Caluculating average of 4 numbers entered and assigning the value to avg\n",
        "  avg = (num_1+num_2+num_3+num_4)/4\n",
        "# Storing the entered numbers in the form of a list\n",
        "  a =  [num_1,num_2,num_3,num_4]\n",
        "# Sorting the numbers in ascending order to find the greatest number\n",
        "  b = sorted(a)\n",
        "# As list contains numbers entered in ascending order, last number in list is greatest number\n",
        "  greatest_number = b[-1]\n",
        "# Printing the Average and greatest of the numbers inserted\n",
        "  print(f\"Average of {num_1}, {num_2} , {num_3} and {num_4} is {avg}\")\n",
        "  print(f\"greatest among {num_1}, {num_2}, {num_3} and {num_4} is {greatest_number}\")\n"
      ]
    },
    {
      "cell_type": "markdown",
      "source": [
        "### Problem 3:\n",
        "An integer, greater than 1, that is only divisible by 1 and itself is called\n",
        "a prime number. All other numbers greater than 1 are called composite numbers.\n",
        "\n",
        "The integers 0 and 1 are neither prime nor composite. Write a python program\n",
        "that requests a positive integer from the user, determines if it is a prime,\n",
        "composite or neither prime or composite and prints the message.\n",
        "\n"
      ],
      "metadata": {
        "id": "f54hd3ifUlpu"
      }
    },
    {
      "cell_type": "markdown",
      "source": [
        "Algorithm:\n",
        "\n",
        "step1:Initiate a variable count to 0\n",
        "\n",
        "step2:If user opts other than 3 or 4, intimate user to select either 3 or 4\n",
        "\n",
        "step3:If there is a value error, (if not a positive integer) print the error\n",
        "\n",
        "step4:If the number entered is valid positive integer:\n",
        "\n",
        "step5:Checking if the number is neither prime nor composite and print appropriately\n",
        "\n",
        "step6:Checking if the number is negative, print an error message appropriately\n",
        "\n",
        "step7: Checking if the number is prime, by adding a value to count, on every iteration between 2 and the number if becomes a multiple\n",
        "\n",
        "step8:Printing the left out numbers to be composite"
      ],
      "metadata": {
        "id": "LgjlWWOsOKxe"
      }
    },
    {
      "cell_type": "code",
      "source": [
        "#Problem-3 solution:\n",
        "\n",
        "# initiating a variable count to 0\n",
        "count = 0\n",
        "\n",
        "# using try and except functionality to check if the value entered is not a positive integer\n",
        "try :\n",
        "  number = int(input(\"Enter positive integer:\"))\n",
        "# if there is a value error, (if not a positive integer) print the error\n",
        "except ValueError as error:\n",
        "  print(\"Error: You did not enter a positive integer\")\n",
        "#if the number entered is valid positive integer:\n",
        "else:\n",
        "# checking if the number is neither prime nor composite and print appropriately\n",
        "  if (number == (0 or 1)):\n",
        "    print(\"It is neither prime nor composite\")\n",
        "  elif(number<0):\n",
        "#checking if the number is negative, print an error message appropriately\n",
        "    print(\"Error: You did not enter a positive integer\")\n",
        "# checking if the number is prime, by adding a value to count, on every iteration between 2 and the number if becomes a multiple\n",
        "  elif(number%1 ==0 and number%number == 0):\n",
        "    for i in range (2,number):\n",
        "      if (number%i == 0):\n",
        "        count+=1\n",
        "    if (count==0):\n",
        "          print(\"It is a Prime number\")\n",
        "# Printing the left out numbers to be composite\n",
        "    else :\n",
        "          print(\"It is a composite number\")\n"
      ],
      "metadata": {
        "colab": {
          "base_uri": "https://localhost:8080/"
        },
        "id": "Rbzxox49TeQk",
        "outputId": "2124b6b3-4669-42cf-f62f-c8e1b9861588"
      },
      "execution_count": null,
      "outputs": [
        {
          "output_type": "stream",
          "name": "stdout",
          "text": [
            "Enter positive integer:-2.4\n",
            "Error: You did not enter a positive integer\n"
          ]
        }
      ]
    },
    {
      "cell_type": "markdown",
      "source": [
        "###problem 4:\n",
        "Implement a Python function with 3 arguments called\n",
        "SimpleInterest(Principle, Interest, Years). The arguments are:\n",
        "\n",
        "a. A principle amount (float)\n",
        "b. Interest Rate (0 to 100% as a float)\n",
        "c. Years (integer)\n",
        "\n",
        "Your function should return the simple interest amount.\n",
        "\n",
        "The formula for a simple interest is (Principle*InterestRate*Years)/100\n",
        "\n",
        "Write your function definition in one cell and the function calling code below it or\n",
        "in a different cell in Jupyter Notebook.\n",
        "\n"
      ],
      "metadata": {
        "id": "ZnMytgGAnIrD"
      }
    },
    {
      "cell_type": "markdown",
      "source": [
        "Algorithm:\n",
        "\n",
        "step1: In one cell, define a Python function with 3 arguments called SimpleInterest(Principle, Interest, Years) which returns simple interest when called\n",
        "\n",
        "step2: In an other cell, Take floating point values for principle, interest and term in years\n",
        "\n",
        "step3: Call the function of simple interest which is defined in other cell.\n",
        "\n",
        "step4: Print the simple interest returned by the function of simple interest"
      ],
      "metadata": {
        "id": "nfxvsrFSOSYU"
      }
    },
    {
      "cell_type": "code",
      "source": [
        "#Solution for problem - 4\n",
        "\n",
        "#Python function with 3 arguments called SimpleInterest(Principle, Interest, Years)\n",
        "\n",
        "def simple_interest_function (principle, interest, years) :\n",
        "  simple_interest = (principle*interest*years)/100\n",
        "  return simple_interest\n"
      ],
      "metadata": {
        "id": "4sk-Qee_acfa"
      },
      "execution_count": null,
      "outputs": []
    },
    {
      "cell_type": "code",
      "source": [
        "#Taking inputs for principle, rate of interest, term in years\n",
        "\n",
        "principle = float(input(\"Enter the principle value in $: \"))\n",
        "interest = float(input(\"Enter the interest rate: \"))\n",
        "years = int(input(\"Enter the term in years: \"))\n",
        "\n",
        "#Calling the function for simple interest in other cell as mentioned in the question\n",
        "\n",
        "res = simple_interest_function(principle, interest, years)\n",
        "\n",
        "#Printing the simple interest value\n",
        "\n",
        "print(f\"The simple interest with principle: {principle}$, Interest: {interest} % and term : {years} years is : {res}$\")"
      ],
      "metadata": {
        "colab": {
          "base_uri": "https://localhost:8080/"
        },
        "id": "io9cgoDUTqV8",
        "outputId": "49aafa73-6683-455d-e8c7-73b0701c3dc6"
      },
      "execution_count": null,
      "outputs": [
        {
          "output_type": "stream",
          "name": "stdout",
          "text": [
            "Enter the principle value in $: 4000\n",
            "Enter the interest rate: 3\n",
            "Enter the term in years: 3\n",
            "The simple interest with principle: 4000.0$, Interest: 3.0 % and term : 3 years is : 360.0$\n"
          ]
        }
      ]
    },
    {
      "cell_type": "markdown",
      "source": [
        "### Problem 5:\n",
        "Write a python program for a shopping cart. The program should\n",
        "allow shopper to enter the product name and price. Use loop so that shopper can\n",
        "enter as many inputs as necessary and validate the inputs as product name should\n",
        "be string and price should be more than $0. At the end, the output should\n",
        "• display the total the shopper needs to pay. Use f-string to format the total\n",
        "value for two decimal points and comma.\n",
        "\n",
        "• print the name and price for all the entries with appropriate headings.\n",
        "\n",
        "\n"
      ],
      "metadata": {
        "id": "nVPsRmbgVxNe"
      }
    },
    {
      "cell_type": "markdown",
      "source": [
        "Algorithm:\n",
        "\n",
        "step1: Declare the lists for shopping cart and price and a variable for total price\n",
        "\n",
        "step2: Ask the user if wishes to add an item to the cart using options 'yes' or 'no'\n",
        "\n",
        "step3: If user does not return yes or no, ask the use to re-enter the valid response\n",
        "\n",
        "step4: if the user opts 'yes', define a while loop to add items and prices for the items\n",
        "\n",
        "step5: Take string input for the product name\n",
        "\n",
        "step6: Take a float value for product price\n",
        "\n",
        "step7: If Product price is either 0 or negative, ask user to re-enter valid value\n",
        "\n",
        "step8: If Product price is still 0 or negative, skip the product and ask if user wanna add an other item\n",
        "\n",
        "step9: Take the length of the price list\n",
        "\n",
        "step10: For all the products added to the cart, print the product and price details separating each product with a dotted line\n",
        "\n",
        "step11: Adding all the values in the price list to get the total price\n",
        "\n",
        "step12: print the total price for all the products in the cart"
      ],
      "metadata": {
        "id": "OJsWAWdwOea4"
      }
    },
    {
      "cell_type": "code",
      "source": [
        "#Solution for problem-5\n",
        "\n",
        "# declaring the lists for shopping cart and price and a variable for total price\n",
        "shopping_cart = []\n",
        "price = []\n",
        "total_price = 0\n",
        "\n",
        "# ask the user if wishes to add an item to the cart using options 'yes' or 'no'\n",
        "add_item = input(\"You want to add the item to cart? : (Yes/No) \").lower()\n",
        "\n",
        "# If user does not return yes or no, ask the use to re-enter the valid response\n",
        "if ((add_item != \"yes\") and (add_item != \"no\")):\n",
        "    print(\"Enter valid response\")\n",
        "    add_item= input(\"You want to add the item to cart? : (Yes/No) \").lower()\n",
        "\n",
        "# if the user opts 'yes', defining a while loop to add items and prices for the items\n",
        "while (add_item == 'yes') :\n",
        "# Taking string input for the product name\n",
        "  product_name = input(\"Enter Product name: \")\n",
        "# Taking a product price in floating point format\n",
        "  product_price = float(input(\"Enter Product price: \"))\n",
        "# If Product price is either 0 or negative, ask user to re-enter valid value\n",
        "  if product_price<=0:\n",
        "    print(\"Price should be greater than 0$\")\n",
        "# If Product price is either 0 or negative, asking user to re-enter valid value\n",
        "    product_price = float(input(\"Re-Enter Product price: \"))\n",
        "    if product_price<=0:\n",
        "# If Product price is still 0 or negative, skiping the product and ask if user wanna add an other item\n",
        "      print(\"Price should be greater than 0$. cannot add the product\")\n",
        "    else :\n",
        "      shopping_cart.append(product_name)\n",
        "      price.append(product_price)\n",
        "  else :\n",
        "      shopping_cart.append(product_name)\n",
        "      price.append(product_price)\n",
        "# Asking the user again if wanna add other items\n",
        "  add_item= input(\"You want to add other item to cart? : (Yes/No) \").lower()\n",
        "  if ((add_item != \"yes\") and (add_item != \"no\")):\n",
        "    print(\"Enter valid response\")\n",
        "    add_item= input(\"You want to add the item to cart? : (Yes/No) \").lower()\n",
        "# Taking length of the price list\n",
        "length = len(price)\n",
        "\n",
        "# printing a blank line to make the console output clear and understandable\n",
        "print('')\n",
        "\n",
        "# For all the products added to the cart, printing the product and price details\n",
        "print(\"Product and price details:\")\n",
        "# Adding a dotted line to seggregate each product and price details\n",
        "print('--------------------')\n",
        "for i in range(0,length):\n",
        "  print(f\"Product name : {shopping_cart[i]} \")\n",
        "  print(f\"Product Price: {price[i]} $\")\n",
        "  print('--------------------')\n",
        "\n",
        "# Adding all the values in the price list to get the total price\n",
        "for i in range (0,length):\n",
        "  total_price = total_price + price[i]\n",
        "\n",
        "# printing the total price for all the products in the cart\n",
        "print(f\"total price to be paid : {total_price:.2f}$\" )\n"
      ],
      "metadata": {
        "id": "Dt0yAKrnV7Ed",
        "colab": {
          "base_uri": "https://localhost:8080/"
        },
        "outputId": "960cf826-74bb-4496-f24d-29bb0991e70b"
      },
      "execution_count": 11,
      "outputs": [
        {
          "output_type": "stream",
          "name": "stdout",
          "text": [
            "You want to add the item to cart? : (Yes/No) cap\n",
            "Enter valid response\n",
            "You want to add the item to cart? : (Yes/No) yes\n",
            "Enter Product name: cap\n",
            "Enter Product price: 4.56\n",
            "You want to add other item to cart? : (Yes/No) yes\n",
            "Enter Product name: jacket\n",
            "Enter Product price: 56.00\n",
            "You want to add other item to cart? : (Yes/No) yes\n",
            "Enter Product name: jeans\n",
            "Enter Product price: 35.00\n",
            "You want to add other item to cart? : (Yes/No) yes\n",
            "Enter Product name: shoes\n",
            "Enter Product price: 40\n",
            "You want to add other item to cart? : (Yes/No) no\n",
            "\n",
            "Product and price details:\n",
            "--------------------\n",
            "Product name : cap \n",
            "Product Price: 4.56 $\n",
            "--------------------\n",
            "Product name : jacket \n",
            "Product Price: 56.0 $\n",
            "--------------------\n",
            "Product name : jeans \n",
            "Product Price: 35.0 $\n",
            "--------------------\n",
            "Product name : shoes \n",
            "Product Price: 40.0 $\n",
            "--------------------\n",
            "total price to be paid : 135.56$\n"
          ]
        }
      ]
    },
    {
      "cell_type": "markdown",
      "source": [
        "### Problem 6:\n",
        "“Rock-paper-scissors is a hand game that is played by two people. The\n",
        "players count to three in unison and simultaneously \"throw\" one of three hand\n",
        "signals that correspond to rock, paper or scissors. The winner is determined by the\n",
        "rules:\n",
        "• Rock smashes scissors\n",
        "• Scissors cuts paper\n",
        "• Paper covers rock\n",
        "Rock-paper-scissors is a surprisingly popular game that many people play\n",
        "seriously (see the Wikipedia article for details).\n",
        "Write a Python program to ask the user’s choice of Rock paper scissors. The\n",
        "program then, randomly, chooses a choice for itself (the computer) and then\n",
        "compares it with the user’s choice. The output should show, the user’s choice, the\n",
        "program’s choice and the winner\n"
      ],
      "metadata": {
        "id": "NyB5oyYlg5GR"
      }
    },
    {
      "cell_type": "markdown",
      "source": [
        "Algorithm:\n"
      ],
      "metadata": {
        "id": "5vXLImB4OsgX"
      }
    },
    {
      "cell_type": "code",
      "source": [
        "#Solution for problem-6\n",
        "import pandas as dataframe\n",
        "import random\n",
        "list1 = [\"rock\",\"paper\",\"scissor\"]\n",
        "list2=[]\n",
        "condition = \"yes\"\n",
        "count = 0\n",
        "\n",
        "try:\n",
        "  while condition==\"yes\":\n",
        "    user_input=input(\"Enter your choice:\").lower()\n",
        "    if user_input not in list1:\n",
        "      user_input=input(\"Invalid choice. please enter your choice:\").lower()\n",
        "    computer_input=random.choice(list1)\n",
        "    list2.append((user_input,computer_input))\n",
        "    if user_input==computer_input:\n",
        "      print(f'Computer chooses {computer_input}')\n",
        "      print(\"User and computer tie!\")\n",
        "    elif user_input==\"rock\" and computer_input==\"scissor\":\n",
        "      print(f'Computer chooses {computer_input}')\n",
        "      print(\"You, the user, win!\")\n",
        "    elif user_input==\"rock\" and computer_input==\"paper\":\n",
        "      print(f'Computer chooses {computer_input}')\n",
        "      print(\"the computer, win!\")\n",
        "    elif user_input==\"paper\" and computer_input==\"rock\":\n",
        "      print(f'Computer chooses {computer_input}')\n",
        "      print(\"the computer, win!\")\n",
        "    elif user_input==\"paper\" and computer_input==\"scissor\":\n",
        "      print(f'Computer chooses {computer_input}')\n",
        "      print(\"the computer, win!\")\n",
        "    elif user_input==\"scissor\" and computer_input==\"paper\":\n",
        "      print(f'Computer chooses {computer_input}')\n",
        "      print(\"You, the user, win!\")\n",
        "    elif user_input==\"scissor\" and computer_input==\"rock\":\n",
        "      print(f'Computer chooses {computer_input}')\n",
        "      print(\"the computer, win!\")\n",
        "    count+=1\n",
        "    if(count>=10):\n",
        "      condition=input(\"you want to continue (Yes/No): \").lower()\n",
        "      if condition =='no':\n",
        "        number_of_trials = len(list2)\n",
        "\n",
        "  data=dataframe.DataFrame(list2,columns=[\"   User choice\",\"   Computers choice\"],index=range(1,number_of_trials+1))\n",
        "\n",
        "except Exception as error:\n",
        "  print(error)\n",
        "\n",
        "print(\"--------------------------------\")\n",
        "print(data)\n"
      ],
      "metadata": {
        "id": "Qxh7P-NjhNuh",
        "colab": {
          "base_uri": "https://localhost:8080/"
        },
        "outputId": "07c97e3d-09a8-4d02-b46c-6b384c861b9a"
      },
      "execution_count": 52,
      "outputs": [
        {
          "output_type": "stream",
          "name": "stdout",
          "text": [
            "Enter your choice:rock'\n",
            "Invalid choice. please enter your choice:rock\n",
            "Computer chooses scissor\n",
            "You, the user, win!\n",
            "Enter your choice:paper\n",
            "Computer chooses scissor\n",
            "the computer, win!\n",
            "Enter your choice:scissor\n",
            "Computer chooses scissor\n",
            "User and computer tie!\n",
            "Enter your choice:rock\n",
            "Computer chooses paper\n",
            "the computer, win!\n",
            "Enter your choice:paper\n",
            "Computer chooses scissor\n",
            "the computer, win!\n",
            "Enter your choice:scissor\n",
            "Computer chooses paper\n",
            "You, the user, win!\n",
            "Enter your choice:rock'\n",
            "Invalid choice. please enter your choice:rock\n",
            "Computer chooses rock\n",
            "User and computer tie!\n",
            "Enter your choice:rock\n",
            "Computer chooses scissor\n",
            "You, the user, win!\n",
            "Enter your choice:paper\n",
            "Computer chooses scissor\n",
            "the computer, win!\n",
            "Enter your choice:scissor\n",
            "Computer chooses scissor\n",
            "User and computer tie!\n",
            "you want to continue (Yes/No): yes\n",
            "Enter your choice:rock\n",
            "Computer chooses rock\n",
            "User and computer tie!\n",
            "you want to continue (Yes/No): yes\n",
            "Enter your choice:paper\n",
            "Computer chooses scissor\n",
            "the computer, win!\n",
            "you want to continue (Yes/No): no\n",
            "--------------------------------\n",
            "      User choice    Computers choice\n",
            "1            rock             scissor\n",
            "2           paper             scissor\n",
            "3         scissor             scissor\n",
            "4            rock               paper\n",
            "5           paper             scissor\n",
            "6         scissor               paper\n",
            "7            rock                rock\n",
            "8            rock             scissor\n",
            "9           paper             scissor\n",
            "10        scissor             scissor\n",
            "11           rock                rock\n",
            "12          paper             scissor\n"
          ]
        }
      ]
    },
    {
      "cell_type": "markdown",
      "source": [
        "### Problem 7:\n",
        "Write a program where the user and the program/computer play a\n",
        "number guessing game. The program should prompt the user for a number\n",
        "(between 1 and 100, inclusive) then the program/computer has to guess what the\n",
        "user entered. Keep track of the number of iterations it takes for the computer to\n",
        "guess the number.\n",
        "\n"
      ],
      "metadata": {
        "id": "dg6h4QTihXtr"
      }
    },
    {
      "cell_type": "markdown",
      "source": [
        "Algorithm:\n",
        "\n",
        "step1: importing python builtin function random\n",
        "\n",
        "step2: define a function to caluculate the number of iterations computer took to guess the correct number\n",
        "\n",
        "step3: in the function, use a while loop to count the wrong guesses made by the computer and print the desired output\n",
        "\n",
        "step4: Prompt the user the enter the user input between 1 and 100\n",
        "\n",
        "step5: while user input is not between 0 and 100 ask user to enter valid number\n",
        "\n",
        "step6: call the function to guess the number of iterations computer took to guess the correct number\n",
        "\n",
        "step7: Ask user if wishes to play again\n",
        "\n",
        "step8: if yes, call the function again and ask the user input to play again until user enters no."
      ],
      "metadata": {
        "id": "MkU4EooVPAyb"
      }
    },
    {
      "cell_type": "code",
      "source": [
        "#Solution for Problem 7\n",
        "\n",
        "# importing python builtin function random\n",
        "import random\n",
        "def guess_game(user_input):\n",
        "# Taking computer generated value\n",
        "  computer_input = random.randint(1,100)\n",
        "  count = 1\n",
        "  while(computer_input!=user_input):\n",
        "    count+=1\n",
        "    computer_input = random.randint(1,100)\n",
        "  print(f\"you entered {user_input} and computer took {count} iterations to guess it\")\n",
        "\n",
        "# Taking the user input between 1 and 100\n",
        "user_input = int(input(\"Enter a number, between 1 and 100 :\"))\n",
        "\n",
        "# Validating user input between 1 and 100, if not valid, asking user to input valid\n",
        "while (user_input<=0 or user_input>100):\n",
        "  user_input = int(input(\"Enter a valid number, between 1 and 100 :\"))\n",
        "\n",
        "# for valid input, calling the function guess_game\n",
        "result = guess_game(user_input)\n",
        "\n",
        "# asking user if wishes to play again\n",
        "play_again = input(\"You want to play again? : (yes/no)\")\n",
        "\n",
        "# if yes calling the function again until user prompts no\n",
        "while(play_again == 'yes') :\n",
        "  user_input = int(input(\"Enter a number, between 1 and 100 :\"))\n",
        "# Validating user input between 1 and 100, if not valid, asking user to input valid\n",
        "  if (user_input<=0 and user_input>100):\n",
        "    user_input = int(input(\"Enter a valid number, between 1 and 100 :\"))\n",
        "# Calling the function to count the number of iterations computer took to guess valid number\n",
        "  result = guess_game(user_input)\n",
        "# asking user if wishes to play again\n",
        "  play_again = input(\"You want to play again? : (yes/no)\")\n",
        "\n",
        "\n"
      ],
      "metadata": {
        "id": "CxDTpXIIhRzR",
        "colab": {
          "base_uri": "https://localhost:8080/"
        },
        "outputId": "2bfb1c8f-962e-4fe9-f1b1-bc1bf8758faf"
      },
      "execution_count": 7,
      "outputs": [
        {
          "name": "stdout",
          "output_type": "stream",
          "text": [
            "Enter a number, between 1 and 100 :100\n",
            "you entered 100 and computer took 104 iterations to guess it\n",
            "You want to play again? : (yes/no)yes\n",
            "Enter a number, between 1 and 100 :30\n",
            "you entered 30 and computer took 95 iterations to guess it\n",
            "You want to play again? : (yes/no)yes\n",
            "Enter a number, between 1 and 100 :20\n",
            "you entered 20 and computer took 107 iterations to guess it\n",
            "You want to play again? : (yes/no)no\n"
          ]
        }
      ]
    }
  ],
  "metadata": {
    "colab": {
      "provenance": [],
      "collapsed_sections": [
        "mZoUvyEJCPjc",
        "C49yLiiGNa2Z",
        "f54hd3ifUlpu",
        "ZnMytgGAnIrD",
        "dg6h4QTihXtr"
      ]
    },
    "kernelspec": {
      "display_name": "Python 3",
      "name": "python3"
    },
    "language_info": {
      "name": "python"
    }
  },
  "nbformat": 4,
  "nbformat_minor": 0
}